{
  "nbformat": 4,
  "nbformat_minor": 0,
  "metadata": {
    "colab": {
      "name": "EDA.ipynb",
      "provenance": [],
      "include_colab_link": true
    },
    "kernelspec": {
      "name": "python3",
      "display_name": "Python 3"
    },
    "language_info": {
      "name": "python"
    }
  },
  "cells": [
    {
      "cell_type": "markdown",
      "metadata": {
        "id": "view-in-github",
        "colab_type": "text"
      },
      "source": [
        "<a href=\"https://colab.research.google.com/github/rollways/JD_EDA/blob/main/EDA.ipynb\" target=\"_parent\"><img src=\"https://colab.research.google.com/assets/colab-badge.svg\" alt=\"Open In Colab\"/></a>"
      ]
    },
    {
      "cell_type": "markdown",
      "metadata": {
        "id": "knKh7z1P1g8z"
      },
      "source": [
        "##EDA(資料前處理)"
      ]
    },
    {
      "cell_type": "code",
      "metadata": {
        "id": "uRojrY_l1Vf7"
      },
      "source": [
        "#EDA(資料前處理)\n",
        "import pandas as pd #目前只需要用到這個"
      ],
      "execution_count": 255,
      "outputs": []
    },
    {
      "cell_type": "code",
      "metadata": {
        "id": "De4v4mJT10wH"
      },
      "source": [
        "#給他一個存檔案的變數\n",
        "data = pd.read_csv('/content/drive/MyDrive/T大使/data3_project.csv')"
      ],
      "execution_count": 256,
      "outputs": []
    },
    {
      "cell_type": "code",
      "metadata": {
        "colab": {
          "base_uri": "https://localhost:8080/",
          "height": 0
        },
        "id": "vsPzT-UV2WbQ",
        "outputId": "11ff9b0c-26be-49bc-ea93-588afc318b7b"
      },
      "source": [
        "#如何看資料內檔案：查看roll的前五筆\n",
        "data.head(5)"
      ],
      "execution_count": 257,
      "outputs": [
        {
          "output_type": "execute_result",
          "data": {
            "text/html": [
              "<div>\n",
              "<style scoped>\n",
              "    .dataframe tbody tr th:only-of-type {\n",
              "        vertical-align: middle;\n",
              "    }\n",
              "\n",
              "    .dataframe tbody tr th {\n",
              "        vertical-align: top;\n",
              "    }\n",
              "\n",
              "    .dataframe thead th {\n",
              "        text-align: right;\n",
              "    }\n",
              "</style>\n",
              "<table border=\"1\" class=\"dataframe\">\n",
              "  <thead>\n",
              "    <tr style=\"text-align: right;\">\n",
              "      <th></th>\n",
              "      <th>InvoiceNo</th>\n",
              "      <th>StockCode</th>\n",
              "      <th>Description</th>\n",
              "      <th>Quantity</th>\n",
              "      <th>InvoiceDate</th>\n",
              "      <th>UnitPrice</th>\n",
              "      <th>CustomerID</th>\n",
              "      <th>Country</th>\n",
              "      <th>member_start_date</th>\n",
              "      <th>first_trans_date</th>\n",
              "    </tr>\n",
              "  </thead>\n",
              "  <tbody>\n",
              "    <tr>\n",
              "      <th>0</th>\n",
              "      <td>PS5327001158</td>\n",
              "      <td>JA01</td>\n",
              "      <td>晶淬雪潔顏乳100ml</td>\n",
              "      <td>8.00</td>\n",
              "      <td>2019-01-01</td>\n",
              "      <td>1259.00</td>\n",
              "      <td>9100002488768.00</td>\n",
              "      <td>中區</td>\n",
              "      <td>2019-12-09</td>\n",
              "      <td>2018-06-24</td>\n",
              "    </tr>\n",
              "    <tr>\n",
              "      <th>1</th>\n",
              "      <td>PS5335020955</td>\n",
              "      <td>KG06</td>\n",
              "      <td>多肽亮眼乳霜20g-保濕型</td>\n",
              "      <td>8.00</td>\n",
              "      <td>2019-01-01</td>\n",
              "      <td>839.00</td>\n",
              "      <td>9100002556566.00</td>\n",
              "      <td>中區</td>\n",
              "      <td>2018-10-21</td>\n",
              "      <td>2018-10-21</td>\n",
              "    </tr>\n",
              "    <tr>\n",
              "      <th>2</th>\n",
              "      <td>PS5335020955</td>\n",
              "      <td>BJ102</td>\n",
              "      <td>檸檬精油10ml MUI</td>\n",
              "      <td>8.00</td>\n",
              "      <td>2019-01-01</td>\n",
              "      <td>839.00</td>\n",
              "      <td>9100002556566.00</td>\n",
              "      <td>中區</td>\n",
              "      <td>2018-10-21</td>\n",
              "      <td>2018-10-21</td>\n",
              "    </tr>\n",
              "    <tr>\n",
              "      <th>3</th>\n",
              "      <td>PS5335020955</td>\n",
              "      <td>JZA3G1</td>\n",
              "      <td>柚見快樂精油15ml MUI</td>\n",
              "      <td>-8.00</td>\n",
              "      <td>2019-01-01</td>\n",
              "      <td>-1501.00</td>\n",
              "      <td>9100002556566.00</td>\n",
              "      <td>中區</td>\n",
              "      <td>2018-10-21</td>\n",
              "      <td>2018-10-21</td>\n",
              "    </tr>\n",
              "    <tr>\n",
              "      <th>4</th>\n",
              "      <td>PS5444006919</td>\n",
              "      <td>BJ103</td>\n",
              "      <td>細花冬青香氛油10ml MUI</td>\n",
              "      <td>8.00</td>\n",
              "      <td>2019-01-01</td>\n",
              "      <td>672.00</td>\n",
              "      <td>9100002582077.00</td>\n",
              "      <td>南區</td>\n",
              "      <td>2018-12-04</td>\n",
              "      <td>2018-12-04</td>\n",
              "    </tr>\n",
              "  </tbody>\n",
              "</table>\n",
              "</div>"
            ],
            "text/plain": [
              "      InvoiceNo StockCode  ... member_start_date  first_trans_date\n",
              "0  PS5327001158      JA01  ...        2019-12-09        2018-06-24\n",
              "1  PS5335020955      KG06  ...        2018-10-21        2018-10-21\n",
              "2  PS5335020955     BJ102  ...        2018-10-21        2018-10-21\n",
              "3  PS5335020955    JZA3G1  ...        2018-10-21        2018-10-21\n",
              "4  PS5444006919     BJ103  ...        2018-12-04        2018-12-04\n",
              "\n",
              "[5 rows x 10 columns]"
            ]
          },
          "metadata": {},
          "execution_count": 257
        }
      ]
    },
    {
      "cell_type": "code",
      "metadata": {
        "colab": {
          "base_uri": "https://localhost:8080/",
          "height": 0
        },
        "id": "EvBdiZsq2zgE",
        "outputId": "8ddf0a7e-4ac6-4a2b-a29b-67e3add62a5a"
      },
      "source": [
        "#看後五筆\n",
        "data.tail(5)"
      ],
      "execution_count": 258,
      "outputs": [
        {
          "output_type": "execute_result",
          "data": {
            "text/html": [
              "<div>\n",
              "<style scoped>\n",
              "    .dataframe tbody tr th:only-of-type {\n",
              "        vertical-align: middle;\n",
              "    }\n",
              "\n",
              "    .dataframe tbody tr th {\n",
              "        vertical-align: top;\n",
              "    }\n",
              "\n",
              "    .dataframe thead th {\n",
              "        text-align: right;\n",
              "    }\n",
              "</style>\n",
              "<table border=\"1\" class=\"dataframe\">\n",
              "  <thead>\n",
              "    <tr style=\"text-align: right;\">\n",
              "      <th></th>\n",
              "      <th>InvoiceNo</th>\n",
              "      <th>StockCode</th>\n",
              "      <th>Description</th>\n",
              "      <th>Quantity</th>\n",
              "      <th>InvoiceDate</th>\n",
              "      <th>UnitPrice</th>\n",
              "      <th>CustomerID</th>\n",
              "      <th>Country</th>\n",
              "      <th>member_start_date</th>\n",
              "      <th>first_trans_date</th>\n",
              "    </tr>\n",
              "  </thead>\n",
              "  <tbody>\n",
              "    <tr>\n",
              "      <th>1404430</th>\n",
              "      <td>PS5324024941</td>\n",
              "      <td>KQ02</td>\n",
              "      <td>玫瑰晶萃活膚液130ml</td>\n",
              "      <td>16.00</td>\n",
              "      <td>2020-12-31</td>\n",
              "      <td>2946.00</td>\n",
              "      <td>9100000595826.00</td>\n",
              "      <td>中區</td>\n",
              "      <td>2010-03-15</td>\n",
              "      <td>2012-07-11</td>\n",
              "    </tr>\n",
              "    <tr>\n",
              "      <th>1404431</th>\n",
              "      <td>PS5219002027</td>\n",
              "      <td>GAXFG1</td>\n",
              "      <td>真正除臭抗菌噴霧(銀離子迷迭香)250ml</td>\n",
              "      <td>8.00</td>\n",
              "      <td>2020-12-31</td>\n",
              "      <td>309.00</td>\n",
              "      <td>9100003028369.00</td>\n",
              "      <td>竹區</td>\n",
              "      <td>2020-12-08</td>\n",
              "      <td>2020-11-26</td>\n",
              "    </tr>\n",
              "    <tr>\n",
              "      <th>1404432</th>\n",
              "      <td>PS5219002027</td>\n",
              "      <td>MAB2G1</td>\n",
              "      <td>BA-5肌密全效噴霧奇蹟水70ml</td>\n",
              "      <td>8.00</td>\n",
              "      <td>2020-12-31</td>\n",
              "      <td>1094.00</td>\n",
              "      <td>9100003028369.00</td>\n",
              "      <td>竹區</td>\n",
              "      <td>2020-12-08</td>\n",
              "      <td>2020-11-26</td>\n",
              "    </tr>\n",
              "    <tr>\n",
              "      <th>1404433</th>\n",
              "      <td>PS5219002027</td>\n",
              "      <td>WD096</td>\n",
              "      <td>緊緻保濕裸膚羽翼面膜25ml-零售單包</td>\n",
              "      <td>16.00</td>\n",
              "      <td>2020-12-31</td>\n",
              "      <td>165.00</td>\n",
              "      <td>9100003028369.00</td>\n",
              "      <td>竹區</td>\n",
              "      <td>2020-12-08</td>\n",
              "      <td>2020-11-26</td>\n",
              "    </tr>\n",
              "    <tr>\n",
              "      <th>1404434</th>\n",
              "      <td>PS5219002028</td>\n",
              "      <td>GAXFG2</td>\n",
              "      <td>真正除臭抗菌噴霧(銀離子迷迭香)350ml</td>\n",
              "      <td>8.00</td>\n",
              "      <td>2020-12-31</td>\n",
              "      <td>441.00</td>\n",
              "      <td>9100003039464.00</td>\n",
              "      <td>竹區</td>\n",
              "      <td>2020-12-23</td>\n",
              "      <td>2020-12-10</td>\n",
              "    </tr>\n",
              "  </tbody>\n",
              "</table>\n",
              "</div>"
            ],
            "text/plain": [
              "            InvoiceNo StockCode  ... member_start_date  first_trans_date\n",
              "1404430  PS5324024941      KQ02  ...        2010-03-15        2012-07-11\n",
              "1404431  PS5219002027    GAXFG1  ...        2020-12-08        2020-11-26\n",
              "1404432  PS5219002027    MAB2G1  ...        2020-12-08        2020-11-26\n",
              "1404433  PS5219002027     WD096  ...        2020-12-08        2020-11-26\n",
              "1404434  PS5219002028    GAXFG2  ...        2020-12-23        2020-12-10\n",
              "\n",
              "[5 rows x 10 columns]"
            ]
          },
          "metadata": {},
          "execution_count": 258
        }
      ]
    },
    {
      "cell_type": "code",
      "metadata": {
        "colab": {
          "base_uri": "https://localhost:8080/"
        },
        "id": "LVWs5qv62_2K",
        "outputId": "6582f617-cacb-4a75-f3e4-22b4f2250d2d"
      },
      "source": [
        "#查看檔案的型態：詳細資料中的資料型態\n",
        "#not type(data)\n",
        "data.info()"
      ],
      "execution_count": 259,
      "outputs": [
        {
          "output_type": "stream",
          "name": "stdout",
          "text": [
            "<class 'pandas.core.frame.DataFrame'>\n",
            "RangeIndex: 1404435 entries, 0 to 1404434\n",
            "Data columns (total 10 columns):\n",
            " #   Column             Non-Null Count    Dtype  \n",
            "---  ------             --------------    -----  \n",
            " 0   InvoiceNo          1404435 non-null  object \n",
            " 1   StockCode          1404435 non-null  object \n",
            " 2   Description        1404435 non-null  object \n",
            " 3   Quantity           1404435 non-null  float64\n",
            " 4   InvoiceDate        1404435 non-null  object \n",
            " 5   UnitPrice          1404435 non-null  float64\n",
            " 6   CustomerID         1403724 non-null  float64\n",
            " 7   Country            1404435 non-null  object \n",
            " 8   member_start_date  1366651 non-null  object \n",
            " 9   first_trans_date   1400412 non-null  object \n",
            "dtypes: float64(3), object(7)\n",
            "memory usage: 107.2+ MB\n"
          ]
        }
      ]
    },
    {
      "cell_type": "code",
      "metadata": {
        "colab": {
          "base_uri": "https://localhost:8080/"
        },
        "id": "KzJ6EHAL8Vxl",
        "outputId": "01f7162e-27db-45cc-b385-199bbde0e92a"
      },
      "source": [
        "from google.colab import drive\n",
        "drive.mount('/content/drive')"
      ],
      "execution_count": 260,
      "outputs": [
        {
          "output_type": "stream",
          "name": "stdout",
          "text": [
            "Drive already mounted at /content/drive; to attempt to forcibly remount, call drive.mount(\"/content/drive\", force_remount=True).\n"
          ]
        }
      ]
    },
    {
      "cell_type": "code",
      "metadata": {
        "colab": {
          "base_uri": "https://localhost:8080/"
        },
        "id": "kodETRLz868S",
        "outputId": "5d21ad16-f7a5-4d03-970b-b8c230f80e3c"
      },
      "source": [
        "from google.colab import drive\n",
        "drive.mount('/content/drive')"
      ],
      "execution_count": 261,
      "outputs": [
        {
          "output_type": "stream",
          "name": "stdout",
          "text": [
            "Drive already mounted at /content/drive; to attempt to forcibly remount, call drive.mount(\"/content/drive\", force_remount=True).\n"
          ]
        }
      ]
    },
    {
      "cell_type": "code",
      "metadata": {
        "colab": {
          "base_uri": "https://localhost:8080/"
        },
        "id": "kp7XSfpZ34Qq",
        "outputId": "713aee69-066d-4b89-a941-30196831895f"
      },
      "source": [
        "#float64=數值 \n",
        "data.shape #1百多萬筆資料以及有10個column"
      ],
      "execution_count": 262,
      "outputs": [
        {
          "output_type": "execute_result",
          "data": {
            "text/plain": [
              "(1404435, 10)"
            ]
          },
          "metadata": {},
          "execution_count": 262
        }
      ]
    },
    {
      "cell_type": "code",
      "metadata": {
        "colab": {
          "base_uri": "https://localhost:8080/"
        },
        "id": "VoTsUF554JEA",
        "outputId": "21322be5-b4bf-4d17-d0ff-0fddb8b5fee4"
      },
      "source": [
        "data.Description.value_counts() #針對欄位為object形式查看 此為pd中函式,資料前處理蠻常使用"
      ],
      "execution_count": 263,
      "outputs": [
        {
          "output_type": "execute_result",
          "data": {
            "text/plain": [
              "全背順氣活力SPA課程單堂             58636\n",
              "清除環境中腸病毒濕紙巾10抽            52599\n",
              "plus5智頻美塑儀課程單堂            46660\n",
              "(新)溫熱刮痧課程單堂               34129\n",
              "全身健康優化SPA課程單堂             33770\n",
              "                          ...  \n",
              "精準無痕BOTOX(員工特惠)90U            1\n",
              "45格精油木盒                       1\n",
              "精準無痕保堤拉(單堂會員)100U             1\n",
              "老五老基金會SPA體驗3選1                1\n",
              "EXENCE甦活精油精華液(1劑)6ml*6        1\n",
              "Name: Description, Length: 870, dtype: int64"
            ]
          },
          "metadata": {},
          "execution_count": 263
        }
      ]
    },
    {
      "cell_type": "code",
      "metadata": {
        "colab": {
          "base_uri": "https://localhost:8080/"
        },
        "id": "o9qGSmlB4u7O",
        "outputId": "939d21ed-6693-47fa-c4f1-31cbd89fdadf"
      },
      "source": [
        "#data.Quantity.value_counts() 不常使用\n",
        "data.Country.value_counts() #通常可查看欄位為物件(中文)的資訊"
      ],
      "execution_count": 264,
      "outputs": [
        {
          "output_type": "execute_result",
          "data": {
            "text/plain": [
              "中區      286162\n",
              "高屏全區    240244\n",
              "台北A區    215051\n",
              "台北B區    206350\n",
              "南區      154843\n",
              "竹區      147998\n",
              "彰雲區     138562\n",
              "佐登微爾      8108\n",
              "總管理處      7117\n",
              "Name: Country, dtype: int64"
            ]
          },
          "metadata": {},
          "execution_count": 264
        }
      ]
    },
    {
      "cell_type": "code",
      "metadata": {
        "colab": {
          "base_uri": "https://localhost:8080/",
          "height": 0
        },
        "id": "aWBzjoBE4-ey",
        "outputId": "ae6cc688-6375-4e9c-b84e-ac230faa1ea8"
      },
      "source": [
        "#練習：抓出數量大於2的...\n",
        "data[['StockCode','Description','Quantity','InvoiceDate','UnitPrice']] #看一筆資料時使用['object'],多筆時使用[['','',...]]"
      ],
      "execution_count": 265,
      "outputs": [
        {
          "output_type": "execute_result",
          "data": {
            "text/html": [
              "<div>\n",
              "<style scoped>\n",
              "    .dataframe tbody tr th:only-of-type {\n",
              "        vertical-align: middle;\n",
              "    }\n",
              "\n",
              "    .dataframe tbody tr th {\n",
              "        vertical-align: top;\n",
              "    }\n",
              "\n",
              "    .dataframe thead th {\n",
              "        text-align: right;\n",
              "    }\n",
              "</style>\n",
              "<table border=\"1\" class=\"dataframe\">\n",
              "  <thead>\n",
              "    <tr style=\"text-align: right;\">\n",
              "      <th></th>\n",
              "      <th>StockCode</th>\n",
              "      <th>Description</th>\n",
              "      <th>Quantity</th>\n",
              "      <th>InvoiceDate</th>\n",
              "      <th>UnitPrice</th>\n",
              "    </tr>\n",
              "  </thead>\n",
              "  <tbody>\n",
              "    <tr>\n",
              "      <th>0</th>\n",
              "      <td>JA01</td>\n",
              "      <td>晶淬雪潔顏乳100ml</td>\n",
              "      <td>8.00</td>\n",
              "      <td>2019-01-01</td>\n",
              "      <td>1259.00</td>\n",
              "    </tr>\n",
              "    <tr>\n",
              "      <th>1</th>\n",
              "      <td>KG06</td>\n",
              "      <td>多肽亮眼乳霜20g-保濕型</td>\n",
              "      <td>8.00</td>\n",
              "      <td>2019-01-01</td>\n",
              "      <td>839.00</td>\n",
              "    </tr>\n",
              "    <tr>\n",
              "      <th>2</th>\n",
              "      <td>BJ102</td>\n",
              "      <td>檸檬精油10ml MUI</td>\n",
              "      <td>8.00</td>\n",
              "      <td>2019-01-01</td>\n",
              "      <td>839.00</td>\n",
              "    </tr>\n",
              "    <tr>\n",
              "      <th>3</th>\n",
              "      <td>JZA3G1</td>\n",
              "      <td>柚見快樂精油15ml MUI</td>\n",
              "      <td>-8.00</td>\n",
              "      <td>2019-01-01</td>\n",
              "      <td>-1501.00</td>\n",
              "    </tr>\n",
              "    <tr>\n",
              "      <th>4</th>\n",
              "      <td>BJ103</td>\n",
              "      <td>細花冬青香氛油10ml MUI</td>\n",
              "      <td>8.00</td>\n",
              "      <td>2019-01-01</td>\n",
              "      <td>672.00</td>\n",
              "    </tr>\n",
              "    <tr>\n",
              "      <th>...</th>\n",
              "      <td>...</td>\n",
              "      <td>...</td>\n",
              "      <td>...</td>\n",
              "      <td>...</td>\n",
              "      <td>...</td>\n",
              "    </tr>\n",
              "    <tr>\n",
              "      <th>1404430</th>\n",
              "      <td>KQ02</td>\n",
              "      <td>玫瑰晶萃活膚液130ml</td>\n",
              "      <td>16.00</td>\n",
              "      <td>2020-12-31</td>\n",
              "      <td>2946.00</td>\n",
              "    </tr>\n",
              "    <tr>\n",
              "      <th>1404431</th>\n",
              "      <td>GAXFG1</td>\n",
              "      <td>真正除臭抗菌噴霧(銀離子迷迭香)250ml</td>\n",
              "      <td>8.00</td>\n",
              "      <td>2020-12-31</td>\n",
              "      <td>309.00</td>\n",
              "    </tr>\n",
              "    <tr>\n",
              "      <th>1404432</th>\n",
              "      <td>MAB2G1</td>\n",
              "      <td>BA-5肌密全效噴霧奇蹟水70ml</td>\n",
              "      <td>8.00</td>\n",
              "      <td>2020-12-31</td>\n",
              "      <td>1094.00</td>\n",
              "    </tr>\n",
              "    <tr>\n",
              "      <th>1404433</th>\n",
              "      <td>WD096</td>\n",
              "      <td>緊緻保濕裸膚羽翼面膜25ml-零售單包</td>\n",
              "      <td>16.00</td>\n",
              "      <td>2020-12-31</td>\n",
              "      <td>165.00</td>\n",
              "    </tr>\n",
              "    <tr>\n",
              "      <th>1404434</th>\n",
              "      <td>GAXFG2</td>\n",
              "      <td>真正除臭抗菌噴霧(銀離子迷迭香)350ml</td>\n",
              "      <td>8.00</td>\n",
              "      <td>2020-12-31</td>\n",
              "      <td>441.00</td>\n",
              "    </tr>\n",
              "  </tbody>\n",
              "</table>\n",
              "<p>1404435 rows × 5 columns</p>\n",
              "</div>"
            ],
            "text/plain": [
              "        StockCode            Description  Quantity InvoiceDate  UnitPrice\n",
              "0            JA01            晶淬雪潔顏乳100ml      8.00  2019-01-01    1259.00\n",
              "1            KG06          多肽亮眼乳霜20g-保濕型      8.00  2019-01-01     839.00\n",
              "2           BJ102           檸檬精油10ml MUI      8.00  2019-01-01     839.00\n",
              "3          JZA3G1         柚見快樂精油15ml MUI     -8.00  2019-01-01   -1501.00\n",
              "4           BJ103        細花冬青香氛油10ml MUI      8.00  2019-01-01     672.00\n",
              "...           ...                    ...       ...         ...        ...\n",
              "1404430      KQ02           玫瑰晶萃活膚液130ml     16.00  2020-12-31    2946.00\n",
              "1404431    GAXFG1  真正除臭抗菌噴霧(銀離子迷迭香)250ml      8.00  2020-12-31     309.00\n",
              "1404432    MAB2G1      BA-5肌密全效噴霧奇蹟水70ml      8.00  2020-12-31    1094.00\n",
              "1404433     WD096    緊緻保濕裸膚羽翼面膜25ml-零售單包     16.00  2020-12-31     165.00\n",
              "1404434    GAXFG2  真正除臭抗菌噴霧(銀離子迷迭香)350ml      8.00  2020-12-31     441.00\n",
              "\n",
              "[1404435 rows x 5 columns]"
            ]
          },
          "metadata": {},
          "execution_count": 265
        }
      ]
    },
    {
      "cell_type": "code",
      "metadata": {
        "colab": {
          "base_uri": "https://localhost:8080/",
          "height": 0
        },
        "id": "0vLIJl5S5ubh",
        "outputId": "0680aa19-0831-42dd-ab4e-f0f306a7df76"
      },
      "source": [
        "#如何寫『大於2』呢？\n",
        "data[data['Quantity']>2]"
      ],
      "execution_count": 266,
      "outputs": [
        {
          "output_type": "execute_result",
          "data": {
            "text/html": [
              "<div>\n",
              "<style scoped>\n",
              "    .dataframe tbody tr th:only-of-type {\n",
              "        vertical-align: middle;\n",
              "    }\n",
              "\n",
              "    .dataframe tbody tr th {\n",
              "        vertical-align: top;\n",
              "    }\n",
              "\n",
              "    .dataframe thead th {\n",
              "        text-align: right;\n",
              "    }\n",
              "</style>\n",
              "<table border=\"1\" class=\"dataframe\">\n",
              "  <thead>\n",
              "    <tr style=\"text-align: right;\">\n",
              "      <th></th>\n",
              "      <th>InvoiceNo</th>\n",
              "      <th>StockCode</th>\n",
              "      <th>Description</th>\n",
              "      <th>Quantity</th>\n",
              "      <th>InvoiceDate</th>\n",
              "      <th>UnitPrice</th>\n",
              "      <th>CustomerID</th>\n",
              "      <th>Country</th>\n",
              "      <th>member_start_date</th>\n",
              "      <th>first_trans_date</th>\n",
              "    </tr>\n",
              "  </thead>\n",
              "  <tbody>\n",
              "    <tr>\n",
              "      <th>0</th>\n",
              "      <td>PS5327001158</td>\n",
              "      <td>JA01</td>\n",
              "      <td>晶淬雪潔顏乳100ml</td>\n",
              "      <td>8.00</td>\n",
              "      <td>2019-01-01</td>\n",
              "      <td>1259.00</td>\n",
              "      <td>9100002488768.00</td>\n",
              "      <td>中區</td>\n",
              "      <td>2019-12-09</td>\n",
              "      <td>2018-06-24</td>\n",
              "    </tr>\n",
              "    <tr>\n",
              "      <th>1</th>\n",
              "      <td>PS5335020955</td>\n",
              "      <td>KG06</td>\n",
              "      <td>多肽亮眼乳霜20g-保濕型</td>\n",
              "      <td>8.00</td>\n",
              "      <td>2019-01-01</td>\n",
              "      <td>839.00</td>\n",
              "      <td>9100002556566.00</td>\n",
              "      <td>中區</td>\n",
              "      <td>2018-10-21</td>\n",
              "      <td>2018-10-21</td>\n",
              "    </tr>\n",
              "    <tr>\n",
              "      <th>2</th>\n",
              "      <td>PS5335020955</td>\n",
              "      <td>BJ102</td>\n",
              "      <td>檸檬精油10ml MUI</td>\n",
              "      <td>8.00</td>\n",
              "      <td>2019-01-01</td>\n",
              "      <td>839.00</td>\n",
              "      <td>9100002556566.00</td>\n",
              "      <td>中區</td>\n",
              "      <td>2018-10-21</td>\n",
              "      <td>2018-10-21</td>\n",
              "    </tr>\n",
              "    <tr>\n",
              "      <th>4</th>\n",
              "      <td>PS5444006919</td>\n",
              "      <td>BJ103</td>\n",
              "      <td>細花冬青香氛油10ml MUI</td>\n",
              "      <td>8.00</td>\n",
              "      <td>2019-01-01</td>\n",
              "      <td>672.00</td>\n",
              "      <td>9100002582077.00</td>\n",
              "      <td>南區</td>\n",
              "      <td>2018-12-04</td>\n",
              "      <td>2018-12-04</td>\n",
              "    </tr>\n",
              "    <tr>\n",
              "      <th>5</th>\n",
              "      <td>PS5444006920</td>\n",
              "      <td>K8018</td>\n",
              "      <td>植粹養護潤髮乳475ml</td>\n",
              "      <td>8.00</td>\n",
              "      <td>2019-01-01</td>\n",
              "      <td>549.00</td>\n",
              "      <td>9100002426142.00</td>\n",
              "      <td>南區</td>\n",
              "      <td>2017-12-19</td>\n",
              "      <td>2017-12-19</td>\n",
              "    </tr>\n",
              "    <tr>\n",
              "      <th>...</th>\n",
              "      <td>...</td>\n",
              "      <td>...</td>\n",
              "      <td>...</td>\n",
              "      <td>...</td>\n",
              "      <td>...</td>\n",
              "      <td>...</td>\n",
              "      <td>...</td>\n",
              "      <td>...</td>\n",
              "      <td>...</td>\n",
              "      <td>...</td>\n",
              "    </tr>\n",
              "    <tr>\n",
              "      <th>1404430</th>\n",
              "      <td>PS5324024941</td>\n",
              "      <td>KQ02</td>\n",
              "      <td>玫瑰晶萃活膚液130ml</td>\n",
              "      <td>16.00</td>\n",
              "      <td>2020-12-31</td>\n",
              "      <td>2946.00</td>\n",
              "      <td>9100000595826.00</td>\n",
              "      <td>中區</td>\n",
              "      <td>2010-03-15</td>\n",
              "      <td>2012-07-11</td>\n",
              "    </tr>\n",
              "    <tr>\n",
              "      <th>1404431</th>\n",
              "      <td>PS5219002027</td>\n",
              "      <td>GAXFG1</td>\n",
              "      <td>真正除臭抗菌噴霧(銀離子迷迭香)250ml</td>\n",
              "      <td>8.00</td>\n",
              "      <td>2020-12-31</td>\n",
              "      <td>309.00</td>\n",
              "      <td>9100003028369.00</td>\n",
              "      <td>竹區</td>\n",
              "      <td>2020-12-08</td>\n",
              "      <td>2020-11-26</td>\n",
              "    </tr>\n",
              "    <tr>\n",
              "      <th>1404432</th>\n",
              "      <td>PS5219002027</td>\n",
              "      <td>MAB2G1</td>\n",
              "      <td>BA-5肌密全效噴霧奇蹟水70ml</td>\n",
              "      <td>8.00</td>\n",
              "      <td>2020-12-31</td>\n",
              "      <td>1094.00</td>\n",
              "      <td>9100003028369.00</td>\n",
              "      <td>竹區</td>\n",
              "      <td>2020-12-08</td>\n",
              "      <td>2020-11-26</td>\n",
              "    </tr>\n",
              "    <tr>\n",
              "      <th>1404433</th>\n",
              "      <td>PS5219002027</td>\n",
              "      <td>WD096</td>\n",
              "      <td>緊緻保濕裸膚羽翼面膜25ml-零售單包</td>\n",
              "      <td>16.00</td>\n",
              "      <td>2020-12-31</td>\n",
              "      <td>165.00</td>\n",
              "      <td>9100003028369.00</td>\n",
              "      <td>竹區</td>\n",
              "      <td>2020-12-08</td>\n",
              "      <td>2020-11-26</td>\n",
              "    </tr>\n",
              "    <tr>\n",
              "      <th>1404434</th>\n",
              "      <td>PS5219002028</td>\n",
              "      <td>GAXFG2</td>\n",
              "      <td>真正除臭抗菌噴霧(銀離子迷迭香)350ml</td>\n",
              "      <td>8.00</td>\n",
              "      <td>2020-12-31</td>\n",
              "      <td>441.00</td>\n",
              "      <td>9100003039464.00</td>\n",
              "      <td>竹區</td>\n",
              "      <td>2020-12-23</td>\n",
              "      <td>2020-12-10</td>\n",
              "    </tr>\n",
              "  </tbody>\n",
              "</table>\n",
              "<p>1397796 rows × 10 columns</p>\n",
              "</div>"
            ],
            "text/plain": [
              "            InvoiceNo StockCode  ... member_start_date  first_trans_date\n",
              "0        PS5327001158      JA01  ...        2019-12-09        2018-06-24\n",
              "1        PS5335020955      KG06  ...        2018-10-21        2018-10-21\n",
              "2        PS5335020955     BJ102  ...        2018-10-21        2018-10-21\n",
              "4        PS5444006919     BJ103  ...        2018-12-04        2018-12-04\n",
              "5        PS5444006920     K8018  ...        2017-12-19        2017-12-19\n",
              "...               ...       ...  ...               ...               ...\n",
              "1404430  PS5324024941      KQ02  ...        2010-03-15        2012-07-11\n",
              "1404431  PS5219002027    GAXFG1  ...        2020-12-08        2020-11-26\n",
              "1404432  PS5219002027    MAB2G1  ...        2020-12-08        2020-11-26\n",
              "1404433  PS5219002027     WD096  ...        2020-12-08        2020-11-26\n",
              "1404434  PS5219002028    GAXFG2  ...        2020-12-23        2020-12-10\n",
              "\n",
              "[1397796 rows x 10 columns]"
            ]
          },
          "metadata": {},
          "execution_count": 266
        }
      ]
    },
    {
      "cell_type": "code",
      "metadata": {
        "colab": {
          "base_uri": "https://localhost:8080/",
          "height": 0
        },
        "id": "9xohFWqA6p94",
        "outputId": "b78c5c30-a3e9-4205-cb7d-9b0c9f07a1fc"
      },
      "source": [
        "#那如何兩個條件都達成呢？ 答：新增一個變數後再設一次條件\n",
        "data1 = data[['StockCode','Description','Quantity','InvoiceDate','UnitPrice']]\n",
        "data1[data1['Quantity']>2]"
      ],
      "execution_count": 267,
      "outputs": [
        {
          "output_type": "execute_result",
          "data": {
            "text/html": [
              "<div>\n",
              "<style scoped>\n",
              "    .dataframe tbody tr th:only-of-type {\n",
              "        vertical-align: middle;\n",
              "    }\n",
              "\n",
              "    .dataframe tbody tr th {\n",
              "        vertical-align: top;\n",
              "    }\n",
              "\n",
              "    .dataframe thead th {\n",
              "        text-align: right;\n",
              "    }\n",
              "</style>\n",
              "<table border=\"1\" class=\"dataframe\">\n",
              "  <thead>\n",
              "    <tr style=\"text-align: right;\">\n",
              "      <th></th>\n",
              "      <th>StockCode</th>\n",
              "      <th>Description</th>\n",
              "      <th>Quantity</th>\n",
              "      <th>InvoiceDate</th>\n",
              "      <th>UnitPrice</th>\n",
              "    </tr>\n",
              "  </thead>\n",
              "  <tbody>\n",
              "    <tr>\n",
              "      <th>0</th>\n",
              "      <td>JA01</td>\n",
              "      <td>晶淬雪潔顏乳100ml</td>\n",
              "      <td>8.00</td>\n",
              "      <td>2019-01-01</td>\n",
              "      <td>1259.00</td>\n",
              "    </tr>\n",
              "    <tr>\n",
              "      <th>1</th>\n",
              "      <td>KG06</td>\n",
              "      <td>多肽亮眼乳霜20g-保濕型</td>\n",
              "      <td>8.00</td>\n",
              "      <td>2019-01-01</td>\n",
              "      <td>839.00</td>\n",
              "    </tr>\n",
              "    <tr>\n",
              "      <th>2</th>\n",
              "      <td>BJ102</td>\n",
              "      <td>檸檬精油10ml MUI</td>\n",
              "      <td>8.00</td>\n",
              "      <td>2019-01-01</td>\n",
              "      <td>839.00</td>\n",
              "    </tr>\n",
              "    <tr>\n",
              "      <th>4</th>\n",
              "      <td>BJ103</td>\n",
              "      <td>細花冬青香氛油10ml MUI</td>\n",
              "      <td>8.00</td>\n",
              "      <td>2019-01-01</td>\n",
              "      <td>672.00</td>\n",
              "    </tr>\n",
              "    <tr>\n",
              "      <th>5</th>\n",
              "      <td>K8018</td>\n",
              "      <td>植粹養護潤髮乳475ml</td>\n",
              "      <td>8.00</td>\n",
              "      <td>2019-01-01</td>\n",
              "      <td>549.00</td>\n",
              "    </tr>\n",
              "    <tr>\n",
              "      <th>...</th>\n",
              "      <td>...</td>\n",
              "      <td>...</td>\n",
              "      <td>...</td>\n",
              "      <td>...</td>\n",
              "      <td>...</td>\n",
              "    </tr>\n",
              "    <tr>\n",
              "      <th>1404430</th>\n",
              "      <td>KQ02</td>\n",
              "      <td>玫瑰晶萃活膚液130ml</td>\n",
              "      <td>16.00</td>\n",
              "      <td>2020-12-31</td>\n",
              "      <td>2946.00</td>\n",
              "    </tr>\n",
              "    <tr>\n",
              "      <th>1404431</th>\n",
              "      <td>GAXFG1</td>\n",
              "      <td>真正除臭抗菌噴霧(銀離子迷迭香)250ml</td>\n",
              "      <td>8.00</td>\n",
              "      <td>2020-12-31</td>\n",
              "      <td>309.00</td>\n",
              "    </tr>\n",
              "    <tr>\n",
              "      <th>1404432</th>\n",
              "      <td>MAB2G1</td>\n",
              "      <td>BA-5肌密全效噴霧奇蹟水70ml</td>\n",
              "      <td>8.00</td>\n",
              "      <td>2020-12-31</td>\n",
              "      <td>1094.00</td>\n",
              "    </tr>\n",
              "    <tr>\n",
              "      <th>1404433</th>\n",
              "      <td>WD096</td>\n",
              "      <td>緊緻保濕裸膚羽翼面膜25ml-零售單包</td>\n",
              "      <td>16.00</td>\n",
              "      <td>2020-12-31</td>\n",
              "      <td>165.00</td>\n",
              "    </tr>\n",
              "    <tr>\n",
              "      <th>1404434</th>\n",
              "      <td>GAXFG2</td>\n",
              "      <td>真正除臭抗菌噴霧(銀離子迷迭香)350ml</td>\n",
              "      <td>8.00</td>\n",
              "      <td>2020-12-31</td>\n",
              "      <td>441.00</td>\n",
              "    </tr>\n",
              "  </tbody>\n",
              "</table>\n",
              "<p>1397796 rows × 5 columns</p>\n",
              "</div>"
            ],
            "text/plain": [
              "        StockCode            Description  Quantity InvoiceDate  UnitPrice\n",
              "0            JA01            晶淬雪潔顏乳100ml      8.00  2019-01-01    1259.00\n",
              "1            KG06          多肽亮眼乳霜20g-保濕型      8.00  2019-01-01     839.00\n",
              "2           BJ102           檸檬精油10ml MUI      8.00  2019-01-01     839.00\n",
              "4           BJ103        細花冬青香氛油10ml MUI      8.00  2019-01-01     672.00\n",
              "5           K8018           植粹養護潤髮乳475ml      8.00  2019-01-01     549.00\n",
              "...           ...                    ...       ...         ...        ...\n",
              "1404430      KQ02           玫瑰晶萃活膚液130ml     16.00  2020-12-31    2946.00\n",
              "1404431    GAXFG1  真正除臭抗菌噴霧(銀離子迷迭香)250ml      8.00  2020-12-31     309.00\n",
              "1404432    MAB2G1      BA-5肌密全效噴霧奇蹟水70ml      8.00  2020-12-31    1094.00\n",
              "1404433     WD096    緊緻保濕裸膚羽翼面膜25ml-零售單包     16.00  2020-12-31     165.00\n",
              "1404434    GAXFG2  真正除臭抗菌噴霧(銀離子迷迭香)350ml      8.00  2020-12-31     441.00\n",
              "\n",
              "[1397796 rows x 5 columns]"
            ]
          },
          "metadata": {},
          "execution_count": 267
        }
      ]
    },
    {
      "cell_type": "code",
      "metadata": {
        "colab": {
          "base_uri": "https://localhost:8080/"
        },
        "id": "YG7nXBgx7NI3",
        "outputId": "9f0b9adf-ae6e-484a-9b0f-c3c017b89dc3"
      },
      "source": [
        "#顯示特定欄位資料\n",
        "data.iloc[1000]"
      ],
      "execution_count": 268,
      "outputs": [
        {
          "output_type": "execute_result",
          "data": {
            "text/plain": [
              "InvoiceNo               PS5444006925\n",
              "StockCode                    HB89A01\n",
              "Description              頭部活氧熱舒壓課程單堂\n",
              "Quantity                        8.00\n",
              "InvoiceDate               2019-01-02\n",
              "UnitPrice                     848.00\n",
              "CustomerID          9100001536064.00\n",
              "Country                           南區\n",
              "member_start_date         2013-04-26\n",
              "first_trans_date          2013-04-20\n",
              "Name: 1000, dtype: object"
            ]
          },
          "metadata": {},
          "execution_count": 268
        }
      ]
    },
    {
      "cell_type": "code",
      "metadata": {
        "id": "3qKtQHIT8i0j"
      },
      "source": [
        "data2 = data[['CustomerID','Description']]"
      ],
      "execution_count": 269,
      "outputs": []
    },
    {
      "cell_type": "code",
      "metadata": {
        "colab": {
          "base_uri": "https://localhost:8080/"
        },
        "id": "7TalR8zs93ES",
        "outputId": "217fa965-0cc2-4cf8-ef53-7f8910d37486"
      },
      "source": [
        "data2.iloc[1000]"
      ],
      "execution_count": 270,
      "outputs": [
        {
          "output_type": "execute_result",
          "data": {
            "text/plain": [
              "CustomerID    9100001536064.00\n",
              "Description        頭部活氧熱舒壓課程單堂\n",
              "Name: 1000, dtype: object"
            ]
          },
          "metadata": {},
          "execution_count": 270
        }
      ]
    },
    {
      "cell_type": "markdown",
      "metadata": {
        "id": "Dwu8meuy1xoH"
      },
      "source": [
        "## New-Data Wrangling"
      ]
    },
    {
      "cell_type": "code",
      "metadata": {
        "id": "RpOzv8m010ZW"
      },
      "source": [
        "import numpy as np"
      ],
      "execution_count": 271,
      "outputs": []
    },
    {
      "cell_type": "code",
      "metadata": {
        "id": "5PbmDCei2Zbl"
      },
      "source": [
        "pd.set_option('display.float_format',lambda x:'%.2f'% x) #設定浮點數要到小數點後幾位，主要是針對讀檔欄位為『浮點數』時，只顯示到『小數點第二位』"
      ],
      "execution_count": 272,
      "outputs": []
    },
    {
      "cell_type": "code",
      "metadata": {
        "colab": {
          "base_uri": "https://localhost:8080/"
        },
        "id": "ezEtdluB3dxx",
        "outputId": "b5d5a1e7-03a0-46b7-a1e8-ac0275359862"
      },
      "source": [
        "data.info()"
      ],
      "execution_count": 273,
      "outputs": [
        {
          "output_type": "stream",
          "name": "stdout",
          "text": [
            "<class 'pandas.core.frame.DataFrame'>\n",
            "RangeIndex: 1404435 entries, 0 to 1404434\n",
            "Data columns (total 10 columns):\n",
            " #   Column             Non-Null Count    Dtype  \n",
            "---  ------             --------------    -----  \n",
            " 0   InvoiceNo          1404435 non-null  object \n",
            " 1   StockCode          1404435 non-null  object \n",
            " 2   Description        1404435 non-null  object \n",
            " 3   Quantity           1404435 non-null  float64\n",
            " 4   InvoiceDate        1404435 non-null  object \n",
            " 5   UnitPrice          1404435 non-null  float64\n",
            " 6   CustomerID         1403724 non-null  float64\n",
            " 7   Country            1404435 non-null  object \n",
            " 8   member_start_date  1366651 non-null  object \n",
            " 9   first_trans_date   1400412 non-null  object \n",
            "dtypes: float64(3), object(7)\n",
            "memory usage: 107.2+ MB\n"
          ]
        }
      ]
    },
    {
      "cell_type": "code",
      "metadata": {
        "colab": {
          "base_uri": "https://localhost:8080/"
        },
        "id": "7SbtNYM_304o",
        "outputId": "d1d9e276-de7e-4be1-bb9d-2d4eec01d6ff"
      },
      "source": [
        "data.shape #14..多筆資料,10個欄位"
      ],
      "execution_count": 274,
      "outputs": [
        {
          "output_type": "execute_result",
          "data": {
            "text/plain": [
              "(1404435, 10)"
            ]
          },
          "metadata": {},
          "execution_count": 274
        }
      ]
    },
    {
      "cell_type": "code",
      "metadata": {
        "colab": {
          "base_uri": "https://localhost:8080/"
        },
        "id": "CD9kC84g4AC9",
        "outputId": "524c8bc2-8c85-4145-ba32-4c88c01b2d78"
      },
      "source": [
        "data.Description.value_counts() #看產品,出現次數,進行初步探索(要有一定的doment know how)"
      ],
      "execution_count": 275,
      "outputs": [
        {
          "output_type": "execute_result",
          "data": {
            "text/plain": [
              "全背順氣活力SPA課程單堂             58636\n",
              "清除環境中腸病毒濕紙巾10抽            52599\n",
              "plus5智頻美塑儀課程單堂            46660\n",
              "(新)溫熱刮痧課程單堂               34129\n",
              "全身健康優化SPA課程單堂             33770\n",
              "                          ...  \n",
              "精準無痕BOTOX(員工特惠)90U            1\n",
              "45格精油木盒                       1\n",
              "精準無痕保堤拉(單堂會員)100U             1\n",
              "老五老基金會SPA體驗3選1                1\n",
              "EXENCE甦活精油精華液(1劑)6ml*6        1\n",
              "Name: Description, Length: 870, dtype: int64"
            ]
          },
          "metadata": {},
          "execution_count": 275
        }
      ]
    },
    {
      "cell_type": "code",
      "metadata": {
        "colab": {
          "base_uri": "https://localhost:8080/"
        },
        "id": "h3rgMfWy4OkX",
        "outputId": "a29ab088-c58a-4c70-d412-41616b3043c7"
      },
      "source": [
        "data['Description'].value_counts"
      ],
      "execution_count": 276,
      "outputs": [
        {
          "output_type": "execute_result",
          "data": {
            "text/plain": [
              "<bound method IndexOpsMixin.value_counts of 0                    晶淬雪潔顏乳100ml\n",
              "1                  多肽亮眼乳霜20g-保濕型\n",
              "2                   檸檬精油10ml MUI\n",
              "3                 柚見快樂精油15ml MUI\n",
              "4                細花冬青香氛油10ml MUI\n",
              "                   ...          \n",
              "1404430             玫瑰晶萃活膚液130ml\n",
              "1404431    真正除臭抗菌噴霧(銀離子迷迭香)250ml\n",
              "1404432        BA-5肌密全效噴霧奇蹟水70ml\n",
              "1404433      緊緻保濕裸膚羽翼面膜25ml-零售單包\n",
              "1404434    真正除臭抗菌噴霧(銀離子迷迭香)350ml\n",
              "Name: Description, Length: 1404435, dtype: object>"
            ]
          },
          "metadata": {},
          "execution_count": 276
        }
      ]
    },
    {
      "cell_type": "code",
      "metadata": {
        "colab": {
          "base_uri": "https://localhost:8080/"
        },
        "id": "6isnAcjo4mp5",
        "outputId": "fc17f41c-6e05-427f-dd42-5f024b9f0a24"
      },
      "source": [
        "data.isna().any() #檢查這筆資料中 各項欄位內有無『諾值(null)』"
      ],
      "execution_count": 277,
      "outputs": [
        {
          "output_type": "execute_result",
          "data": {
            "text/plain": [
              "InvoiceNo            False\n",
              "StockCode            False\n",
              "Description          False\n",
              "Quantity             False\n",
              "InvoiceDate          False\n",
              "UnitPrice            False\n",
              "CustomerID            True\n",
              "Country              False\n",
              "member_start_date     True\n",
              "first_trans_date      True\n",
              "dtype: bool"
            ]
          },
          "metadata": {},
          "execution_count": 277
        }
      ]
    },
    {
      "cell_type": "code",
      "metadata": {
        "colab": {
          "base_uri": "https://localhost:8080/",
          "height": 0
        },
        "id": "IH7CnL7_4q82",
        "outputId": "9f3b3dbe-8133-4618-b6ce-8ddc15d5d9d2"
      },
      "source": [
        "data.loc[data['CustomerID'].isnull()] #用loc找出"
      ],
      "execution_count": 278,
      "outputs": [
        {
          "output_type": "execute_result",
          "data": {
            "text/html": [
              "<div>\n",
              "<style scoped>\n",
              "    .dataframe tbody tr th:only-of-type {\n",
              "        vertical-align: middle;\n",
              "    }\n",
              "\n",
              "    .dataframe tbody tr th {\n",
              "        vertical-align: top;\n",
              "    }\n",
              "\n",
              "    .dataframe thead th {\n",
              "        text-align: right;\n",
              "    }\n",
              "</style>\n",
              "<table border=\"1\" class=\"dataframe\">\n",
              "  <thead>\n",
              "    <tr style=\"text-align: right;\">\n",
              "      <th></th>\n",
              "      <th>InvoiceNo</th>\n",
              "      <th>StockCode</th>\n",
              "      <th>Description</th>\n",
              "      <th>Quantity</th>\n",
              "      <th>InvoiceDate</th>\n",
              "      <th>UnitPrice</th>\n",
              "      <th>CustomerID</th>\n",
              "      <th>Country</th>\n",
              "      <th>member_start_date</th>\n",
              "      <th>first_trans_date</th>\n",
              "    </tr>\n",
              "  </thead>\n",
              "  <tbody>\n",
              "    <tr>\n",
              "      <th>1544</th>\n",
              "      <td>PS1001008016</td>\n",
              "      <td>MD-1265</td>\n",
              "      <td>2019營運售全背</td>\n",
              "      <td>32.00</td>\n",
              "      <td>2019-01-03</td>\n",
              "      <td>1859.00</td>\n",
              "      <td>nan</td>\n",
              "      <td>總管理處</td>\n",
              "      <td>NaN</td>\n",
              "      <td>NaN</td>\n",
              "    </tr>\n",
              "    <tr>\n",
              "      <th>1545</th>\n",
              "      <td>PS1001008016</td>\n",
              "      <td>JZA4G2</td>\n",
              "      <td>輕鬆．清新複方按摩油30ml</td>\n",
              "      <td>40.00</td>\n",
              "      <td>2019-01-03</td>\n",
              "      <td>2699.00</td>\n",
              "      <td>nan</td>\n",
              "      <td>總管理處</td>\n",
              "      <td>NaN</td>\n",
              "      <td>NaN</td>\n",
              "    </tr>\n",
              "    <tr>\n",
              "      <th>3470</th>\n",
              "      <td>PS1001008018</td>\n",
              "      <td>MD-1266</td>\n",
              "      <td>2019營運售太極</td>\n",
              "      <td>8.00</td>\n",
              "      <td>2019-01-05</td>\n",
              "      <td>509.00</td>\n",
              "      <td>nan</td>\n",
              "      <td>總管理處</td>\n",
              "      <td>NaN</td>\n",
              "      <td>NaN</td>\n",
              "    </tr>\n",
              "    <tr>\n",
              "      <th>3471</th>\n",
              "      <td>PS1001008018</td>\n",
              "      <td>K8016</td>\n",
              "      <td>植粹清香沐浴精500ml</td>\n",
              "      <td>8.00</td>\n",
              "      <td>2019-01-05</td>\n",
              "      <td>497.00</td>\n",
              "      <td>nan</td>\n",
              "      <td>總管理處</td>\n",
              "      <td>NaN</td>\n",
              "      <td>NaN</td>\n",
              "    </tr>\n",
              "    <tr>\n",
              "      <th>3472</th>\n",
              "      <td>PS1001008018</td>\n",
              "      <td>K8017</td>\n",
              "      <td>植粹養護洗髮精500ml</td>\n",
              "      <td>8.00</td>\n",
              "      <td>2019-01-05</td>\n",
              "      <td>497.00</td>\n",
              "      <td>nan</td>\n",
              "      <td>總管理處</td>\n",
              "      <td>NaN</td>\n",
              "      <td>NaN</td>\n",
              "    </tr>\n",
              "    <tr>\n",
              "      <th>...</th>\n",
              "      <td>...</td>\n",
              "      <td>...</td>\n",
              "      <td>...</td>\n",
              "      <td>...</td>\n",
              "      <td>...</td>\n",
              "      <td>...</td>\n",
              "      <td>...</td>\n",
              "      <td>...</td>\n",
              "      <td>...</td>\n",
              "      <td>...</td>\n",
              "    </tr>\n",
              "    <tr>\n",
              "      <th>1370084</th>\n",
              "      <td>PS5525021426</td>\n",
              "      <td>BJ079</td>\n",
              "      <td>佐登妮絲６號複方精油10ml</td>\n",
              "      <td>8.00</td>\n",
              "      <td>2020-12-14</td>\n",
              "      <td>1099.00</td>\n",
              "      <td>nan</td>\n",
              "      <td>高屏全區</td>\n",
              "      <td>NaN</td>\n",
              "      <td>NaN</td>\n",
              "    </tr>\n",
              "    <tr>\n",
              "      <th>1370085</th>\n",
              "      <td>PS5525021426</td>\n",
              "      <td>JYA1G1</td>\n",
              "      <td>玫瑰複方精油5ml HALAL</td>\n",
              "      <td>8.00</td>\n",
              "      <td>2020-12-14</td>\n",
              "      <td>1099.00</td>\n",
              "      <td>nan</td>\n",
              "      <td>高屏全區</td>\n",
              "      <td>NaN</td>\n",
              "      <td>NaN</td>\n",
              "    </tr>\n",
              "    <tr>\n",
              "      <th>1382674</th>\n",
              "      <td>PS5455008904</td>\n",
              "      <td>ZFE02</td>\n",
              "      <td>工本費</td>\n",
              "      <td>8.00</td>\n",
              "      <td>2020-12-21</td>\n",
              "      <td>509.00</td>\n",
              "      <td>nan</td>\n",
              "      <td>南區</td>\n",
              "      <td>NaN</td>\n",
              "      <td>NaN</td>\n",
              "    </tr>\n",
              "    <tr>\n",
              "      <th>1396234</th>\n",
              "      <td>PS5414018463</td>\n",
              "      <td>JZB4G1</td>\n",
              "      <td>呼暢護隨精油30ml</td>\n",
              "      <td>-8.00</td>\n",
              "      <td>2020-12-28</td>\n",
              "      <td>-1720.00</td>\n",
              "      <td>nan</td>\n",
              "      <td>南區</td>\n",
              "      <td>NaN</td>\n",
              "      <td>NaN</td>\n",
              "    </tr>\n",
              "    <tr>\n",
              "      <th>1396235</th>\n",
              "      <td>PS5414018463</td>\n",
              "      <td>KQ02</td>\n",
              "      <td>玫瑰晶萃活膚液130ml</td>\n",
              "      <td>8.00</td>\n",
              "      <td>2020-12-28</td>\n",
              "      <td>1838.00</td>\n",
              "      <td>nan</td>\n",
              "      <td>南區</td>\n",
              "      <td>NaN</td>\n",
              "      <td>NaN</td>\n",
              "    </tr>\n",
              "  </tbody>\n",
              "</table>\n",
              "<p>711 rows × 10 columns</p>\n",
              "</div>"
            ],
            "text/plain": [
              "            InvoiceNo StockCode  ... member_start_date  first_trans_date\n",
              "1544     PS1001008016   MD-1265  ...               NaN               NaN\n",
              "1545     PS1001008016    JZA4G2  ...               NaN               NaN\n",
              "3470     PS1001008018   MD-1266  ...               NaN               NaN\n",
              "3471     PS1001008018     K8016  ...               NaN               NaN\n",
              "3472     PS1001008018     K8017  ...               NaN               NaN\n",
              "...               ...       ...  ...               ...               ...\n",
              "1370084  PS5525021426     BJ079  ...               NaN               NaN\n",
              "1370085  PS5525021426    JYA1G1  ...               NaN               NaN\n",
              "1382674  PS5455008904     ZFE02  ...               NaN               NaN\n",
              "1396234  PS5414018463    JZB4G1  ...               NaN               NaN\n",
              "1396235  PS5414018463      KQ02  ...               NaN               NaN\n",
              "\n",
              "[711 rows x 10 columns]"
            ]
          },
          "metadata": {},
          "execution_count": 278
        }
      ]
    },
    {
      "cell_type": "code",
      "metadata": {
        "id": "eVO7PxA75mqB"
      },
      "source": [
        "data.drop(data[data['CustomerID'].isnull()].index,inplace=True) #用drop 刪除"
      ],
      "execution_count": 279,
      "outputs": []
    },
    {
      "cell_type": "code",
      "metadata": {
        "colab": {
          "base_uri": "https://localhost:8080/"
        },
        "id": "hywSiXV46vj4",
        "outputId": "4a49137e-deef-42fc-8a76-cdec1e1f818a"
      },
      "source": [
        "data.shape #可看出資料有減少了"
      ],
      "execution_count": 280,
      "outputs": [
        {
          "output_type": "execute_result",
          "data": {
            "text/plain": [
              "(1403724, 10)"
            ]
          },
          "metadata": {},
          "execution_count": 280
        }
      ]
    },
    {
      "cell_type": "code",
      "metadata": {
        "colab": {
          "base_uri": "https://localhost:8080/",
          "height": 0
        },
        "id": "NsFVpiVf87yM",
        "outputId": "d6cb1bc5-f991-47a8-dae1-ff6376cba540"
      },
      "source": [
        "#發現數量及價格有複數，無法套入相乘公式(因為負負得正，新增『總額』的欄位資料將會「失真」)\n",
        "data.loc[(data['Quantity']<0)|(data['UnitPrice']<0)] #找出兩者皆小於0的資料"
      ],
      "execution_count": 281,
      "outputs": [
        {
          "output_type": "execute_result",
          "data": {
            "text/html": [
              "<div>\n",
              "<style scoped>\n",
              "    .dataframe tbody tr th:only-of-type {\n",
              "        vertical-align: middle;\n",
              "    }\n",
              "\n",
              "    .dataframe tbody tr th {\n",
              "        vertical-align: top;\n",
              "    }\n",
              "\n",
              "    .dataframe thead th {\n",
              "        text-align: right;\n",
              "    }\n",
              "</style>\n",
              "<table border=\"1\" class=\"dataframe\">\n",
              "  <thead>\n",
              "    <tr style=\"text-align: right;\">\n",
              "      <th></th>\n",
              "      <th>InvoiceNo</th>\n",
              "      <th>StockCode</th>\n",
              "      <th>Description</th>\n",
              "      <th>Quantity</th>\n",
              "      <th>InvoiceDate</th>\n",
              "      <th>UnitPrice</th>\n",
              "      <th>CustomerID</th>\n",
              "      <th>Country</th>\n",
              "      <th>member_start_date</th>\n",
              "      <th>first_trans_date</th>\n",
              "    </tr>\n",
              "  </thead>\n",
              "  <tbody>\n",
              "    <tr>\n",
              "      <th>3</th>\n",
              "      <td>PS5335020955</td>\n",
              "      <td>JZA3G1</td>\n",
              "      <td>柚見快樂精油15ml MUI</td>\n",
              "      <td>-8.00</td>\n",
              "      <td>2019-01-01</td>\n",
              "      <td>-1501.00</td>\n",
              "      <td>9100002556566.00</td>\n",
              "      <td>中區</td>\n",
              "      <td>2018-10-21</td>\n",
              "      <td>2018-10-21</td>\n",
              "    </tr>\n",
              "    <tr>\n",
              "      <th>19</th>\n",
              "      <td>PS5323017890</td>\n",
              "      <td>K0464B</td>\n",
              "      <td>DC龍血緊緻修護面膜26ml+5g-單包</td>\n",
              "      <td>-56.00</td>\n",
              "      <td>2019-01-01</td>\n",
              "      <td>-1006.00</td>\n",
              "      <td>9100000045758.00</td>\n",
              "      <td>中區</td>\n",
              "      <td>2001-05-20</td>\n",
              "      <td>2012-07-17</td>\n",
              "    </tr>\n",
              "    <tr>\n",
              "      <th>20</th>\n",
              "      <td>PS5323017890</td>\n",
              "      <td>K0464B</td>\n",
              "      <td>DC龍血緊緻修護面膜26ml+5g-單包</td>\n",
              "      <td>-8.00</td>\n",
              "      <td>2019-01-01</td>\n",
              "      <td>-205.00</td>\n",
              "      <td>9100000045758.00</td>\n",
              "      <td>中區</td>\n",
              "      <td>2001-05-20</td>\n",
              "      <td>2012-07-17</td>\n",
              "    </tr>\n",
              "    <tr>\n",
              "      <th>252</th>\n",
              "      <td>PS5381011345</td>\n",
              "      <td>KQ03</td>\n",
              "      <td>玫瑰晶萃露15ml</td>\n",
              "      <td>-8.00</td>\n",
              "      <td>2019-01-01</td>\n",
              "      <td>-1501.00</td>\n",
              "      <td>9100000356694.00</td>\n",
              "      <td>中區</td>\n",
              "      <td>2002-02-03</td>\n",
              "      <td>2012-10-06</td>\n",
              "    </tr>\n",
              "    <tr>\n",
              "      <th>253</th>\n",
              "      <td>PS5381011345</td>\n",
              "      <td>KQ03</td>\n",
              "      <td>玫瑰晶萃露15ml</td>\n",
              "      <td>-8.00</td>\n",
              "      <td>2019-01-01</td>\n",
              "      <td>-1501.00</td>\n",
              "      <td>9100000356694.00</td>\n",
              "      <td>中區</td>\n",
              "      <td>2002-02-03</td>\n",
              "      <td>2012-10-06</td>\n",
              "    </tr>\n",
              "    <tr>\n",
              "      <th>...</th>\n",
              "      <td>...</td>\n",
              "      <td>...</td>\n",
              "      <td>...</td>\n",
              "      <td>...</td>\n",
              "      <td>...</td>\n",
              "      <td>...</td>\n",
              "      <td>...</td>\n",
              "      <td>...</td>\n",
              "      <td>...</td>\n",
              "      <td>...</td>\n",
              "    </tr>\n",
              "    <tr>\n",
              "      <th>1404039</th>\n",
              "      <td>PS5217034487</td>\n",
              "      <td>JAA3G3</td>\n",
              "      <td>膠原蛋白青春精華94%原液60ml</td>\n",
              "      <td>-8.00</td>\n",
              "      <td>2020-12-31</td>\n",
              "      <td>-2031.00</td>\n",
              "      <td>9100003026129.00</td>\n",
              "      <td>台北B區</td>\n",
              "      <td>2020-12-10</td>\n",
              "      <td>2020-11-23</td>\n",
              "    </tr>\n",
              "    <tr>\n",
              "      <th>1404040</th>\n",
              "      <td>PS5217034487</td>\n",
              "      <td>JAA3G2</td>\n",
              "      <td>玻尿酸超保濕精華96%原液60ml</td>\n",
              "      <td>-8.00</td>\n",
              "      <td>2020-12-31</td>\n",
              "      <td>-2032.00</td>\n",
              "      <td>9100003026129.00</td>\n",
              "      <td>台北B區</td>\n",
              "      <td>2020-12-10</td>\n",
              "      <td>2020-11-23</td>\n",
              "    </tr>\n",
              "    <tr>\n",
              "      <th>1404192</th>\n",
              "      <td>PR9310000260</td>\n",
              "      <td>ENAA01B002</td>\n",
              "      <td>新逆時光藍新寶石亮白全臉單堂(單堂會員)</td>\n",
              "      <td>-48.00</td>\n",
              "      <td>2020-12-31</td>\n",
              "      <td>-12941.00</td>\n",
              "      <td>9100002311295.00</td>\n",
              "      <td>佐登微爾</td>\n",
              "      <td>2018-05-05</td>\n",
              "      <td>2017-04-16</td>\n",
              "    </tr>\n",
              "    <tr>\n",
              "      <th>1404193</th>\n",
              "      <td>PR9310000260</td>\n",
              "      <td>ENBA01B002</td>\n",
              "      <td>新晶透亮白超皮秒透亮美肌局部單堂(單堂會員)</td>\n",
              "      <td>-48.00</td>\n",
              "      <td>2020-12-31</td>\n",
              "      <td>-9941.00</td>\n",
              "      <td>9100002311295.00</td>\n",
              "      <td>佐登微爾</td>\n",
              "      <td>2018-05-05</td>\n",
              "      <td>2017-04-16</td>\n",
              "    </tr>\n",
              "    <tr>\n",
              "      <th>1404194</th>\n",
              "      <td>PR9310000260</td>\n",
              "      <td>ENBD01E001</td>\n",
              "      <td>晶透亮白超皮秒美肌加強版(S1 S2 S3)(特惠)</td>\n",
              "      <td>-8.00</td>\n",
              "      <td>2020-12-31</td>\n",
              "      <td>-6939.00</td>\n",
              "      <td>9100002311295.00</td>\n",
              "      <td>佐登微爾</td>\n",
              "      <td>2018-05-05</td>\n",
              "      <td>2017-04-16</td>\n",
              "    </tr>\n",
              "  </tbody>\n",
              "</table>\n",
              "<p>6612 rows × 10 columns</p>\n",
              "</div>"
            ],
            "text/plain": [
              "            InvoiceNo   StockCode  ... member_start_date  first_trans_date\n",
              "3        PS5335020955      JZA3G1  ...        2018-10-21        2018-10-21\n",
              "19       PS5323017890      K0464B  ...        2001-05-20        2012-07-17\n",
              "20       PS5323017890      K0464B  ...        2001-05-20        2012-07-17\n",
              "252      PS5381011345        KQ03  ...        2002-02-03        2012-10-06\n",
              "253      PS5381011345        KQ03  ...        2002-02-03        2012-10-06\n",
              "...               ...         ...  ...               ...               ...\n",
              "1404039  PS5217034487      JAA3G3  ...        2020-12-10        2020-11-23\n",
              "1404040  PS5217034487      JAA3G2  ...        2020-12-10        2020-11-23\n",
              "1404192  PR9310000260  ENAA01B002  ...        2018-05-05        2017-04-16\n",
              "1404193  PR9310000260  ENBA01B002  ...        2018-05-05        2017-04-16\n",
              "1404194  PR9310000260  ENBD01E001  ...        2018-05-05        2017-04-16\n",
              "\n",
              "[6612 rows x 10 columns]"
            ]
          },
          "metadata": {},
          "execution_count": 281
        }
      ]
    },
    {
      "cell_type": "code",
      "metadata": {
        "colab": {
          "base_uri": "https://localhost:8080/",
          "height": 0
        },
        "id": "Tu3icBc4-UI5",
        "outputId": "edadcf01-7a5f-4e86-8322-4aa3dea955bb"
      },
      "source": [
        "data.loc[(data['Quantity']<0)&(data['UnitPrice']>0)] #找出一者小於0的資料"
      ],
      "execution_count": 282,
      "outputs": [
        {
          "output_type": "execute_result",
          "data": {
            "text/html": [
              "<div>\n",
              "<style scoped>\n",
              "    .dataframe tbody tr th:only-of-type {\n",
              "        vertical-align: middle;\n",
              "    }\n",
              "\n",
              "    .dataframe tbody tr th {\n",
              "        vertical-align: top;\n",
              "    }\n",
              "\n",
              "    .dataframe thead th {\n",
              "        text-align: right;\n",
              "    }\n",
              "</style>\n",
              "<table border=\"1\" class=\"dataframe\">\n",
              "  <thead>\n",
              "    <tr style=\"text-align: right;\">\n",
              "      <th></th>\n",
              "      <th>InvoiceNo</th>\n",
              "      <th>StockCode</th>\n",
              "      <th>Description</th>\n",
              "      <th>Quantity</th>\n",
              "      <th>InvoiceDate</th>\n",
              "      <th>UnitPrice</th>\n",
              "      <th>CustomerID</th>\n",
              "      <th>Country</th>\n",
              "      <th>member_start_date</th>\n",
              "      <th>first_trans_date</th>\n",
              "    </tr>\n",
              "  </thead>\n",
              "  <tbody>\n",
              "    <tr>\n",
              "      <th>10361</th>\n",
              "      <td>PR5524003613</td>\n",
              "      <td>9269</td>\n",
              "      <td>JOURDENESS精油包</td>\n",
              "      <td>-8.00</td>\n",
              "      <td>2019-01-11</td>\n",
              "      <td>59.00</td>\n",
              "      <td>9100000538601.00</td>\n",
              "      <td>高屏全區</td>\n",
              "      <td>2009-02-09</td>\n",
              "      <td>2012-11-28</td>\n",
              "    </tr>\n",
              "    <tr>\n",
              "      <th>14317</th>\n",
              "      <td>PR5374002987</td>\n",
              "      <td>9277</td>\n",
              "      <td>歐式古典花語陶瓷鍋墊</td>\n",
              "      <td>-8.00</td>\n",
              "      <td>2019-01-12</td>\n",
              "      <td>59.00</td>\n",
              "      <td>9100002127370.00</td>\n",
              "      <td>彰雲區</td>\n",
              "      <td>2016-03-27</td>\n",
              "      <td>2016-03-27</td>\n",
              "    </tr>\n",
              "    <tr>\n",
              "      <th>14318</th>\n",
              "      <td>PR5374002987</td>\n",
              "      <td>9277</td>\n",
              "      <td>歐式古典花語陶瓷鍋墊</td>\n",
              "      <td>-8.00</td>\n",
              "      <td>2019-01-12</td>\n",
              "      <td>59.00</td>\n",
              "      <td>9100002127370.00</td>\n",
              "      <td>彰雲區</td>\n",
              "      <td>2016-03-27</td>\n",
              "      <td>2016-03-27</td>\n",
              "    </tr>\n",
              "    <tr>\n",
              "      <th>18308</th>\n",
              "      <td>PR5538001155</td>\n",
              "      <td>9277</td>\n",
              "      <td>歐式古典花語陶瓷鍋墊</td>\n",
              "      <td>-8.00</td>\n",
              "      <td>2019-01-15</td>\n",
              "      <td>59.00</td>\n",
              "      <td>9100000533811.00</td>\n",
              "      <td>高屏全區</td>\n",
              "      <td>2008-12-29</td>\n",
              "      <td>2012-10-04</td>\n",
              "    </tr>\n",
              "    <tr>\n",
              "      <th>18309</th>\n",
              "      <td>PR5538001155</td>\n",
              "      <td>9277</td>\n",
              "      <td>歐式古典花語陶瓷鍋墊</td>\n",
              "      <td>-8.00</td>\n",
              "      <td>2019-01-15</td>\n",
              "      <td>59.00</td>\n",
              "      <td>9100000533811.00</td>\n",
              "      <td>高屏全區</td>\n",
              "      <td>2008-12-29</td>\n",
              "      <td>2012-10-04</td>\n",
              "    </tr>\n",
              "    <tr>\n",
              "      <th>...</th>\n",
              "      <td>...</td>\n",
              "      <td>...</td>\n",
              "      <td>...</td>\n",
              "      <td>...</td>\n",
              "      <td>...</td>\n",
              "      <td>...</td>\n",
              "      <td>...</td>\n",
              "      <td>...</td>\n",
              "      <td>...</td>\n",
              "      <td>...</td>\n",
              "    </tr>\n",
              "    <tr>\n",
              "      <th>1340292</th>\n",
              "      <td>PR5142004025</td>\n",
              "      <td>K8013</td>\n",
              "      <td>PURE純淨沐浴精250ml</td>\n",
              "      <td>-8.00</td>\n",
              "      <td>2020-11-29</td>\n",
              "      <td>59.00</td>\n",
              "      <td>9100001032627.00</td>\n",
              "      <td>台北B區</td>\n",
              "      <td>2004-10-18</td>\n",
              "      <td>2015-11-13</td>\n",
              "    </tr>\n",
              "    <tr>\n",
              "      <th>1340293</th>\n",
              "      <td>PR5142004025</td>\n",
              "      <td>BJ075CS</td>\n",
              "      <td>JD 薄荷30ml-職業包 HALAL</td>\n",
              "      <td>-8.00</td>\n",
              "      <td>2020-11-29</td>\n",
              "      <td>59.00</td>\n",
              "      <td>9100001032627.00</td>\n",
              "      <td>台北B區</td>\n",
              "      <td>2004-10-18</td>\n",
              "      <td>2015-11-13</td>\n",
              "    </tr>\n",
              "    <tr>\n",
              "      <th>1340294</th>\n",
              "      <td>PR5142004025</td>\n",
              "      <td>K8013</td>\n",
              "      <td>PURE純淨沐浴精250ml</td>\n",
              "      <td>-8.00</td>\n",
              "      <td>2020-11-29</td>\n",
              "      <td>59.00</td>\n",
              "      <td>9100001032627.00</td>\n",
              "      <td>台北B區</td>\n",
              "      <td>2004-10-18</td>\n",
              "      <td>2015-11-13</td>\n",
              "    </tr>\n",
              "    <tr>\n",
              "      <th>1352683</th>\n",
              "      <td>PR536F001044</td>\n",
              "      <td>ZCP04</td>\n",
              "      <td>課程預付卡</td>\n",
              "      <td>-8.00</td>\n",
              "      <td>2020-12-05</td>\n",
              "      <td>59.00</td>\n",
              "      <td>9100003035650.00</td>\n",
              "      <td>彰雲區</td>\n",
              "      <td>NaN</td>\n",
              "      <td>NaN</td>\n",
              "    </tr>\n",
              "    <tr>\n",
              "      <th>1361629</th>\n",
              "      <td>PR9310000174</td>\n",
              "      <td>ENAA01E001</td>\n",
              "      <td>逆時光藍寶石亮白全臉單堂(特惠)</td>\n",
              "      <td>-8.00</td>\n",
              "      <td>2020-12-11</td>\n",
              "      <td>59.00</td>\n",
              "      <td>9100002740972.00</td>\n",
              "      <td>佐登微爾</td>\n",
              "      <td>2020-03-14</td>\n",
              "      <td>2019-12-14</td>\n",
              "    </tr>\n",
              "  </tbody>\n",
              "</table>\n",
              "<p>232 rows × 10 columns</p>\n",
              "</div>"
            ],
            "text/plain": [
              "            InvoiceNo   StockCode  ... member_start_date  first_trans_date\n",
              "10361    PR5524003613        9269  ...        2009-02-09        2012-11-28\n",
              "14317    PR5374002987        9277  ...        2016-03-27        2016-03-27\n",
              "14318    PR5374002987        9277  ...        2016-03-27        2016-03-27\n",
              "18308    PR5538001155        9277  ...        2008-12-29        2012-10-04\n",
              "18309    PR5538001155        9277  ...        2008-12-29        2012-10-04\n",
              "...               ...         ...  ...               ...               ...\n",
              "1340292  PR5142004025       K8013  ...        2004-10-18        2015-11-13\n",
              "1340293  PR5142004025     BJ075CS  ...        2004-10-18        2015-11-13\n",
              "1340294  PR5142004025       K8013  ...        2004-10-18        2015-11-13\n",
              "1352683  PR536F001044       ZCP04  ...               NaN               NaN\n",
              "1361629  PR9310000174  ENAA01E001  ...        2020-03-14        2019-12-14\n",
              "\n",
              "[232 rows x 10 columns]"
            ]
          },
          "metadata": {},
          "execution_count": 282
        }
      ]
    },
    {
      "cell_type": "code",
      "metadata": {
        "id": "puZT89PTEVSb"
      },
      "source": [
        "#取絕對值\n",
        "data['Revenue'] = data['Quantity'] * abs(data['UnitPrice']) #需要新增一個『總額』的『欄位名稱』"
      ],
      "execution_count": 283,
      "outputs": []
    },
    {
      "cell_type": "code",
      "metadata": {
        "colab": {
          "base_uri": "https://localhost:8080/",
          "height": 0
        },
        "id": "QY42nH4XVPvN",
        "outputId": "f8ba87d1-c2b1-48d6-c230-f0a4961b738a"
      },
      "source": [
        "data.head()"
      ],
      "execution_count": 284,
      "outputs": [
        {
          "output_type": "execute_result",
          "data": {
            "text/html": [
              "<div>\n",
              "<style scoped>\n",
              "    .dataframe tbody tr th:only-of-type {\n",
              "        vertical-align: middle;\n",
              "    }\n",
              "\n",
              "    .dataframe tbody tr th {\n",
              "        vertical-align: top;\n",
              "    }\n",
              "\n",
              "    .dataframe thead th {\n",
              "        text-align: right;\n",
              "    }\n",
              "</style>\n",
              "<table border=\"1\" class=\"dataframe\">\n",
              "  <thead>\n",
              "    <tr style=\"text-align: right;\">\n",
              "      <th></th>\n",
              "      <th>InvoiceNo</th>\n",
              "      <th>StockCode</th>\n",
              "      <th>Description</th>\n",
              "      <th>Quantity</th>\n",
              "      <th>InvoiceDate</th>\n",
              "      <th>UnitPrice</th>\n",
              "      <th>CustomerID</th>\n",
              "      <th>Country</th>\n",
              "      <th>member_start_date</th>\n",
              "      <th>first_trans_date</th>\n",
              "      <th>Revenue</th>\n",
              "    </tr>\n",
              "  </thead>\n",
              "  <tbody>\n",
              "    <tr>\n",
              "      <th>0</th>\n",
              "      <td>PS5327001158</td>\n",
              "      <td>JA01</td>\n",
              "      <td>晶淬雪潔顏乳100ml</td>\n",
              "      <td>8.00</td>\n",
              "      <td>2019-01-01</td>\n",
              "      <td>1259.00</td>\n",
              "      <td>9100002488768.00</td>\n",
              "      <td>中區</td>\n",
              "      <td>2019-12-09</td>\n",
              "      <td>2018-06-24</td>\n",
              "      <td>10072.00</td>\n",
              "    </tr>\n",
              "    <tr>\n",
              "      <th>1</th>\n",
              "      <td>PS5335020955</td>\n",
              "      <td>KG06</td>\n",
              "      <td>多肽亮眼乳霜20g-保濕型</td>\n",
              "      <td>8.00</td>\n",
              "      <td>2019-01-01</td>\n",
              "      <td>839.00</td>\n",
              "      <td>9100002556566.00</td>\n",
              "      <td>中區</td>\n",
              "      <td>2018-10-21</td>\n",
              "      <td>2018-10-21</td>\n",
              "      <td>6712.00</td>\n",
              "    </tr>\n",
              "    <tr>\n",
              "      <th>2</th>\n",
              "      <td>PS5335020955</td>\n",
              "      <td>BJ102</td>\n",
              "      <td>檸檬精油10ml MUI</td>\n",
              "      <td>8.00</td>\n",
              "      <td>2019-01-01</td>\n",
              "      <td>839.00</td>\n",
              "      <td>9100002556566.00</td>\n",
              "      <td>中區</td>\n",
              "      <td>2018-10-21</td>\n",
              "      <td>2018-10-21</td>\n",
              "      <td>6712.00</td>\n",
              "    </tr>\n",
              "    <tr>\n",
              "      <th>3</th>\n",
              "      <td>PS5335020955</td>\n",
              "      <td>JZA3G1</td>\n",
              "      <td>柚見快樂精油15ml MUI</td>\n",
              "      <td>-8.00</td>\n",
              "      <td>2019-01-01</td>\n",
              "      <td>-1501.00</td>\n",
              "      <td>9100002556566.00</td>\n",
              "      <td>中區</td>\n",
              "      <td>2018-10-21</td>\n",
              "      <td>2018-10-21</td>\n",
              "      <td>-12008.00</td>\n",
              "    </tr>\n",
              "    <tr>\n",
              "      <th>4</th>\n",
              "      <td>PS5444006919</td>\n",
              "      <td>BJ103</td>\n",
              "      <td>細花冬青香氛油10ml MUI</td>\n",
              "      <td>8.00</td>\n",
              "      <td>2019-01-01</td>\n",
              "      <td>672.00</td>\n",
              "      <td>9100002582077.00</td>\n",
              "      <td>南區</td>\n",
              "      <td>2018-12-04</td>\n",
              "      <td>2018-12-04</td>\n",
              "      <td>5376.00</td>\n",
              "    </tr>\n",
              "  </tbody>\n",
              "</table>\n",
              "</div>"
            ],
            "text/plain": [
              "      InvoiceNo StockCode  ... first_trans_date   Revenue\n",
              "0  PS5327001158      JA01  ...       2018-06-24  10072.00\n",
              "1  PS5335020955      KG06  ...       2018-10-21   6712.00\n",
              "2  PS5335020955     BJ102  ...       2018-10-21   6712.00\n",
              "3  PS5335020955    JZA3G1  ...       2018-10-21 -12008.00\n",
              "4  PS5444006919     BJ103  ...       2018-12-04   5376.00\n",
              "\n",
              "[5 rows x 11 columns]"
            ]
          },
          "metadata": {},
          "execution_count": 284
        }
      ]
    },
    {
      "cell_type": "code",
      "metadata": {
        "colab": {
          "base_uri": "https://localhost:8080/"
        },
        "id": "6zExZ7hQVZhE",
        "outputId": "8f8c7c23-0d65-401a-b88e-40d9ea266a68"
      },
      "source": [
        "data.Revenue.describe()"
      ],
      "execution_count": 285,
      "outputs": [
        {
          "output_type": "execute_result",
          "data": {
            "text/plain": [
              "count     1403724.00\n",
              "mean        82668.84\n",
              "std        922440.49\n",
              "min     -41471304.00\n",
              "25%          4672.00\n",
              "50%          8752.00\n",
              "75%         25904.00\n",
              "max     702441768.00\n",
              "Name: Revenue, dtype: float64"
            ]
          },
          "metadata": {},
          "execution_count": 285
        }
      ]
    },
    {
      "cell_type": "code",
      "metadata": {
        "colab": {
          "base_uri": "https://localhost:8080/",
          "height": 0
        },
        "id": "BI1b1H8A-aTJ",
        "outputId": "95d4fae1-ef83-4242-8c67-eb4b31a8b119"
      },
      "source": [
        "data['Revenue'].plot.box() #使用box主要是為了方便去查看『異常值是否存在』"
      ],
      "execution_count": 286,
      "outputs": [
        {
          "output_type": "execute_result",
          "data": {
            "text/plain": [
              "<matplotlib.axes._subplots.AxesSubplot at 0x7f89982f0350>"
            ]
          },
          "metadata": {},
          "execution_count": 286
        },
        {
          "output_type": "display_data",
          "data": {
            "image/png": "[encoded data removed]",
            "text/plain": [
              "<Figure size 432x288 with 1 Axes>"
            ]
          },
          "metadata": {
            "needs_background": "light"
          }
        }
      ]
    },
    {
      "cell_type": "code",
      "metadata": {
        "id": "I9i-w2FdXsLq"
      },
      "source": [
        "sales_data1 = data.copy()"
      ],
      "execution_count": 287,
      "outputs": []
    },
    {
      "cell_type": "code",
      "metadata": {
        "colab": {
          "base_uri": "https://localhost:8080/",
          "height": 0
        },
        "id": "x5zNZSNGVKFo",
        "outputId": "cf3200ca-4d8f-4e15-9bea-5f490ba9d2ec"
      },
      "source": [
        "data['Revenue_zcore']=(data['Revenue']-data['Revenue'].mean())/data['Revenue'].std(ddof=0) #算出Z-score的標準差單位(標準化)\n",
        "data.head()"
      ],
      "execution_count": 288,
      "outputs": [
        {
          "output_type": "execute_result",
          "data": {
            "text/html": [
              "<div>\n",
              "<style scoped>\n",
              "    .dataframe tbody tr th:only-of-type {\n",
              "        vertical-align: middle;\n",
              "    }\n",
              "\n",
              "    .dataframe tbody tr th {\n",
              "        vertical-align: top;\n",
              "    }\n",
              "\n",
              "    .dataframe thead th {\n",
              "        text-align: right;\n",
              "    }\n",
              "</style>\n",
              "<table border=\"1\" class=\"dataframe\">\n",
              "  <thead>\n",
              "    <tr style=\"text-align: right;\">\n",
              "      <th></th>\n",
              "      <th>InvoiceNo</th>\n",
              "      <th>StockCode</th>\n",
              "      <th>Description</th>\n",
              "      <th>Quantity</th>\n",
              "      <th>InvoiceDate</th>\n",
              "      <th>UnitPrice</th>\n",
              "      <th>CustomerID</th>\n",
              "      <th>Country</th>\n",
              "      <th>member_start_date</th>\n",
              "      <th>first_trans_date</th>\n",
              "      <th>Revenue</th>\n",
              "      <th>Revenue_zcore</th>\n",
              "    </tr>\n",
              "  </thead>\n",
              "  <tbody>\n",
              "    <tr>\n",
              "      <th>0</th>\n",
              "      <td>PS5327001158</td>\n",
              "      <td>JA01</td>\n",
              "      <td>晶淬雪潔顏乳100ml</td>\n",
              "      <td>8.00</td>\n",
              "      <td>2019-01-01</td>\n",
              "      <td>1259.00</td>\n",
              "      <td>9100002488768.00</td>\n",
              "      <td>中區</td>\n",
              "      <td>2019-12-09</td>\n",
              "      <td>2018-06-24</td>\n",
              "      <td>10072.00</td>\n",
              "      <td>-0.08</td>\n",
              "    </tr>\n",
              "    <tr>\n",
              "      <th>1</th>\n",
              "      <td>PS5335020955</td>\n",
              "      <td>KG06</td>\n",
              "      <td>多肽亮眼乳霜20g-保濕型</td>\n",
              "      <td>8.00</td>\n",
              "      <td>2019-01-01</td>\n",
              "      <td>839.00</td>\n",
              "      <td>9100002556566.00</td>\n",
              "      <td>中區</td>\n",
              "      <td>2018-10-21</td>\n",
              "      <td>2018-10-21</td>\n",
              "      <td>6712.00</td>\n",
              "      <td>-0.08</td>\n",
              "    </tr>\n",
              "    <tr>\n",
              "      <th>2</th>\n",
              "      <td>PS5335020955</td>\n",
              "      <td>BJ102</td>\n",
              "      <td>檸檬精油10ml MUI</td>\n",
              "      <td>8.00</td>\n",
              "      <td>2019-01-01</td>\n",
              "      <td>839.00</td>\n",
              "      <td>9100002556566.00</td>\n",
              "      <td>中區</td>\n",
              "      <td>2018-10-21</td>\n",
              "      <td>2018-10-21</td>\n",
              "      <td>6712.00</td>\n",
              "      <td>-0.08</td>\n",
              "    </tr>\n",
              "    <tr>\n",
              "      <th>3</th>\n",
              "      <td>PS5335020955</td>\n",
              "      <td>JZA3G1</td>\n",
              "      <td>柚見快樂精油15ml MUI</td>\n",
              "      <td>-8.00</td>\n",
              "      <td>2019-01-01</td>\n",
              "      <td>-1501.00</td>\n",
              "      <td>9100002556566.00</td>\n",
              "      <td>中區</td>\n",
              "      <td>2018-10-21</td>\n",
              "      <td>2018-10-21</td>\n",
              "      <td>-12008.00</td>\n",
              "      <td>-0.10</td>\n",
              "    </tr>\n",
              "    <tr>\n",
              "      <th>4</th>\n",
              "      <td>PS5444006919</td>\n",
              "      <td>BJ103</td>\n",
              "      <td>細花冬青香氛油10ml MUI</td>\n",
              "      <td>8.00</td>\n",
              "      <td>2019-01-01</td>\n",
              "      <td>672.00</td>\n",
              "      <td>9100002582077.00</td>\n",
              "      <td>南區</td>\n",
              "      <td>2018-12-04</td>\n",
              "      <td>2018-12-04</td>\n",
              "      <td>5376.00</td>\n",
              "      <td>-0.08</td>\n",
              "    </tr>\n",
              "  </tbody>\n",
              "</table>\n",
              "</div>"
            ],
            "text/plain": [
              "      InvoiceNo StockCode  ...   Revenue  Revenue_zcore\n",
              "0  PS5327001158      JA01  ...  10072.00          -0.08\n",
              "1  PS5335020955      KG06  ...   6712.00          -0.08\n",
              "2  PS5335020955     BJ102  ...   6712.00          -0.08\n",
              "3  PS5335020955    JZA3G1  ... -12008.00          -0.10\n",
              "4  PS5444006919     BJ103  ...   5376.00          -0.08\n",
              "\n",
              "[5 rows x 12 columns]"
            ]
          },
          "metadata": {},
          "execution_count": 288
        }
      ]
    },
    {
      "cell_type": "code",
      "metadata": {
        "colab": {
          "base_uri": "https://localhost:8080/",
          "height": 0
        },
        "id": "3OmETpZsYCkO",
        "outputId": "8c8fad2b-3ae1-40ca-b439-bfdd972a18c6"
      },
      "source": [
        "#抓出異常值>3的資料以及<-3的資料\n",
        "data['Outlier'] = (abs(data['Revenue_zcore'])>3).astype(int) #[data['Revenue_zcore']>3]得出一個『布林值』，需要用[.astype(int)]來轉換成『int(數值)』\n",
        "data.loc[data['Outlier']>0,['Revenue','Revenue_zcore']] #列出所有>0的資料"
      ],
      "execution_count": 289,
      "outputs": [
        {
          "output_type": "execute_result",
          "data": {
            "text/html": [
              "<div>\n",
              "<style scoped>\n",
              "    .dataframe tbody tr th:only-of-type {\n",
              "        vertical-align: middle;\n",
              "    }\n",
              "\n",
              "    .dataframe tbody tr th {\n",
              "        vertical-align: top;\n",
              "    }\n",
              "\n",
              "    .dataframe thead th {\n",
              "        text-align: right;\n",
              "    }\n",
              "</style>\n",
              "<table border=\"1\" class=\"dataframe\">\n",
              "  <thead>\n",
              "    <tr style=\"text-align: right;\">\n",
              "      <th></th>\n",
              "      <th>Revenue</th>\n",
              "      <th>Revenue_zcore</th>\n",
              "    </tr>\n",
              "  </thead>\n",
              "  <tbody>\n",
              "    <tr>\n",
              "      <th>1699</th>\n",
              "      <td>4844064.00</td>\n",
              "      <td>5.16</td>\n",
              "    </tr>\n",
              "    <tr>\n",
              "      <th>4458</th>\n",
              "      <td>4023600.00</td>\n",
              "      <td>4.27</td>\n",
              "    </tr>\n",
              "    <tr>\n",
              "      <th>4668</th>\n",
              "      <td>5788320.00</td>\n",
              "      <td>6.19</td>\n",
              "    </tr>\n",
              "    <tr>\n",
              "      <th>5070</th>\n",
              "      <td>11329248.00</td>\n",
              "      <td>12.19</td>\n",
              "    </tr>\n",
              "    <tr>\n",
              "      <th>6362</th>\n",
              "      <td>4023600.00</td>\n",
              "      <td>4.27</td>\n",
              "    </tr>\n",
              "    <tr>\n",
              "      <th>...</th>\n",
              "      <td>...</td>\n",
              "      <td>...</td>\n",
              "    </tr>\n",
              "    <tr>\n",
              "      <th>1402112</th>\n",
              "      <td>6006792.00</td>\n",
              "      <td>6.42</td>\n",
              "    </tr>\n",
              "    <tr>\n",
              "      <th>1402113</th>\n",
              "      <td>4755136.00</td>\n",
              "      <td>5.07</td>\n",
              "    </tr>\n",
              "    <tr>\n",
              "      <th>1402115</th>\n",
              "      <td>5851016.00</td>\n",
              "      <td>6.25</td>\n",
              "    </tr>\n",
              "    <tr>\n",
              "      <th>1402120</th>\n",
              "      <td>17226552.00</td>\n",
              "      <td>18.59</td>\n",
              "    </tr>\n",
              "    <tr>\n",
              "      <th>1403200</th>\n",
              "      <td>5950008.00</td>\n",
              "      <td>6.36</td>\n",
              "    </tr>\n",
              "  </tbody>\n",
              "</table>\n",
              "<p>692 rows × 2 columns</p>\n",
              "</div>"
            ],
            "text/plain": [
              "            Revenue  Revenue_zcore\n",
              "1699     4844064.00           5.16\n",
              "4458     4023600.00           4.27\n",
              "4668     5788320.00           6.19\n",
              "5070    11329248.00          12.19\n",
              "6362     4023600.00           4.27\n",
              "...             ...            ...\n",
              "1402112  6006792.00           6.42\n",
              "1402113  4755136.00           5.07\n",
              "1402115  5851016.00           6.25\n",
              "1402120 17226552.00          18.59\n",
              "1403200  5950008.00           6.36\n",
              "\n",
              "[692 rows x 2 columns]"
            ]
          },
          "metadata": {},
          "execution_count": 289
        }
      ]
    },
    {
      "cell_type": "code",
      "metadata": {
        "colab": {
          "base_uri": "https://localhost:8080/",
          "height": 0
        },
        "id": "JHJcnoxIZqy9",
        "outputId": "195f5d09-e30c-48ff-c611-63bcfac68de2"
      },
      "source": [
        "#找出非異常值的資料\n",
        "data.loc[data['Outlier']==0,['Revenue','Revenue_zcore']]"
      ],
      "execution_count": 290,
      "outputs": [
        {
          "output_type": "execute_result",
          "data": {
            "text/html": [
              "<div>\n",
              "<style scoped>\n",
              "    .dataframe tbody tr th:only-of-type {\n",
              "        vertical-align: middle;\n",
              "    }\n",
              "\n",
              "    .dataframe tbody tr th {\n",
              "        vertical-align: top;\n",
              "    }\n",
              "\n",
              "    .dataframe thead th {\n",
              "        text-align: right;\n",
              "    }\n",
              "</style>\n",
              "<table border=\"1\" class=\"dataframe\">\n",
              "  <thead>\n",
              "    <tr style=\"text-align: right;\">\n",
              "      <th></th>\n",
              "      <th>Revenue</th>\n",
              "      <th>Revenue_zcore</th>\n",
              "    </tr>\n",
              "  </thead>\n",
              "  <tbody>\n",
              "    <tr>\n",
              "      <th>0</th>\n",
              "      <td>10072.00</td>\n",
              "      <td>-0.08</td>\n",
              "    </tr>\n",
              "    <tr>\n",
              "      <th>1</th>\n",
              "      <td>6712.00</td>\n",
              "      <td>-0.08</td>\n",
              "    </tr>\n",
              "    <tr>\n",
              "      <th>2</th>\n",
              "      <td>6712.00</td>\n",
              "      <td>-0.08</td>\n",
              "    </tr>\n",
              "    <tr>\n",
              "      <th>3</th>\n",
              "      <td>-12008.00</td>\n",
              "      <td>-0.10</td>\n",
              "    </tr>\n",
              "    <tr>\n",
              "      <th>4</th>\n",
              "      <td>5376.00</td>\n",
              "      <td>-0.08</td>\n",
              "    </tr>\n",
              "    <tr>\n",
              "      <th>...</th>\n",
              "      <td>...</td>\n",
              "      <td>...</td>\n",
              "    </tr>\n",
              "    <tr>\n",
              "      <th>1404430</th>\n",
              "      <td>47136.00</td>\n",
              "      <td>-0.04</td>\n",
              "    </tr>\n",
              "    <tr>\n",
              "      <th>1404431</th>\n",
              "      <td>2472.00</td>\n",
              "      <td>-0.09</td>\n",
              "    </tr>\n",
              "    <tr>\n",
              "      <th>1404432</th>\n",
              "      <td>8752.00</td>\n",
              "      <td>-0.08</td>\n",
              "    </tr>\n",
              "    <tr>\n",
              "      <th>1404433</th>\n",
              "      <td>2640.00</td>\n",
              "      <td>-0.09</td>\n",
              "    </tr>\n",
              "    <tr>\n",
              "      <th>1404434</th>\n",
              "      <td>3528.00</td>\n",
              "      <td>-0.09</td>\n",
              "    </tr>\n",
              "  </tbody>\n",
              "</table>\n",
              "<p>1403032 rows × 2 columns</p>\n",
              "</div>"
            ],
            "text/plain": [
              "          Revenue  Revenue_zcore\n",
              "0        10072.00          -0.08\n",
              "1         6712.00          -0.08\n",
              "2         6712.00          -0.08\n",
              "3       -12008.00          -0.10\n",
              "4         5376.00          -0.08\n",
              "...           ...            ...\n",
              "1404430  47136.00          -0.04\n",
              "1404431   2472.00          -0.09\n",
              "1404432   8752.00          -0.08\n",
              "1404433   2640.00          -0.09\n",
              "1404434   3528.00          -0.09\n",
              "\n",
              "[1403032 rows x 2 columns]"
            ]
          },
          "metadata": {},
          "execution_count": 290
        }
      ]
    },
    {
      "cell_type": "code",
      "metadata": {
        "colab": {
          "base_uri": "https://localhost:8080/"
        },
        "id": "D0wtpmq5a4ET",
        "outputId": "2d7ada9a-50fe-43a8-d367-e3e0c1916d88"
      },
      "source": [
        "data = data[data['Outlier']==0]\n",
        "data.shape"
      ],
      "execution_count": 291,
      "outputs": [
        {
          "output_type": "execute_result",
          "data": {
            "text/plain": [
              "(1403032, 13)"
            ]
          },
          "metadata": {},
          "execution_count": 291
        }
      ]
    },
    {
      "cell_type": "code",
      "metadata": {
        "colab": {
          "base_uri": "https://localhost:8080/",
          "height": 0
        },
        "id": "9xBy6KXxbaD8",
        "outputId": "c5ccd6ae-a184-479f-9e4d-5b836f85ff7d"
      },
      "source": [
        "#再來看整個數值標準化後整個分部的圖，較常用的為box或hist\n",
        "import seaborn as sns\n",
        "import matplotlib.pyplot as plt\n",
        "\n",
        "figure, axis = plt.subplots(1, 2,figsize=(18,8))\n",
        "data['Revenue'].plot.box(ax=axis[0])\n",
        "axis[0].set_title('Revenue box')\n",
        "data['Revenue'].plot.hist(ax=axis[1])\n",
        "axis[1].set_title('Revenue hist') #hist看密度  box看四分衛分佈\n",
        "plt.show()"
      ],
      "execution_count": 292,
      "outputs": [
        {
          "output_type": "display_data",
          "data": {
            "image/png": "[encoded data removed]",
            "text/plain": [
              "<Figure size 1296x576 with 2 Axes>"
            ]
          },
          "metadata": {
            "needs_background": "light"
          }
        }
      ]
    },
    {
      "cell_type": "markdown",
      "metadata": {
        "id": "yK-E1Ei9gQ8m"
      },
      "source": [
        "## IQR抓異常值 (sales_data1)\n",
        "IQR = Q3-Q1\n",
        "\n",
        "Outlier = Observations>Q3 + 1.5IQR or Q1-1.5IQR"
      ]
    },
    {
      "cell_type": "code",
      "metadata": {
        "colab": {
          "base_uri": "https://localhost:8080/",
          "height": 294
        },
        "id": "DlfbVvMXgaZh",
        "outputId": "fb5a54ff-b840-47c4-af98-801ffeefde0c"
      },
      "source": [
        "sales_data1['Revenue'].plot.box()"
      ],
      "execution_count": 293,
      "outputs": [
        {
          "output_type": "execute_result",
          "data": {
            "text/plain": [
              "<matplotlib.axes._subplots.AxesSubplot at 0x7f89995658d0>"
            ]
          },
          "metadata": {},
          "execution_count": 293
        },
        {
          "output_type": "display_data",
          "data": {
            "image/png": "[encoded data removed]",
            "text/plain": [
              "<Figure size 432x288 with 1 Axes>"
            ]
          },
          "metadata": {
            "needs_background": "light"
          }
        }
      ]
    },
    {
      "cell_type": "code",
      "metadata": {
        "id": "vTGAF4Uogumb"
      },
      "source": [
        "#def寫python的函式\n",
        "def Outlier_treatment(datacolumn): #傳入datacolumn這個變數\n",
        "  Q1,Q3 =np.percentile(datacolumn,[25,75]) #算出Q1=25 Q3=75 這個是固定的\n",
        "  IQR = Q3-Q1\n",
        "  lower_range = Q1 - (1.5*IQR)\n",
        "  high_range = Q3 + (1.5*IQR)\n",
        "  return lower_range,high_range"
      ],
      "execution_count": 294,
      "outputs": []
    },
    {
      "cell_type": "code",
      "metadata": {
        "colab": {
          "base_uri": "https://localhost:8080/",
          "height": 423
        },
        "id": "3KTtzAqmh_Ub",
        "outputId": "a5cc90e7-6cee-459c-e947-3c3c31e953db"
      },
      "source": [
        "#抓出異常值\n",
        "lowerbound,highbound = Outlier_treatment(sales_data1['Revenue'])\n",
        "\n",
        "sales_data1[(sales_data1['Revenue']< lowerbound) | (sales_data1['Revenue']>highbound)] "
      ],
      "execution_count": 295,
      "outputs": [
        {
          "output_type": "execute_result",
          "data": {
            "text/html": [
              "<div>\n",
              "<style scoped>\n",
              "    .dataframe tbody tr th:only-of-type {\n",
              "        vertical-align: middle;\n",
              "    }\n",
              "\n",
              "    .dataframe tbody tr th {\n",
              "        vertical-align: top;\n",
              "    }\n",
              "\n",
              "    .dataframe thead th {\n",
              "        text-align: right;\n",
              "    }\n",
              "</style>\n",
              "<table border=\"1\" class=\"dataframe\">\n",
              "  <thead>\n",
              "    <tr style=\"text-align: right;\">\n",
              "      <th></th>\n",
              "      <th>InvoiceNo</th>\n",
              "      <th>StockCode</th>\n",
              "      <th>Description</th>\n",
              "      <th>Quantity</th>\n",
              "      <th>InvoiceDate</th>\n",
              "      <th>UnitPrice</th>\n",
              "      <th>CustomerID</th>\n",
              "      <th>Country</th>\n",
              "      <th>member_start_date</th>\n",
              "      <th>first_trans_date</th>\n",
              "      <th>Revenue</th>\n",
              "    </tr>\n",
              "  </thead>\n",
              "  <tbody>\n",
              "    <tr>\n",
              "      <th>9</th>\n",
              "      <td>PS5262016031</td>\n",
              "      <td>HA89A01</td>\n",
              "      <td>肌因彈潤課程單堂</td>\n",
              "      <td>48.00</td>\n",
              "      <td>2019-01-01</td>\n",
              "      <td>9559.00</td>\n",
              "      <td>9100000407160.00</td>\n",
              "      <td>竹區</td>\n",
              "      <td>2007-01-02</td>\n",
              "      <td>2012-07-28</td>\n",
              "      <td>458832.00</td>\n",
              "    </tr>\n",
              "    <tr>\n",
              "      <th>10</th>\n",
              "      <td>PS5262016032</td>\n",
              "      <td>HB90A01</td>\n",
              "      <td>全背順氣活力SPA課程單堂</td>\n",
              "      <td>96.00</td>\n",
              "      <td>2019-01-01</td>\n",
              "      <td>11559.00</td>\n",
              "      <td>9100000407160.00</td>\n",
              "      <td>竹區</td>\n",
              "      <td>2007-01-02</td>\n",
              "      <td>2012-07-28</td>\n",
              "      <td>1109664.00</td>\n",
              "    </tr>\n",
              "    <tr>\n",
              "      <th>13</th>\n",
              "      <td>PS530A050714</td>\n",
              "      <td>FB40A01</td>\n",
              "      <td>旗艦暖宮腹活SPA課程單堂</td>\n",
              "      <td>96.00</td>\n",
              "      <td>2019-01-01</td>\n",
              "      <td>13259.00</td>\n",
              "      <td>9100002554883.00</td>\n",
              "      <td>中區</td>\n",
              "      <td>2018-10-18</td>\n",
              "      <td>2018-10-18</td>\n",
              "      <td>1272864.00</td>\n",
              "    </tr>\n",
              "    <tr>\n",
              "      <th>19</th>\n",
              "      <td>PS5323017890</td>\n",
              "      <td>K0464B</td>\n",
              "      <td>DC龍血緊緻修護面膜26ml+5g-單包</td>\n",
              "      <td>-56.00</td>\n",
              "      <td>2019-01-01</td>\n",
              "      <td>-1006.00</td>\n",
              "      <td>9100000045758.00</td>\n",
              "      <td>中區</td>\n",
              "      <td>2001-05-20</td>\n",
              "      <td>2012-07-17</td>\n",
              "      <td>-56336.00</td>\n",
              "    </tr>\n",
              "    <tr>\n",
              "      <th>31</th>\n",
              "      <td>PS5213017253</td>\n",
              "      <td>HA50A01</td>\n",
              "      <td>胜肽美顏SPA護理單堂</td>\n",
              "      <td>48.00</td>\n",
              "      <td>2019-01-01</td>\n",
              "      <td>6059.00</td>\n",
              "      <td>9100001531076.00</td>\n",
              "      <td>台北B區</td>\n",
              "      <td>2013-11-23</td>\n",
              "      <td>2013-04-09</td>\n",
              "      <td>290832.00</td>\n",
              "    </tr>\n",
              "    <tr>\n",
              "      <th>...</th>\n",
              "      <td>...</td>\n",
              "      <td>...</td>\n",
              "      <td>...</td>\n",
              "      <td>...</td>\n",
              "      <td>...</td>\n",
              "      <td>...</td>\n",
              "      <td>...</td>\n",
              "      <td>...</td>\n",
              "      <td>...</td>\n",
              "      <td>...</td>\n",
              "      <td>...</td>\n",
              "    </tr>\n",
              "    <tr>\n",
              "      <th>1404400</th>\n",
              "      <td>PS5324024939</td>\n",
              "      <td>JAA3G2</td>\n",
              "      <td>玻尿酸超保濕精華96%原液60ml</td>\n",
              "      <td>16.00</td>\n",
              "      <td>2020-12-31</td>\n",
              "      <td>4239.00</td>\n",
              "      <td>9100000043037.00</td>\n",
              "      <td>中區</td>\n",
              "      <td>2004-11-11</td>\n",
              "      <td>2012-07-23</td>\n",
              "      <td>67824.00</td>\n",
              "    </tr>\n",
              "    <tr>\n",
              "      <th>1404401</th>\n",
              "      <td>PS5324024939</td>\n",
              "      <td>KQ02</td>\n",
              "      <td>玫瑰晶萃活膚液130ml</td>\n",
              "      <td>24.00</td>\n",
              "      <td>2020-12-31</td>\n",
              "      <td>5395.00</td>\n",
              "      <td>9100000043037.00</td>\n",
              "      <td>中區</td>\n",
              "      <td>2004-11-11</td>\n",
              "      <td>2012-07-23</td>\n",
              "      <td>129480.00</td>\n",
              "    </tr>\n",
              "    <tr>\n",
              "      <th>1404418</th>\n",
              "      <td>PS5324024940</td>\n",
              "      <td>KQ06</td>\n",
              "      <td>玫瑰晶萃瞬效霜30ml</td>\n",
              "      <td>16.00</td>\n",
              "      <td>2020-12-31</td>\n",
              "      <td>4083.00</td>\n",
              "      <td>9100000706055.00</td>\n",
              "      <td>中區</td>\n",
              "      <td>2011-12-21</td>\n",
              "      <td>2014-03-10</td>\n",
              "      <td>65328.00</td>\n",
              "    </tr>\n",
              "    <tr>\n",
              "      <th>1404421</th>\n",
              "      <td>PS5324024940</td>\n",
              "      <td>MAA7G1</td>\n",
              "      <td>白金密集煥白面膜18ml*6pcs</td>\n",
              "      <td>32.00</td>\n",
              "      <td>2020-12-31</td>\n",
              "      <td>6923.00</td>\n",
              "      <td>9100000706055.00</td>\n",
              "      <td>中區</td>\n",
              "      <td>2011-12-21</td>\n",
              "      <td>2014-03-10</td>\n",
              "      <td>221536.00</td>\n",
              "    </tr>\n",
              "    <tr>\n",
              "      <th>1404424</th>\n",
              "      <td>PS5324024941</td>\n",
              "      <td>WD096</td>\n",
              "      <td>緊緻保濕裸膚羽翼面膜25ml-零售單包</td>\n",
              "      <td>48.00</td>\n",
              "      <td>2020-12-31</td>\n",
              "      <td>3354.00</td>\n",
              "      <td>9100000595826.00</td>\n",
              "      <td>中區</td>\n",
              "      <td>2010-03-15</td>\n",
              "      <td>2012-07-11</td>\n",
              "      <td>160992.00</td>\n",
              "    </tr>\n",
              "  </tbody>\n",
              "</table>\n",
              "<p>222528 rows × 11 columns</p>\n",
              "</div>"
            ],
            "text/plain": [
              "            InvoiceNo StockCode  ... first_trans_date    Revenue\n",
              "9        PS5262016031   HA89A01  ...       2012-07-28  458832.00\n",
              "10       PS5262016032   HB90A01  ...       2012-07-28 1109664.00\n",
              "13       PS530A050714   FB40A01  ...       2018-10-18 1272864.00\n",
              "19       PS5323017890    K0464B  ...       2012-07-17  -56336.00\n",
              "31       PS5213017253   HA50A01  ...       2013-04-09  290832.00\n",
              "...               ...       ...  ...              ...        ...\n",
              "1404400  PS5324024939    JAA3G2  ...       2012-07-23   67824.00\n",
              "1404401  PS5324024939      KQ02  ...       2012-07-23  129480.00\n",
              "1404418  PS5324024940      KQ06  ...       2014-03-10   65328.00\n",
              "1404421  PS5324024940    MAA7G1  ...       2014-03-10  221536.00\n",
              "1404424  PS5324024941     WD096  ...       2012-07-11  160992.00\n",
              "\n",
              "[222528 rows x 11 columns]"
            ]
          },
          "metadata": {},
          "execution_count": 295
        }
      ]
    },
    {
      "cell_type": "code",
      "metadata": {
        "id": "OhmtIG03ihI9"
      },
      "source": [
        "sales_data1.drop(sales_data1[(sales_data1['Revenue']< lowerbound) | (sales_data1['Revenue']> highbound)].index,inplace=True) #去除異常值"
      ],
      "execution_count": 296,
      "outputs": []
    },
    {
      "cell_type": "code",
      "metadata": {
        "colab": {
          "base_uri": "https://localhost:8080/",
          "height": 499
        },
        "id": "8JTjmW2PpW2_",
        "outputId": "0921747b-8499-4533-a514-3cb64379b2ab"
      },
      "source": [
        "figure, axis = plt.subplots(1, 2,figsize=(18,8))\n",
        "sales_data1['Revenue'].plot.box(ax=axis[0])\n",
        "axis[0].set_title('Revenue box')\n",
        "sales_data1['Revenue'].plot.hist(ax=axis[1])\n",
        "axis[1].set_title('Revenue hist')\n",
        "plt.show()"
      ],
      "execution_count": 297,
      "outputs": [
        {
          "output_type": "display_data",
          "data": {
            "image/png": "[encoded data removed]",
            "text/plain": [
              "<Figure size 1296x576 with 2 Axes>"
            ]
          },
          "metadata": {
            "needs_background": "light"
          }
        }
      ]
    },
    {
      "cell_type": "markdown",
      "metadata": {
        "id": "DSY-SNWIrC0f"
      },
      "source": [
        "##畫圖"
      ]
    },
    {
      "cell_type": "markdown",
      "metadata": {
        "id": "P3KJw2dksqGQ"
      },
      "source": [
        "###Minthly Revenue"
      ]
    },
    {
      "cell_type": "code",
      "metadata": {
        "colab": {
          "base_uri": "https://localhost:8080/",
          "height": 0
        },
        "id": "hpBr60KnqEtQ",
        "outputId": "1acd3846-38d9-40e3-d70e-c2d2292879c6"
      },
      "source": [
        "sales_data1.head()"
      ],
      "execution_count": 298,
      "outputs": [
        {
          "output_type": "execute_result",
          "data": {
            "text/html": [
              "<div>\n",
              "<style scoped>\n",
              "    .dataframe tbody tr th:only-of-type {\n",
              "        vertical-align: middle;\n",
              "    }\n",
              "\n",
              "    .dataframe tbody tr th {\n",
              "        vertical-align: top;\n",
              "    }\n",
              "\n",
              "    .dataframe thead th {\n",
              "        text-align: right;\n",
              "    }\n",
              "</style>\n",
              "<table border=\"1\" class=\"dataframe\">\n",
              "  <thead>\n",
              "    <tr style=\"text-align: right;\">\n",
              "      <th></th>\n",
              "      <th>InvoiceNo</th>\n",
              "      <th>StockCode</th>\n",
              "      <th>Description</th>\n",
              "      <th>Quantity</th>\n",
              "      <th>InvoiceDate</th>\n",
              "      <th>UnitPrice</th>\n",
              "      <th>CustomerID</th>\n",
              "      <th>Country</th>\n",
              "      <th>member_start_date</th>\n",
              "      <th>first_trans_date</th>\n",
              "      <th>Revenue</th>\n",
              "    </tr>\n",
              "  </thead>\n",
              "  <tbody>\n",
              "    <tr>\n",
              "      <th>0</th>\n",
              "      <td>PS5327001158</td>\n",
              "      <td>JA01</td>\n",
              "      <td>晶淬雪潔顏乳100ml</td>\n",
              "      <td>8.00</td>\n",
              "      <td>2019-01-01</td>\n",
              "      <td>1259.00</td>\n",
              "      <td>9100002488768.00</td>\n",
              "      <td>中區</td>\n",
              "      <td>2019-12-09</td>\n",
              "      <td>2018-06-24</td>\n",
              "      <td>10072.00</td>\n",
              "    </tr>\n",
              "    <tr>\n",
              "      <th>1</th>\n",
              "      <td>PS5335020955</td>\n",
              "      <td>KG06</td>\n",
              "      <td>多肽亮眼乳霜20g-保濕型</td>\n",
              "      <td>8.00</td>\n",
              "      <td>2019-01-01</td>\n",
              "      <td>839.00</td>\n",
              "      <td>9100002556566.00</td>\n",
              "      <td>中區</td>\n",
              "      <td>2018-10-21</td>\n",
              "      <td>2018-10-21</td>\n",
              "      <td>6712.00</td>\n",
              "    </tr>\n",
              "    <tr>\n",
              "      <th>2</th>\n",
              "      <td>PS5335020955</td>\n",
              "      <td>BJ102</td>\n",
              "      <td>檸檬精油10ml MUI</td>\n",
              "      <td>8.00</td>\n",
              "      <td>2019-01-01</td>\n",
              "      <td>839.00</td>\n",
              "      <td>9100002556566.00</td>\n",
              "      <td>中區</td>\n",
              "      <td>2018-10-21</td>\n",
              "      <td>2018-10-21</td>\n",
              "      <td>6712.00</td>\n",
              "    </tr>\n",
              "    <tr>\n",
              "      <th>3</th>\n",
              "      <td>PS5335020955</td>\n",
              "      <td>JZA3G1</td>\n",
              "      <td>柚見快樂精油15ml MUI</td>\n",
              "      <td>-8.00</td>\n",
              "      <td>2019-01-01</td>\n",
              "      <td>-1501.00</td>\n",
              "      <td>9100002556566.00</td>\n",
              "      <td>中區</td>\n",
              "      <td>2018-10-21</td>\n",
              "      <td>2018-10-21</td>\n",
              "      <td>-12008.00</td>\n",
              "    </tr>\n",
              "    <tr>\n",
              "      <th>4</th>\n",
              "      <td>PS5444006919</td>\n",
              "      <td>BJ103</td>\n",
              "      <td>細花冬青香氛油10ml MUI</td>\n",
              "      <td>8.00</td>\n",
              "      <td>2019-01-01</td>\n",
              "      <td>672.00</td>\n",
              "      <td>9100002582077.00</td>\n",
              "      <td>南區</td>\n",
              "      <td>2018-12-04</td>\n",
              "      <td>2018-12-04</td>\n",
              "      <td>5376.00</td>\n",
              "    </tr>\n",
              "  </tbody>\n",
              "</table>\n",
              "</div>"
            ],
            "text/plain": [
              "      InvoiceNo StockCode  ... first_trans_date   Revenue\n",
              "0  PS5327001158      JA01  ...       2018-06-24  10072.00\n",
              "1  PS5335020955      KG06  ...       2018-10-21   6712.00\n",
              "2  PS5335020955     BJ102  ...       2018-10-21   6712.00\n",
              "3  PS5335020955    JZA3G1  ...       2018-10-21 -12008.00\n",
              "4  PS5444006919     BJ103  ...       2018-12-04   5376.00\n",
              "\n",
              "[5 rows x 11 columns]"
            ]
          },
          "metadata": {},
          "execution_count": 298
        }
      ]
    },
    {
      "cell_type": "code",
      "metadata": {
        "colab": {
          "base_uri": "https://localhost:8080/"
        },
        "id": "0lsRCixJssoe",
        "outputId": "61bd1694-9a3f-48f6-a147-8eb42e9c3b1c"
      },
      "source": [
        "sales_data1.info()"
      ],
      "execution_count": 299,
      "outputs": [
        {
          "output_type": "stream",
          "name": "stdout",
          "text": [
            "<class 'pandas.core.frame.DataFrame'>\n",
            "Int64Index: 1181196 entries, 0 to 1404434\n",
            "Data columns (total 11 columns):\n",
            " #   Column             Non-Null Count    Dtype  \n",
            "---  ------             --------------    -----  \n",
            " 0   InvoiceNo          1181196 non-null  object \n",
            " 1   StockCode          1181196 non-null  object \n",
            " 2   Description        1181196 non-null  object \n",
            " 3   Quantity           1181196 non-null  float64\n",
            " 4   InvoiceDate        1181196 non-null  object \n",
            " 5   UnitPrice          1181196 non-null  float64\n",
            " 6   CustomerID         1181196 non-null  float64\n",
            " 7   Country            1181196 non-null  object \n",
            " 8   member_start_date  1144520 non-null  object \n",
            " 9   first_trans_date   1177960 non-null  object \n",
            " 10  Revenue            1181196 non-null  float64\n",
            "dtypes: float64(4), object(7)\n",
            "memory usage: 108.1+ MB\n"
          ]
        }
      ]
    },
    {
      "cell_type": "code",
      "metadata": {
        "colab": {
          "base_uri": "https://localhost:8080/"
        },
        "id": "JFMHaOJ8s4S7",
        "outputId": "87fa152a-024f-4ab9-c6d8-7a99c06e762e"
      },
      "source": [
        "sales_data1['InvoiceDate'] = pd.to_datetime(sales_data1['InvoiceDate']) #轉換成datetime格式\n",
        "sales_data1.info()"
      ],
      "execution_count": 300,
      "outputs": [
        {
          "output_type": "stream",
          "name": "stdout",
          "text": [
            "<class 'pandas.core.frame.DataFrame'>\n",
            "Int64Index: 1181196 entries, 0 to 1404434\n",
            "Data columns (total 11 columns):\n",
            " #   Column             Non-Null Count    Dtype         \n",
            "---  ------             --------------    -----         \n",
            " 0   InvoiceNo          1181196 non-null  object        \n",
            " 1   StockCode          1181196 non-null  object        \n",
            " 2   Description        1181196 non-null  object        \n",
            " 3   Quantity           1181196 non-null  float64       \n",
            " 4   InvoiceDate        1181196 non-null  datetime64[ns]\n",
            " 5   UnitPrice          1181196 non-null  float64       \n",
            " 6   CustomerID         1181196 non-null  float64       \n",
            " 7   Country            1181196 non-null  object        \n",
            " 8   member_start_date  1144520 non-null  object        \n",
            " 9   first_trans_date   1177960 non-null  object        \n",
            " 10  Revenue            1181196 non-null  float64       \n",
            "dtypes: datetime64[ns](1), float64(4), object(6)\n",
            "memory usage: 108.1+ MB\n"
          ]
        }
      ]
    },
    {
      "cell_type": "code",
      "metadata": {
        "colab": {
          "base_uri": "https://localhost:8080/"
        },
        "id": "pD7Hx84Kvzzq",
        "outputId": "631e4908-1053-421e-e53b-4cc03fe1240c"
      },
      "source": [
        "sales_data1.InvoiceDate.dt.year"
      ],
      "execution_count": 301,
      "outputs": [
        {
          "output_type": "execute_result",
          "data": {
            "text/plain": [
              "0          2019\n",
              "1          2019\n",
              "2          2019\n",
              "3          2019\n",
              "4          2019\n",
              "           ... \n",
              "1404430    2020\n",
              "1404431    2020\n",
              "1404432    2020\n",
              "1404433    2020\n",
              "1404434    2020\n",
              "Name: InvoiceDate, Length: 1181196, dtype: int64"
            ]
          },
          "metadata": {},
          "execution_count": 301
        }
      ]
    },
    {
      "cell_type": "code",
      "metadata": {
        "colab": {
          "base_uri": "https://localhost:8080/",
          "height": 0
        },
        "id": "c54kgqzLtCRl",
        "outputId": "ce3bd6dc-2b48-427b-c6df-4512a527e0ed"
      },
      "source": [
        "sales_data1['YearMonth'] = sales_data1['InvoiceDate'].map(lambda date:100 * date.year+date.month)\n",
        "sales_data1.head()"
      ],
      "execution_count": 302,
      "outputs": [
        {
          "output_type": "execute_result",
          "data": {
            "text/html": [
              "<div>\n",
              "<style scoped>\n",
              "    .dataframe tbody tr th:only-of-type {\n",
              "        vertical-align: middle;\n",
              "    }\n",
              "\n",
              "    .dataframe tbody tr th {\n",
              "        vertical-align: top;\n",
              "    }\n",
              "\n",
              "    .dataframe thead th {\n",
              "        text-align: right;\n",
              "    }\n",
              "</style>\n",
              "<table border=\"1\" class=\"dataframe\">\n",
              "  <thead>\n",
              "    <tr style=\"text-align: right;\">\n",
              "      <th></th>\n",
              "      <th>InvoiceNo</th>\n",
              "      <th>StockCode</th>\n",
              "      <th>Description</th>\n",
              "      <th>Quantity</th>\n",
              "      <th>InvoiceDate</th>\n",
              "      <th>UnitPrice</th>\n",
              "      <th>CustomerID</th>\n",
              "      <th>Country</th>\n",
              "      <th>member_start_date</th>\n",
              "      <th>first_trans_date</th>\n",
              "      <th>Revenue</th>\n",
              "      <th>YearMonth</th>\n",
              "    </tr>\n",
              "  </thead>\n",
              "  <tbody>\n",
              "    <tr>\n",
              "      <th>0</th>\n",
              "      <td>PS5327001158</td>\n",
              "      <td>JA01</td>\n",
              "      <td>晶淬雪潔顏乳100ml</td>\n",
              "      <td>8.00</td>\n",
              "      <td>2019-01-01</td>\n",
              "      <td>1259.00</td>\n",
              "      <td>9100002488768.00</td>\n",
              "      <td>中區</td>\n",
              "      <td>2019-12-09</td>\n",
              "      <td>2018-06-24</td>\n",
              "      <td>10072.00</td>\n",
              "      <td>201901</td>\n",
              "    </tr>\n",
              "    <tr>\n",
              "      <th>1</th>\n",
              "      <td>PS5335020955</td>\n",
              "      <td>KG06</td>\n",
              "      <td>多肽亮眼乳霜20g-保濕型</td>\n",
              "      <td>8.00</td>\n",
              "      <td>2019-01-01</td>\n",
              "      <td>839.00</td>\n",
              "      <td>9100002556566.00</td>\n",
              "      <td>中區</td>\n",
              "      <td>2018-10-21</td>\n",
              "      <td>2018-10-21</td>\n",
              "      <td>6712.00</td>\n",
              "      <td>201901</td>\n",
              "    </tr>\n",
              "    <tr>\n",
              "      <th>2</th>\n",
              "      <td>PS5335020955</td>\n",
              "      <td>BJ102</td>\n",
              "      <td>檸檬精油10ml MUI</td>\n",
              "      <td>8.00</td>\n",
              "      <td>2019-01-01</td>\n",
              "      <td>839.00</td>\n",
              "      <td>9100002556566.00</td>\n",
              "      <td>中區</td>\n",
              "      <td>2018-10-21</td>\n",
              "      <td>2018-10-21</td>\n",
              "      <td>6712.00</td>\n",
              "      <td>201901</td>\n",
              "    </tr>\n",
              "    <tr>\n",
              "      <th>3</th>\n",
              "      <td>PS5335020955</td>\n",
              "      <td>JZA3G1</td>\n",
              "      <td>柚見快樂精油15ml MUI</td>\n",
              "      <td>-8.00</td>\n",
              "      <td>2019-01-01</td>\n",
              "      <td>-1501.00</td>\n",
              "      <td>9100002556566.00</td>\n",
              "      <td>中區</td>\n",
              "      <td>2018-10-21</td>\n",
              "      <td>2018-10-21</td>\n",
              "      <td>-12008.00</td>\n",
              "      <td>201901</td>\n",
              "    </tr>\n",
              "    <tr>\n",
              "      <th>4</th>\n",
              "      <td>PS5444006919</td>\n",
              "      <td>BJ103</td>\n",
              "      <td>細花冬青香氛油10ml MUI</td>\n",
              "      <td>8.00</td>\n",
              "      <td>2019-01-01</td>\n",
              "      <td>672.00</td>\n",
              "      <td>9100002582077.00</td>\n",
              "      <td>南區</td>\n",
              "      <td>2018-12-04</td>\n",
              "      <td>2018-12-04</td>\n",
              "      <td>5376.00</td>\n",
              "      <td>201901</td>\n",
              "    </tr>\n",
              "  </tbody>\n",
              "</table>\n",
              "</div>"
            ],
            "text/plain": [
              "      InvoiceNo StockCode  ...   Revenue  YearMonth\n",
              "0  PS5327001158      JA01  ...  10072.00     201901\n",
              "1  PS5335020955      KG06  ...   6712.00     201901\n",
              "2  PS5335020955     BJ102  ...   6712.00     201901\n",
              "3  PS5335020955    JZA3G1  ... -12008.00     201901\n",
              "4  PS5444006919     BJ103  ...   5376.00     201901\n",
              "\n",
              "[5 rows x 12 columns]"
            ]
          },
          "metadata": {},
          "execution_count": 302
        }
      ]
    },
    {
      "cell_type": "code",
      "metadata": {
        "colab": {
          "base_uri": "https://localhost:8080/",
          "height": 0
        },
        "id": "zpYvmcOet_d8",
        "outputId": "409051fb-5404-441c-d949-af7295bcc3e8"
      },
      "source": [
        "tx_revenue = sales_data1.groupby(['YearMonth'])['Revenue'].sum().reset_index() #算出每個月的加總Revenue\n",
        "tx_revenue"
      ],
      "execution_count": 303,
      "outputs": [
        {
          "output_type": "execute_result",
          "data": {
            "text/html": [
              "<div>\n",
              "<style scoped>\n",
              "    .dataframe tbody tr th:only-of-type {\n",
              "        vertical-align: middle;\n",
              "    }\n",
              "\n",
              "    .dataframe tbody tr th {\n",
              "        vertical-align: top;\n",
              "    }\n",
              "\n",
              "    .dataframe thead th {\n",
              "        text-align: right;\n",
              "    }\n",
              "</style>\n",
              "<table border=\"1\" class=\"dataframe\">\n",
              "  <thead>\n",
              "    <tr style=\"text-align: right;\">\n",
              "      <th></th>\n",
              "      <th>YearMonth</th>\n",
              "      <th>Revenue</th>\n",
              "    </tr>\n",
              "  </thead>\n",
              "  <tbody>\n",
              "    <tr>\n",
              "      <th>0</th>\n",
              "      <td>201901</td>\n",
              "      <td>425743824.00</td>\n",
              "    </tr>\n",
              "    <tr>\n",
              "      <th>1</th>\n",
              "      <td>201902</td>\n",
              "      <td>300617976.00</td>\n",
              "    </tr>\n",
              "    <tr>\n",
              "      <th>2</th>\n",
              "      <td>201903</td>\n",
              "      <td>699778888.00</td>\n",
              "    </tr>\n",
              "    <tr>\n",
              "      <th>3</th>\n",
              "      <td>201904</td>\n",
              "      <td>516812544.00</td>\n",
              "    </tr>\n",
              "    <tr>\n",
              "      <th>4</th>\n",
              "      <td>201905</td>\n",
              "      <td>551044368.00</td>\n",
              "    </tr>\n",
              "    <tr>\n",
              "      <th>5</th>\n",
              "      <td>201906</td>\n",
              "      <td>453681976.00</td>\n",
              "    </tr>\n",
              "    <tr>\n",
              "      <th>6</th>\n",
              "      <td>201907</td>\n",
              "      <td>480213760.00</td>\n",
              "    </tr>\n",
              "    <tr>\n",
              "      <th>7</th>\n",
              "      <td>201908</td>\n",
              "      <td>500785128.00</td>\n",
              "    </tr>\n",
              "    <tr>\n",
              "      <th>8</th>\n",
              "      <td>201909</td>\n",
              "      <td>553368896.00</td>\n",
              "    </tr>\n",
              "    <tr>\n",
              "      <th>9</th>\n",
              "      <td>201910</td>\n",
              "      <td>643763416.00</td>\n",
              "    </tr>\n",
              "    <tr>\n",
              "      <th>10</th>\n",
              "      <td>201911</td>\n",
              "      <td>602731880.00</td>\n",
              "    </tr>\n",
              "    <tr>\n",
              "      <th>11</th>\n",
              "      <td>201912</td>\n",
              "      <td>650472000.00</td>\n",
              "    </tr>\n",
              "    <tr>\n",
              "      <th>12</th>\n",
              "      <td>202001</td>\n",
              "      <td>506539352.00</td>\n",
              "    </tr>\n",
              "    <tr>\n",
              "      <th>13</th>\n",
              "      <td>202002</td>\n",
              "      <td>510690080.00</td>\n",
              "    </tr>\n",
              "    <tr>\n",
              "      <th>14</th>\n",
              "      <td>202003</td>\n",
              "      <td>591391280.00</td>\n",
              "    </tr>\n",
              "    <tr>\n",
              "      <th>15</th>\n",
              "      <td>202004</td>\n",
              "      <td>567085392.00</td>\n",
              "    </tr>\n",
              "    <tr>\n",
              "      <th>16</th>\n",
              "      <td>202005</td>\n",
              "      <td>645260568.00</td>\n",
              "    </tr>\n",
              "    <tr>\n",
              "      <th>17</th>\n",
              "      <td>202006</td>\n",
              "      <td>625529096.00</td>\n",
              "    </tr>\n",
              "    <tr>\n",
              "      <th>18</th>\n",
              "      <td>202007</td>\n",
              "      <td>489143240.00</td>\n",
              "    </tr>\n",
              "    <tr>\n",
              "      <th>19</th>\n",
              "      <td>202008</td>\n",
              "      <td>549924200.00</td>\n",
              "    </tr>\n",
              "    <tr>\n",
              "      <th>20</th>\n",
              "      <td>202009</td>\n",
              "      <td>491556200.00</td>\n",
              "    </tr>\n",
              "    <tr>\n",
              "      <th>21</th>\n",
              "      <td>202010</td>\n",
              "      <td>513489528.00</td>\n",
              "    </tr>\n",
              "    <tr>\n",
              "      <th>22</th>\n",
              "      <td>202011</td>\n",
              "      <td>586158760.00</td>\n",
              "    </tr>\n",
              "    <tr>\n",
              "      <th>23</th>\n",
              "      <td>202012</td>\n",
              "      <td>584113720.00</td>\n",
              "    </tr>\n",
              "  </tbody>\n",
              "</table>\n",
              "</div>"
            ],
            "text/plain": [
              "    YearMonth      Revenue\n",
              "0      201901 425743824.00\n",
              "1      201902 300617976.00\n",
              "2      201903 699778888.00\n",
              "3      201904 516812544.00\n",
              "4      201905 551044368.00\n",
              "5      201906 453681976.00\n",
              "6      201907 480213760.00\n",
              "7      201908 500785128.00\n",
              "8      201909 553368896.00\n",
              "9      201910 643763416.00\n",
              "10     201911 602731880.00\n",
              "11     201912 650472000.00\n",
              "12     202001 506539352.00\n",
              "13     202002 510690080.00\n",
              "14     202003 591391280.00\n",
              "15     202004 567085392.00\n",
              "16     202005 645260568.00\n",
              "17     202006 625529096.00\n",
              "18     202007 489143240.00\n",
              "19     202008 549924200.00\n",
              "20     202009 491556200.00\n",
              "21     202010 513489528.00\n",
              "22     202011 586158760.00\n",
              "23     202012 584113720.00"
            ]
          },
          "metadata": {},
          "execution_count": 303
        }
      ]
    },
    {
      "cell_type": "code",
      "metadata": {
        "colab": {
          "base_uri": "https://localhost:8080/"
        },
        "id": "b5A6ZdWLxkoj",
        "outputId": "dfdb4ce6-dac7-4908-d13b-8566b85cc5cf"
      },
      "source": [
        "tx_revenue.info() #型態要改"
      ],
      "execution_count": 304,
      "outputs": [
        {
          "output_type": "stream",
          "name": "stdout",
          "text": [
            "<class 'pandas.core.frame.DataFrame'>\n",
            "RangeIndex: 24 entries, 0 to 23\n",
            "Data columns (total 2 columns):\n",
            " #   Column     Non-Null Count  Dtype  \n",
            "---  ------     --------------  -----  \n",
            " 0   YearMonth  24 non-null     int64  \n",
            " 1   Revenue    24 non-null     float64\n",
            "dtypes: float64(1), int64(1)\n",
            "memory usage: 512.0 bytes\n"
          ]
        }
      ]
    },
    {
      "cell_type": "code",
      "metadata": {
        "colab": {
          "base_uri": "https://localhost:8080/"
        },
        "id": "rgZj5eC51M3w",
        "outputId": "fc36fe02-888d-473f-a1ec-0faee4b2cb2e"
      },
      "source": [
        "tx_revenue['YearMonth'] = tx_revenue['YearMonth'].astype(str)\n",
        "tx_revenue.info()"
      ],
      "execution_count": 305,
      "outputs": [
        {
          "output_type": "stream",
          "name": "stdout",
          "text": [
            "<class 'pandas.core.frame.DataFrame'>\n",
            "RangeIndex: 24 entries, 0 to 23\n",
            "Data columns (total 2 columns):\n",
            " #   Column     Non-Null Count  Dtype  \n",
            "---  ------     --------------  -----  \n",
            " 0   YearMonth  24 non-null     object \n",
            " 1   Revenue    24 non-null     float64\n",
            "dtypes: float64(1), object(1)\n",
            "memory usage: 512.0+ bytes\n"
          ]
        }
      ]
    },
    {
      "cell_type": "code",
      "metadata": {
        "colab": {
          "base_uri": "https://localhost:8080/",
          "height": 0
        },
        "id": "fZivOUxYx8NA",
        "outputId": "9ff670b4-86b0-4bd2-fb6c-2289e3374ad4"
      },
      "source": [
        "fig,axes = plt.subplots(figsize=(20,6))\n",
        "sns.lineplot(ax = axes,x='YearMonth',y='Revenue',data=tx_revenue)\n",
        "plt.show()"
      ],
      "execution_count": 306,
      "outputs": [
        {
          "output_type": "display_data",
          "data": {
            "image/png": "[encoded data removed]",
            "text/plain": [
              "<Figure size 1440x432 with 1 Axes>"
            ]
          },
          "metadata": {
            "needs_background": "light"
          }
        }
      ]
    },
    {
      "cell_type": "markdown",
      "metadata": {
        "id": "QYRSvenB3xtN"
      },
      "source": [
        "###Monthly growth rate"
      ]
    },
    {
      "cell_type": "code",
      "metadata": {
        "colab": {
          "base_uri": "https://localhost:8080/",
          "height": 0
        },
        "id": "yZwNFAYvzuux",
        "outputId": "8837a6a8-d9c1-4c8b-d2dc-2bd6a94732ac"
      },
      "source": [
        "tx_revenue['GrowthRate'] = tx_revenue['Revenue'].pct_change() #套入『成長率的公式』-此Row的值與前一筆資料的Row值差異的百分比\n",
        "tx_revenue"
      ],
      "execution_count": 307,
      "outputs": [
        {
          "output_type": "execute_result",
          "data": {
            "text/html": [
              "<div>\n",
              "<style scoped>\n",
              "    .dataframe tbody tr th:only-of-type {\n",
              "        vertical-align: middle;\n",
              "    }\n",
              "\n",
              "    .dataframe tbody tr th {\n",
              "        vertical-align: top;\n",
              "    }\n",
              "\n",
              "    .dataframe thead th {\n",
              "        text-align: right;\n",
              "    }\n",
              "</style>\n",
              "<table border=\"1\" class=\"dataframe\">\n",
              "  <thead>\n",
              "    <tr style=\"text-align: right;\">\n",
              "      <th></th>\n",
              "      <th>YearMonth</th>\n",
              "      <th>Revenue</th>\n",
              "      <th>GrowthRate</th>\n",
              "    </tr>\n",
              "  </thead>\n",
              "  <tbody>\n",
              "    <tr>\n",
              "      <th>0</th>\n",
              "      <td>201901</td>\n",
              "      <td>425743824.00</td>\n",
              "      <td>nan</td>\n",
              "    </tr>\n",
              "    <tr>\n",
              "      <th>1</th>\n",
              "      <td>201902</td>\n",
              "      <td>300617976.00</td>\n",
              "      <td>-0.29</td>\n",
              "    </tr>\n",
              "    <tr>\n",
              "      <th>2</th>\n",
              "      <td>201903</td>\n",
              "      <td>699778888.00</td>\n",
              "      <td>1.33</td>\n",
              "    </tr>\n",
              "    <tr>\n",
              "      <th>3</th>\n",
              "      <td>201904</td>\n",
              "      <td>516812544.00</td>\n",
              "      <td>-0.26</td>\n",
              "    </tr>\n",
              "    <tr>\n",
              "      <th>4</th>\n",
              "      <td>201905</td>\n",
              "      <td>551044368.00</td>\n",
              "      <td>0.07</td>\n",
              "    </tr>\n",
              "    <tr>\n",
              "      <th>5</th>\n",
              "      <td>201906</td>\n",
              "      <td>453681976.00</td>\n",
              "      <td>-0.18</td>\n",
              "    </tr>\n",
              "    <tr>\n",
              "      <th>6</th>\n",
              "      <td>201907</td>\n",
              "      <td>480213760.00</td>\n",
              "      <td>0.06</td>\n",
              "    </tr>\n",
              "    <tr>\n",
              "      <th>7</th>\n",
              "      <td>201908</td>\n",
              "      <td>500785128.00</td>\n",
              "      <td>0.04</td>\n",
              "    </tr>\n",
              "    <tr>\n",
              "      <th>8</th>\n",
              "      <td>201909</td>\n",
              "      <td>553368896.00</td>\n",
              "      <td>0.11</td>\n",
              "    </tr>\n",
              "    <tr>\n",
              "      <th>9</th>\n",
              "      <td>201910</td>\n",
              "      <td>643763416.00</td>\n",
              "      <td>0.16</td>\n",
              "    </tr>\n",
              "    <tr>\n",
              "      <th>10</th>\n",
              "      <td>201911</td>\n",
              "      <td>602731880.00</td>\n",
              "      <td>-0.06</td>\n",
              "    </tr>\n",
              "    <tr>\n",
              "      <th>11</th>\n",
              "      <td>201912</td>\n",
              "      <td>650472000.00</td>\n",
              "      <td>0.08</td>\n",
              "    </tr>\n",
              "    <tr>\n",
              "      <th>12</th>\n",
              "      <td>202001</td>\n",
              "      <td>506539352.00</td>\n",
              "      <td>-0.22</td>\n",
              "    </tr>\n",
              "    <tr>\n",
              "      <th>13</th>\n",
              "      <td>202002</td>\n",
              "      <td>510690080.00</td>\n",
              "      <td>0.01</td>\n",
              "    </tr>\n",
              "    <tr>\n",
              "      <th>14</th>\n",
              "      <td>202003</td>\n",
              "      <td>591391280.00</td>\n",
              "      <td>0.16</td>\n",
              "    </tr>\n",
              "    <tr>\n",
              "      <th>15</th>\n",
              "      <td>202004</td>\n",
              "      <td>567085392.00</td>\n",
              "      <td>-0.04</td>\n",
              "    </tr>\n",
              "    <tr>\n",
              "      <th>16</th>\n",
              "      <td>202005</td>\n",
              "      <td>645260568.00</td>\n",
              "      <td>0.14</td>\n",
              "    </tr>\n",
              "    <tr>\n",
              "      <th>17</th>\n",
              "      <td>202006</td>\n",
              "      <td>625529096.00</td>\n",
              "      <td>-0.03</td>\n",
              "    </tr>\n",
              "    <tr>\n",
              "      <th>18</th>\n",
              "      <td>202007</td>\n",
              "      <td>489143240.00</td>\n",
              "      <td>-0.22</td>\n",
              "    </tr>\n",
              "    <tr>\n",
              "      <th>19</th>\n",
              "      <td>202008</td>\n",
              "      <td>549924200.00</td>\n",
              "      <td>0.12</td>\n",
              "    </tr>\n",
              "    <tr>\n",
              "      <th>20</th>\n",
              "      <td>202009</td>\n",
              "      <td>491556200.00</td>\n",
              "      <td>-0.11</td>\n",
              "    </tr>\n",
              "    <tr>\n",
              "      <th>21</th>\n",
              "      <td>202010</td>\n",
              "      <td>513489528.00</td>\n",
              "      <td>0.04</td>\n",
              "    </tr>\n",
              "    <tr>\n",
              "      <th>22</th>\n",
              "      <td>202011</td>\n",
              "      <td>586158760.00</td>\n",
              "      <td>0.14</td>\n",
              "    </tr>\n",
              "    <tr>\n",
              "      <th>23</th>\n",
              "      <td>202012</td>\n",
              "      <td>584113720.00</td>\n",
              "      <td>-0.00</td>\n",
              "    </tr>\n",
              "  </tbody>\n",
              "</table>\n",
              "</div>"
            ],
            "text/plain": [
              "   YearMonth      Revenue  GrowthRate\n",
              "0     201901 425743824.00         nan\n",
              "1     201902 300617976.00       -0.29\n",
              "2     201903 699778888.00        1.33\n",
              "3     201904 516812544.00       -0.26\n",
              "4     201905 551044368.00        0.07\n",
              "5     201906 453681976.00       -0.18\n",
              "6     201907 480213760.00        0.06\n",
              "7     201908 500785128.00        0.04\n",
              "8     201909 553368896.00        0.11\n",
              "9     201910 643763416.00        0.16\n",
              "10    201911 602731880.00       -0.06\n",
              "11    201912 650472000.00        0.08\n",
              "12    202001 506539352.00       -0.22\n",
              "13    202002 510690080.00        0.01\n",
              "14    202003 591391280.00        0.16\n",
              "15    202004 567085392.00       -0.04\n",
              "16    202005 645260568.00        0.14\n",
              "17    202006 625529096.00       -0.03\n",
              "18    202007 489143240.00       -0.22\n",
              "19    202008 549924200.00        0.12\n",
              "20    202009 491556200.00       -0.11\n",
              "21    202010 513489528.00        0.04\n",
              "22    202011 586158760.00        0.14\n",
              "23    202012 584113720.00       -0.00"
            ]
          },
          "metadata": {},
          "execution_count": 307
        }
      ]
    },
    {
      "cell_type": "code",
      "metadata": {
        "colab": {
          "base_uri": "https://localhost:8080/"
        },
        "id": "c_WYFYh45VUH",
        "outputId": "0294212a-772d-4991-ee66-5413e2dc4e70"
      },
      "source": [
        "tx_revenue['YearMonth'] = tx_revenue['YearMonth'].astype(str)\n",
        "tx_revenue.info()"
      ],
      "execution_count": 308,
      "outputs": [
        {
          "output_type": "stream",
          "name": "stdout",
          "text": [
            "<class 'pandas.core.frame.DataFrame'>\n",
            "RangeIndex: 24 entries, 0 to 23\n",
            "Data columns (total 3 columns):\n",
            " #   Column      Non-Null Count  Dtype  \n",
            "---  ------      --------------  -----  \n",
            " 0   YearMonth   24 non-null     object \n",
            " 1   Revenue     24 non-null     float64\n",
            " 2   GrowthRate  23 non-null     float64\n",
            "dtypes: float64(2), object(1)\n",
            "memory usage: 704.0+ bytes\n"
          ]
        }
      ]
    },
    {
      "cell_type": "code",
      "metadata": {
        "colab": {
          "base_uri": "https://localhost:8080/",
          "height": 0
        },
        "id": "nR3QSjMd4BuK",
        "outputId": "0aec3d3e-e6c7-4f29-c54a-833f83919192"
      },
      "source": [
        "fig,axes = plt.subplots(figsize=(20,6))\n",
        "sns.lineplot(ax = axes,x='YearMonth',y='GrowthRate',data=tx_revenue)\n",
        "plt.show()"
      ],
      "execution_count": 309,
      "outputs": [
        {
          "output_type": "display_data",
          "data": {
            "image/png": "[encoded data removed]",
            "text/plain": [
              "<Figure size 1440x432 with 1 Axes>"
            ]
          },
          "metadata": {
            "needs_background": "light"
          }
        }
      ]
    },
    {
      "cell_type": "markdown",
      "metadata": {
        "id": "rMPjgoDU9bjh"
      },
      "source": [
        "### Monthly Order Count"
      ]
    },
    {
      "cell_type": "code",
      "metadata": {
        "colab": {
          "base_uri": "https://localhost:8080/",
          "height": 0
        },
        "id": "h9LLmWFW9yO-",
        "outputId": "e526ea4e-83f9-4b67-bd5a-1adfe5fe73c2"
      },
      "source": [
        "tx_sales_qty = sales_data1.groupby(['YearMonth'])['Quantity'].sum().reset_index() #算出每個月的加總Revenue\n",
        "tx_sales_qty"
      ],
      "execution_count": 310,
      "outputs": [
        {
          "output_type": "execute_result",
          "data": {
            "text/html": [
              "<div>\n",
              "<style scoped>\n",
              "    .dataframe tbody tr th:only-of-type {\n",
              "        vertical-align: middle;\n",
              "    }\n",
              "\n",
              "    .dataframe tbody tr th {\n",
              "        vertical-align: top;\n",
              "    }\n",
              "\n",
              "    .dataframe thead th {\n",
              "        text-align: right;\n",
              "    }\n",
              "</style>\n",
              "<table border=\"1\" class=\"dataframe\">\n",
              "  <thead>\n",
              "    <tr style=\"text-align: right;\">\n",
              "      <th></th>\n",
              "      <th>YearMonth</th>\n",
              "      <th>Quantity</th>\n",
              "    </tr>\n",
              "  </thead>\n",
              "  <tbody>\n",
              "    <tr>\n",
              "      <th>0</th>\n",
              "      <td>201901</td>\n",
              "      <td>372096.00</td>\n",
              "    </tr>\n",
              "    <tr>\n",
              "      <th>1</th>\n",
              "      <td>201902</td>\n",
              "      <td>243576.00</td>\n",
              "    </tr>\n",
              "    <tr>\n",
              "      <th>2</th>\n",
              "      <td>201903</td>\n",
              "      <td>760144.00</td>\n",
              "    </tr>\n",
              "    <tr>\n",
              "      <th>3</th>\n",
              "      <td>201904</td>\n",
              "      <td>514888.00</td>\n",
              "    </tr>\n",
              "    <tr>\n",
              "      <th>4</th>\n",
              "      <td>201905</td>\n",
              "      <td>489304.00</td>\n",
              "    </tr>\n",
              "    <tr>\n",
              "      <th>5</th>\n",
              "      <td>201906</td>\n",
              "      <td>406304.00</td>\n",
              "    </tr>\n",
              "    <tr>\n",
              "      <th>6</th>\n",
              "      <td>201907</td>\n",
              "      <td>407536.00</td>\n",
              "    </tr>\n",
              "    <tr>\n",
              "      <th>7</th>\n",
              "      <td>201908</td>\n",
              "      <td>449040.00</td>\n",
              "    </tr>\n",
              "    <tr>\n",
              "      <th>8</th>\n",
              "      <td>201909</td>\n",
              "      <td>453488.00</td>\n",
              "    </tr>\n",
              "    <tr>\n",
              "      <th>9</th>\n",
              "      <td>201910</td>\n",
              "      <td>648960.00</td>\n",
              "    </tr>\n",
              "    <tr>\n",
              "      <th>10</th>\n",
              "      <td>201911</td>\n",
              "      <td>574872.00</td>\n",
              "    </tr>\n",
              "    <tr>\n",
              "      <th>11</th>\n",
              "      <td>201912</td>\n",
              "      <td>450968.00</td>\n",
              "    </tr>\n",
              "    <tr>\n",
              "      <th>12</th>\n",
              "      <td>202001</td>\n",
              "      <td>361064.00</td>\n",
              "    </tr>\n",
              "    <tr>\n",
              "      <th>13</th>\n",
              "      <td>202002</td>\n",
              "      <td>523568.00</td>\n",
              "    </tr>\n",
              "    <tr>\n",
              "      <th>14</th>\n",
              "      <td>202003</td>\n",
              "      <td>530288.00</td>\n",
              "    </tr>\n",
              "    <tr>\n",
              "      <th>15</th>\n",
              "      <td>202004</td>\n",
              "      <td>460344.00</td>\n",
              "    </tr>\n",
              "    <tr>\n",
              "      <th>16</th>\n",
              "      <td>202005</td>\n",
              "      <td>536848.00</td>\n",
              "    </tr>\n",
              "    <tr>\n",
              "      <th>17</th>\n",
              "      <td>202006</td>\n",
              "      <td>593544.00</td>\n",
              "    </tr>\n",
              "    <tr>\n",
              "      <th>18</th>\n",
              "      <td>202007</td>\n",
              "      <td>427928.00</td>\n",
              "    </tr>\n",
              "    <tr>\n",
              "      <th>19</th>\n",
              "      <td>202008</td>\n",
              "      <td>486128.00</td>\n",
              "    </tr>\n",
              "    <tr>\n",
              "      <th>20</th>\n",
              "      <td>202009</td>\n",
              "      <td>418432.00</td>\n",
              "    </tr>\n",
              "    <tr>\n",
              "      <th>21</th>\n",
              "      <td>202010</td>\n",
              "      <td>423960.00</td>\n",
              "    </tr>\n",
              "    <tr>\n",
              "      <th>22</th>\n",
              "      <td>202011</td>\n",
              "      <td>460448.00</td>\n",
              "    </tr>\n",
              "    <tr>\n",
              "      <th>23</th>\n",
              "      <td>202012</td>\n",
              "      <td>443616.00</td>\n",
              "    </tr>\n",
              "  </tbody>\n",
              "</table>\n",
              "</div>"
            ],
            "text/plain": [
              "    YearMonth  Quantity\n",
              "0      201901 372096.00\n",
              "1      201902 243576.00\n",
              "2      201903 760144.00\n",
              "3      201904 514888.00\n",
              "4      201905 489304.00\n",
              "5      201906 406304.00\n",
              "6      201907 407536.00\n",
              "7      201908 449040.00\n",
              "8      201909 453488.00\n",
              "9      201910 648960.00\n",
              "10     201911 574872.00\n",
              "11     201912 450968.00\n",
              "12     202001 361064.00\n",
              "13     202002 523568.00\n",
              "14     202003 530288.00\n",
              "15     202004 460344.00\n",
              "16     202005 536848.00\n",
              "17     202006 593544.00\n",
              "18     202007 427928.00\n",
              "19     202008 486128.00\n",
              "20     202009 418432.00\n",
              "21     202010 423960.00\n",
              "22     202011 460448.00\n",
              "23     202012 443616.00"
            ]
          },
          "metadata": {},
          "execution_count": 310
        }
      ]
    },
    {
      "cell_type": "code",
      "metadata": {
        "colab": {
          "base_uri": "https://localhost:8080/",
          "height": 0
        },
        "id": "kkjzUiLzAQOp",
        "outputId": "0d43d460-a281-4e5e-fba3-db31f1d41f7c"
      },
      "source": [
        "figure,axes = plt.subplots(figsize=(18,6))\n",
        "sns.barplot(x='YearMonth',y='Quantity',data=tx_sales_qty,ax=axes)\n",
        "plt.show()"
      ],
      "execution_count": 311,
      "outputs": [
        {
          "output_type": "display_data",
          "data": {
            "image/png": "[encoded data removed]",
            "text/plain": [
              "<Figure size 1296x432 with 1 Axes>"
            ]
          },
          "metadata": {
            "needs_background": "light"
          }
        }
      ]
    },
    {
      "cell_type": "markdown",
      "metadata": {
        "id": "oWGlhQSwBCh7"
      },
      "source": [
        "### Average Revenue per Order"
      ]
    },
    {
      "cell_type": "code",
      "metadata": {
        "colab": {
          "base_uri": "https://localhost:8080/",
          "height": 0
        },
        "id": "h4Y5okz4BKkf",
        "outputId": "3f51a89a-434d-417d-87f7-5036c762e51b"
      },
      "source": [
        "tx_revenue_avg = sales_data1.groupby(['YearMonth'])['Revenue'].mean().reset_index() #算出每個月的平均\n",
        "tx_revenue_avg"
      ],
      "execution_count": 312,
      "outputs": [
        {
          "output_type": "execute_result",
          "data": {
            "text/html": [
              "<div>\n",
              "<style scoped>\n",
              "    .dataframe tbody tr th:only-of-type {\n",
              "        vertical-align: middle;\n",
              "    }\n",
              "\n",
              "    .dataframe tbody tr th {\n",
              "        vertical-align: top;\n",
              "    }\n",
              "\n",
              "    .dataframe thead th {\n",
              "        text-align: right;\n",
              "    }\n",
              "</style>\n",
              "<table border=\"1\" class=\"dataframe\">\n",
              "  <thead>\n",
              "    <tr style=\"text-align: right;\">\n",
              "      <th></th>\n",
              "      <th>YearMonth</th>\n",
              "      <th>Revenue</th>\n",
              "    </tr>\n",
              "  </thead>\n",
              "  <tbody>\n",
              "    <tr>\n",
              "      <th>0</th>\n",
              "      <td>201901</td>\n",
              "      <td>9859.97</td>\n",
              "    </tr>\n",
              "    <tr>\n",
              "      <th>1</th>\n",
              "      <td>201902</td>\n",
              "      <td>10893.93</td>\n",
              "    </tr>\n",
              "    <tr>\n",
              "      <th>2</th>\n",
              "      <td>201903</td>\n",
              "      <td>9157.61</td>\n",
              "    </tr>\n",
              "    <tr>\n",
              "      <th>3</th>\n",
              "      <td>201904</td>\n",
              "      <td>10094.59</td>\n",
              "    </tr>\n",
              "    <tr>\n",
              "      <th>4</th>\n",
              "      <td>201905</td>\n",
              "      <td>10560.05</td>\n",
              "    </tr>\n",
              "    <tr>\n",
              "      <th>5</th>\n",
              "      <td>201906</td>\n",
              "      <td>10836.53</td>\n",
              "    </tr>\n",
              "    <tr>\n",
              "      <th>6</th>\n",
              "      <td>201907</td>\n",
              "      <td>11346.94</td>\n",
              "    </tr>\n",
              "    <tr>\n",
              "      <th>7</th>\n",
              "      <td>201908</td>\n",
              "      <td>10429.33</td>\n",
              "    </tr>\n",
              "    <tr>\n",
              "      <th>8</th>\n",
              "      <td>201909</td>\n",
              "      <td>11319.58</td>\n",
              "    </tr>\n",
              "    <tr>\n",
              "      <th>9</th>\n",
              "      <td>201910</td>\n",
              "      <td>13218.15</td>\n",
              "    </tr>\n",
              "    <tr>\n",
              "      <th>10</th>\n",
              "      <td>201911</td>\n",
              "      <td>12175.91</td>\n",
              "    </tr>\n",
              "    <tr>\n",
              "      <th>11</th>\n",
              "      <td>201912</td>\n",
              "      <td>14846.21</td>\n",
              "    </tr>\n",
              "    <tr>\n",
              "      <th>12</th>\n",
              "      <td>202001</td>\n",
              "      <td>14354.44</td>\n",
              "    </tr>\n",
              "    <tr>\n",
              "      <th>13</th>\n",
              "      <td>202002</td>\n",
              "      <td>10503.92</td>\n",
              "    </tr>\n",
              "    <tr>\n",
              "      <th>14</th>\n",
              "      <td>202003</td>\n",
              "      <td>10383.85</td>\n",
              "    </tr>\n",
              "    <tr>\n",
              "      <th>15</th>\n",
              "      <td>202004</td>\n",
              "      <td>11274.96</td>\n",
              "    </tr>\n",
              "    <tr>\n",
              "      <th>16</th>\n",
              "      <td>202005</td>\n",
              "      <td>10876.34</td>\n",
              "    </tr>\n",
              "    <tr>\n",
              "      <th>17</th>\n",
              "      <td>202006</td>\n",
              "      <td>9711.98</td>\n",
              "    </tr>\n",
              "    <tr>\n",
              "      <th>18</th>\n",
              "      <td>202007</td>\n",
              "      <td>10116.72</td>\n",
              "    </tr>\n",
              "    <tr>\n",
              "      <th>19</th>\n",
              "      <td>202008</td>\n",
              "      <td>9831.31</td>\n",
              "    </tr>\n",
              "    <tr>\n",
              "      <th>20</th>\n",
              "      <td>202009</td>\n",
              "      <td>11248.43</td>\n",
              "    </tr>\n",
              "    <tr>\n",
              "      <th>21</th>\n",
              "      <td>202010</td>\n",
              "      <td>11122.92</td>\n",
              "    </tr>\n",
              "    <tr>\n",
              "      <th>22</th>\n",
              "      <td>202011</td>\n",
              "      <td>11634.75</td>\n",
              "    </tr>\n",
              "    <tr>\n",
              "      <th>23</th>\n",
              "      <td>202012</td>\n",
              "      <td>12144.49</td>\n",
              "    </tr>\n",
              "  </tbody>\n",
              "</table>\n",
              "</div>"
            ],
            "text/plain": [
              "    YearMonth  Revenue\n",
              "0      201901  9859.97\n",
              "1      201902 10893.93\n",
              "2      201903  9157.61\n",
              "3      201904 10094.59\n",
              "4      201905 10560.05\n",
              "5      201906 10836.53\n",
              "6      201907 11346.94\n",
              "7      201908 10429.33\n",
              "8      201909 11319.58\n",
              "9      201910 13218.15\n",
              "10     201911 12175.91\n",
              "11     201912 14846.21\n",
              "12     202001 14354.44\n",
              "13     202002 10503.92\n",
              "14     202003 10383.85\n",
              "15     202004 11274.96\n",
              "16     202005 10876.34\n",
              "17     202006  9711.98\n",
              "18     202007 10116.72\n",
              "19     202008  9831.31\n",
              "20     202009 11248.43\n",
              "21     202010 11122.92\n",
              "22     202011 11634.75\n",
              "23     202012 12144.49"
            ]
          },
          "metadata": {},
          "execution_count": 312
        }
      ]
    },
    {
      "cell_type": "code",
      "metadata": {
        "id": "12laiYyYBZt6"
      },
      "source": [
        "tx_revenue_avg['YearMonth'] = tx_revenue_avg['YearMonth'].astype(str)"
      ],
      "execution_count": 313,
      "outputs": []
    },
    {
      "cell_type": "code",
      "metadata": {
        "colab": {
          "base_uri": "https://localhost:8080/",
          "height": 0
        },
        "id": "vwcpT1N5BwiW",
        "outputId": "2e930505-aa63-473a-f379-f4e348ba5c3b"
      },
      "source": [
        "figure,axes = plt.subplots(2,1,figsize=(18,6))\n",
        "sns.lineplot(x='YearMonth',y='Revenue',data=tx_revenue_avg,ax=axes[0])\n",
        "sns.barplot(x='YearMonth',y='Revenue',data=tx_revenue_avg,ax=axes[1])\n",
        "plt.show()"
      ],
      "execution_count": 314,
      "outputs": [
        {
          "output_type": "display_data",
          "data": {
            "image/png": "[encoded data removed]",
            "text/plain": [
              "<Figure size 1296x432 with 2 Axes>"
            ]
          },
          "metadata": {
            "needs_background": "light"
          }
        }
      ]
    },
    {
      "cell_type": "markdown",
      "metadata": {
        "id": "fs1Nf5LFDl98"
      },
      "source": [
        "### Monthly Active Customers"
      ]
    },
    {
      "cell_type": "code",
      "metadata": {
        "colab": {
          "base_uri": "https://localhost:8080/",
          "height": 0
        },
        "id": "43VKecyvChg8",
        "outputId": "095e4f0b-7d19-4e4f-ff76-947009ea1bff"
      },
      "source": [
        "tx_monthly_actives = sales_data1.groupby(['YearMonth'])['CustomerID'].nunique().reset_index()\n",
        "tx_monthly_actives"
      ],
      "execution_count": 315,
      "outputs": [
        {
          "output_type": "execute_result",
          "data": {
            "text/html": [
              "<div>\n",
              "<style scoped>\n",
              "    .dataframe tbody tr th:only-of-type {\n",
              "        vertical-align: middle;\n",
              "    }\n",
              "\n",
              "    .dataframe tbody tr th {\n",
              "        vertical-align: top;\n",
              "    }\n",
              "\n",
              "    .dataframe thead th {\n",
              "        text-align: right;\n",
              "    }\n",
              "</style>\n",
              "<table border=\"1\" class=\"dataframe\">\n",
              "  <thead>\n",
              "    <tr style=\"text-align: right;\">\n",
              "      <th></th>\n",
              "      <th>YearMonth</th>\n",
              "      <th>CustomerID</th>\n",
              "    </tr>\n",
              "  </thead>\n",
              "  <tbody>\n",
              "    <tr>\n",
              "      <th>0</th>\n",
              "      <td>201901</td>\n",
              "      <td>11061</td>\n",
              "    </tr>\n",
              "    <tr>\n",
              "      <th>1</th>\n",
              "      <td>201902</td>\n",
              "      <td>8593</td>\n",
              "    </tr>\n",
              "    <tr>\n",
              "      <th>2</th>\n",
              "      <td>201903</td>\n",
              "      <td>15972</td>\n",
              "    </tr>\n",
              "    <tr>\n",
              "      <th>3</th>\n",
              "      <td>201904</td>\n",
              "      <td>11846</td>\n",
              "    </tr>\n",
              "    <tr>\n",
              "      <th>4</th>\n",
              "      <td>201905</td>\n",
              "      <td>12569</td>\n",
              "    </tr>\n",
              "    <tr>\n",
              "      <th>5</th>\n",
              "      <td>201906</td>\n",
              "      <td>11159</td>\n",
              "    </tr>\n",
              "    <tr>\n",
              "      <th>6</th>\n",
              "      <td>201907</td>\n",
              "      <td>10981</td>\n",
              "    </tr>\n",
              "    <tr>\n",
              "      <th>7</th>\n",
              "      <td>201908</td>\n",
              "      <td>12747</td>\n",
              "    </tr>\n",
              "    <tr>\n",
              "      <th>8</th>\n",
              "      <td>201909</td>\n",
              "      <td>12498</td>\n",
              "    </tr>\n",
              "    <tr>\n",
              "      <th>9</th>\n",
              "      <td>201910</td>\n",
              "      <td>14506</td>\n",
              "    </tr>\n",
              "    <tr>\n",
              "      <th>10</th>\n",
              "      <td>201911</td>\n",
              "      <td>12519</td>\n",
              "    </tr>\n",
              "    <tr>\n",
              "      <th>11</th>\n",
              "      <td>201912</td>\n",
              "      <td>12041</td>\n",
              "    </tr>\n",
              "    <tr>\n",
              "      <th>12</th>\n",
              "      <td>202001</td>\n",
              "      <td>10110</td>\n",
              "    </tr>\n",
              "    <tr>\n",
              "      <th>13</th>\n",
              "      <td>202002</td>\n",
              "      <td>13004</td>\n",
              "    </tr>\n",
              "    <tr>\n",
              "      <th>14</th>\n",
              "      <td>202003</td>\n",
              "      <td>11979</td>\n",
              "    </tr>\n",
              "    <tr>\n",
              "      <th>15</th>\n",
              "      <td>202004</td>\n",
              "      <td>11456</td>\n",
              "    </tr>\n",
              "    <tr>\n",
              "      <th>16</th>\n",
              "      <td>202005</td>\n",
              "      <td>14775</td>\n",
              "    </tr>\n",
              "    <tr>\n",
              "      <th>17</th>\n",
              "      <td>202006</td>\n",
              "      <td>13852</td>\n",
              "    </tr>\n",
              "    <tr>\n",
              "      <th>18</th>\n",
              "      <td>202007</td>\n",
              "      <td>10547</td>\n",
              "    </tr>\n",
              "    <tr>\n",
              "      <th>19</th>\n",
              "      <td>202008</td>\n",
              "      <td>12189</td>\n",
              "    </tr>\n",
              "    <tr>\n",
              "      <th>20</th>\n",
              "      <td>202009</td>\n",
              "      <td>10873</td>\n",
              "    </tr>\n",
              "    <tr>\n",
              "      <th>21</th>\n",
              "      <td>202010</td>\n",
              "      <td>11476</td>\n",
              "    </tr>\n",
              "    <tr>\n",
              "      <th>22</th>\n",
              "      <td>202011</td>\n",
              "      <td>12820</td>\n",
              "    </tr>\n",
              "    <tr>\n",
              "      <th>23</th>\n",
              "      <td>202012</td>\n",
              "      <td>12108</td>\n",
              "    </tr>\n",
              "  </tbody>\n",
              "</table>\n",
              "</div>"
            ],
            "text/plain": [
              "    YearMonth  CustomerID\n",
              "0      201901       11061\n",
              "1      201902        8593\n",
              "2      201903       15972\n",
              "3      201904       11846\n",
              "4      201905       12569\n",
              "5      201906       11159\n",
              "6      201907       10981\n",
              "7      201908       12747\n",
              "8      201909       12498\n",
              "9      201910       14506\n",
              "10     201911       12519\n",
              "11     201912       12041\n",
              "12     202001       10110\n",
              "13     202002       13004\n",
              "14     202003       11979\n",
              "15     202004       11456\n",
              "16     202005       14775\n",
              "17     202006       13852\n",
              "18     202007       10547\n",
              "19     202008       12189\n",
              "20     202009       10873\n",
              "21     202010       11476\n",
              "22     202011       12820\n",
              "23     202012       12108"
            ]
          },
          "metadata": {},
          "execution_count": 315
        }
      ]
    },
    {
      "cell_type": "code",
      "metadata": {
        "id": "CKc29TN9GpqG"
      },
      "source": [
        "tx_monthly_actives['YearMonth'] = tx_monthly_actives['YearMonth'].astype(str)"
      ],
      "execution_count": 316,
      "outputs": []
    },
    {
      "cell_type": "code",
      "metadata": {
        "colab": {
          "base_uri": "https://localhost:8080/",
          "height": 0
        },
        "id": "GGLQ3EXHEjKS",
        "outputId": "d88c82ea-afea-4240-caa9-bcb437288174"
      },
      "source": [
        "figure,axes1 = plt.subplots(figsize=(18,6))\n",
        "sns.barplot(x='YearMonth',y='CustomerID',data=tx_monthly_actives,ax=axes1)\n",
        "#sns.barplot(x='YearMonth',y='CustomerID',data=tx_monthly_actives,ax=axes1)\n",
        "axes2 = axes1.twinx()\n",
        "sns.lineplot(x='YearMonth',y='CustomerID',data=tx_monthly_actives,ax=axes2)\n",
        "plt.show()"
      ],
      "execution_count": 317,
      "outputs": [
        {
          "output_type": "display_data",
          "data": {
            "image/png": "[encoded data removed]",
            "text/plain": [
              "<Figure size 1296x432 with 2 Axes>"
            ]
          },
          "metadata": {
            "needs_background": "light"
          }
        }
      ]
    },
    {
      "cell_type": "code",
      "metadata": {
        "id": "fWyQpa61FwXe"
      },
      "source": [
        ""
      ],
      "execution_count": 317,
      "outputs": []
    },
    {
      "cell_type": "markdown",
      "source": [
        "### Customer_Segmentation"
      ],
      "metadata": {
        "id": "5PSYcuPXZFU1"
      }
    },
    {
      "cell_type": "code",
      "source": [
        "#create tx_user for assigning clustering\n",
        "sales_data_user = pd.DataFrame(sales_data1['CustomerID'].unique())\n",
        "sales_data_user.columns = ['CustomerID']\n",
        "\n",
        "\n",
        "#get the max purchase date for each customer and create a dataframe with it\n",
        "tx_max_purchase = sales_data1.groupby('CustomerID').InvoiceDate.max().reset_index()\n",
        "tx_max_purchase.columns = ['CustomerID','MaxPurchaseDate']\n",
        "print(tx_max_purchase)\n",
        "tx_max_purchase['Recency'] = (tx_max_purchase['MaxPurchaseDate'].max() - tx_max_purchase['MaxPurchaseDate']).dt.days\n",
        "sales_data_user = pd.merge(sales_data_user,tx_max_purchase[['CustomerID','Recency']], on='CustomerID')\n",
        "sales_data_user"
      ],
      "metadata": {
        "id": "NDwDLbSuZQ21",
        "outputId": "0b3ca01c-d976-4736-c1fb-1779597d1eae",
        "colab": {
          "base_uri": "https://localhost:8080/",
          "height": 666
        }
      },
      "execution_count": 318,
      "outputs": [
        {
          "output_type": "stream",
          "name": "stdout",
          "text": [
            "            CustomerID MaxPurchaseDate\n",
            "0     9100000000061.00      2020-07-10\n",
            "1     9100000000085.00      2020-08-23\n",
            "2     9100000000092.00      2019-02-27\n",
            "3     9100000000115.00      2020-07-22\n",
            "4     9100000000170.00      2020-11-14\n",
            "...                ...             ...\n",
            "78439 9100003125563.00      2020-06-16\n",
            "78440 9100003140535.00      2019-12-06\n",
            "78441 9100003149890.00      2020-03-01\n",
            "78442 9100003151982.00      2019-11-18\n",
            "78443 9100003171280.00      2020-12-01\n",
            "\n",
            "[78444 rows x 2 columns]\n"
          ]
        },
        {
          "output_type": "execute_result",
          "data": {
            "text/html": [
              "<div>\n",
              "<style scoped>\n",
              "    .dataframe tbody tr th:only-of-type {\n",
              "        vertical-align: middle;\n",
              "    }\n",
              "\n",
              "    .dataframe tbody tr th {\n",
              "        vertical-align: top;\n",
              "    }\n",
              "\n",
              "    .dataframe thead th {\n",
              "        text-align: right;\n",
              "    }\n",
              "</style>\n",
              "<table border=\"1\" class=\"dataframe\">\n",
              "  <thead>\n",
              "    <tr style=\"text-align: right;\">\n",
              "      <th></th>\n",
              "      <th>CustomerID</th>\n",
              "      <th>Recency</th>\n",
              "    </tr>\n",
              "  </thead>\n",
              "  <tbody>\n",
              "    <tr>\n",
              "      <th>0</th>\n",
              "      <td>9100002488768.00</td>\n",
              "      <td>123</td>\n",
              "    </tr>\n",
              "    <tr>\n",
              "      <th>1</th>\n",
              "      <td>9100002556566.00</td>\n",
              "      <td>186</td>\n",
              "    </tr>\n",
              "    <tr>\n",
              "      <th>2</th>\n",
              "      <td>9100002582077.00</td>\n",
              "      <td>301</td>\n",
              "    </tr>\n",
              "    <tr>\n",
              "      <th>3</th>\n",
              "      <td>9100002426142.00</td>\n",
              "      <td>555</td>\n",
              "    </tr>\n",
              "    <tr>\n",
              "      <th>4</th>\n",
              "      <td>9100000301403.00</td>\n",
              "      <td>82</td>\n",
              "    </tr>\n",
              "    <tr>\n",
              "      <th>...</th>\n",
              "      <td>...</td>\n",
              "      <td>...</td>\n",
              "    </tr>\n",
              "    <tr>\n",
              "      <th>78439</th>\n",
              "      <td>9100003057270.00</td>\n",
              "      <td>0</td>\n",
              "    </tr>\n",
              "    <tr>\n",
              "      <th>78440</th>\n",
              "      <td>9100003057284.00</td>\n",
              "      <td>0</td>\n",
              "    </tr>\n",
              "    <tr>\n",
              "      <th>78441</th>\n",
              "      <td>9100001069371.00</td>\n",
              "      <td>0</td>\n",
              "    </tr>\n",
              "    <tr>\n",
              "      <th>78442</th>\n",
              "      <td>9100000262193.00</td>\n",
              "      <td>0</td>\n",
              "    </tr>\n",
              "    <tr>\n",
              "      <th>78443</th>\n",
              "      <td>9100003057444.00</td>\n",
              "      <td>0</td>\n",
              "    </tr>\n",
              "  </tbody>\n",
              "</table>\n",
              "<p>78444 rows × 2 columns</p>\n",
              "</div>"
            ],
            "text/plain": [
              "            CustomerID  Recency\n",
              "0     9100002488768.00      123\n",
              "1     9100002556566.00      186\n",
              "2     9100002582077.00      301\n",
              "3     9100002426142.00      555\n",
              "4     9100000301403.00       82\n",
              "...                ...      ...\n",
              "78439 9100003057270.00        0\n",
              "78440 9100003057284.00        0\n",
              "78441 9100001069371.00        0\n",
              "78442 9100000262193.00        0\n",
              "78443 9100003057444.00        0\n",
              "\n",
              "[78444 rows x 2 columns]"
            ]
          },
          "metadata": {},
          "execution_count": 318
        }
      ]
    },
    {
      "cell_type": "code",
      "source": [
        "fig,axes = plt.subplots(figsize=(16,6))\n",
        "sns.histplot(data=sales_data_user['Recency'],ax=axes)\n",
        "plt.show()"
      ],
      "metadata": {
        "id": "fuc4Ol46ZgOX",
        "outputId": "30a410f3-f473-42cf-844a-9b498e164b70",
        "colab": {
          "base_uri": "https://localhost:8080/",
          "height": 388
        }
      },
      "execution_count": 319,
      "outputs": [
        {
          "output_type": "display_data",
          "data": {
            "image/png": "[encoded data removed]",
            "text/plain": [
              "<Figure size 1152x432 with 1 Axes>"
            ]
          },
          "metadata": {
            "needs_background": "light"
          }
        }
      ]
    },
    {
      "cell_type": "code",
      "source": [
        "sales_data_user.describe()"
      ],
      "metadata": {
        "id": "iFWxO5_Jc28R",
        "outputId": "b7d9b650-d7d7-433c-d3ee-8748bd28b29f",
        "colab": {
          "base_uri": "https://localhost:8080/",
          "height": 300
        }
      },
      "execution_count": 320,
      "outputs": [
        {
          "output_type": "execute_result",
          "data": {
            "text/html": [
              "<div>\n",
              "<style scoped>\n",
              "    .dataframe tbody tr th:only-of-type {\n",
              "        vertical-align: middle;\n",
              "    }\n",
              "\n",
              "    .dataframe tbody tr th {\n",
              "        vertical-align: top;\n",
              "    }\n",
              "\n",
              "    .dataframe thead th {\n",
              "        text-align: right;\n",
              "    }\n",
              "</style>\n",
              "<table border=\"1\" class=\"dataframe\">\n",
              "  <thead>\n",
              "    <tr style=\"text-align: right;\">\n",
              "      <th></th>\n",
              "      <th>CustomerID</th>\n",
              "      <th>Recency</th>\n",
              "    </tr>\n",
              "  </thead>\n",
              "  <tbody>\n",
              "    <tr>\n",
              "      <th>count</th>\n",
              "      <td>78444.00</td>\n",
              "      <td>78444.00</td>\n",
              "    </tr>\n",
              "    <tr>\n",
              "      <th>mean</th>\n",
              "      <td>9100001768475.57</td>\n",
              "      <td>259.36</td>\n",
              "    </tr>\n",
              "    <tr>\n",
              "      <th>std</th>\n",
              "      <td>975574.37</td>\n",
              "      <td>216.96</td>\n",
              "    </tr>\n",
              "    <tr>\n",
              "      <th>min</th>\n",
              "      <td>9100000000061.00</td>\n",
              "      <td>0.00</td>\n",
              "    </tr>\n",
              "    <tr>\n",
              "      <th>25%</th>\n",
              "      <td>9100000974064.25</td>\n",
              "      <td>57.00</td>\n",
              "    </tr>\n",
              "    <tr>\n",
              "      <th>50%</th>\n",
              "      <td>9100001954722.50</td>\n",
              "      <td>212.00</td>\n",
              "    </tr>\n",
              "    <tr>\n",
              "      <th>75%</th>\n",
              "      <td>9100002674615.25</td>\n",
              "      <td>428.00</td>\n",
              "    </tr>\n",
              "    <tr>\n",
              "      <th>max</th>\n",
              "      <td>9100003171280.00</td>\n",
              "      <td>730.00</td>\n",
              "    </tr>\n",
              "  </tbody>\n",
              "</table>\n",
              "</div>"
            ],
            "text/plain": [
              "            CustomerID  Recency\n",
              "count         78444.00 78444.00\n",
              "mean  9100001768475.57   259.36\n",
              "std          975574.37   216.96\n",
              "min   9100000000061.00     0.00\n",
              "25%   9100000974064.25    57.00\n",
              "50%   9100001954722.50   212.00\n",
              "75%   9100002674615.25   428.00\n",
              "max   9100003171280.00   730.00"
            ]
          },
          "metadata": {},
          "execution_count": 320
        }
      ]
    },
    {
      "cell_type": "code",
      "source": [
        "def order_cluster(cluster_field_name, target_field_name,df,ascending):\n",
        "  new_cluster_field_name = 'new_' + cluster_field_name\n",
        "  df_new = df.groupby(cluster_field_name)[target_field_name].mean().reset_index()\n",
        "  df_new = df_new.sort_values(by=target_field_name,ascending=ascending).reset_index(drop=True)\n",
        "  df_new['index'] = df_new.index\n",
        "  df_final = pd.merge(df,df_new[[cluster_field_name,'index']], on=cluster_field_name)\n",
        "  df_final = df_final.drop([cluster_field_name],axis=1)\n",
        "  df_final = df_final.rename(columns={\"index\":cluster_field_name})\n",
        "  return df_final"
      ],
      "metadata": {
        "id": "n1l5HH0nfcTM"
      },
      "execution_count": 321,
      "outputs": []
    },
    {
      "cell_type": "markdown",
      "source": [
        "### 使用Elbow Method去找出要分幾群是好的"
      ],
      "metadata": {
        "id": "55nC7-7ChuKv"
      }
    },
    {
      "cell_type": "code",
      "source": [
        "from sklearn.cluster import KMeans\n",
        "\n",
        "sse={}\n",
        "tx_recency = sales_data_user[['Recency']]\n",
        "for k in range(1,10):\n",
        "  kmeans = KMeans(n_clusters=k , max_iter=1000).fit(tx_recency)\n",
        "  tx_recency[\"clusters\"] = kmeans.labels_\n",
        "  sse[k] = kmeans.inertia_\n",
        "plt.figure()\n",
        "plt.plot(list(sse.keys()),list(sse.values()))\n",
        "plt.xlabel(\"Number of cluster\")\n",
        "plt.show()"
      ],
      "metadata": {
        "id": "nNcuEcPwh9eO",
        "outputId": "dcb5595f-f3aa-4f06-e8da-cc7a641d05ed",
        "colab": {
          "base_uri": "https://localhost:8080/",
          "height": 290
        }
      },
      "execution_count": 322,
      "outputs": [
        {
          "output_type": "display_data",
          "data": {
            "image/png": "[encoded data removed]",
            "text/plain": [
              "<Figure size 432x288 with 1 Axes>"
            ]
          },
          "metadata": {
            "needs_background": "light"
          }
        }
      ]
    },
    {
      "cell_type": "code",
      "source": [
        "kmeans = KMeans(n_clusters=4)\n",
        "kmeans.fit(sales_data_user[['Recency']])\n",
        "sales_data_user['RecencyCluster'] = kmeans.predict(sales_data_user[['Recency']])\n",
        "\n",
        "sales_data_user = order_cluster('RecencyCluster','Recency',sales_data_user,False)\n",
        "\n",
        "sales_data_user.groupby('RecencyCluster')['Recency'].describe()"
      ],
      "metadata": {
        "id": "ByKVQcG5jR3j",
        "outputId": "2118fba4-fa61-40ce-c8e2-1fdc54f62ecb",
        "colab": {
          "base_uri": "https://localhost:8080/",
          "height": 206
        }
      },
      "execution_count": 323,
      "outputs": [
        {
          "output_type": "execute_result",
          "data": {
            "text/html": [
              "<div>\n",
              "<style scoped>\n",
              "    .dataframe tbody tr th:only-of-type {\n",
              "        vertical-align: middle;\n",
              "    }\n",
              "\n",
              "    .dataframe tbody tr th {\n",
              "        vertical-align: top;\n",
              "    }\n",
              "\n",
              "    .dataframe thead th {\n",
              "        text-align: right;\n",
              "    }\n",
              "</style>\n",
              "<table border=\"1\" class=\"dataframe\">\n",
              "  <thead>\n",
              "    <tr style=\"text-align: right;\">\n",
              "      <th></th>\n",
              "      <th>count</th>\n",
              "      <th>mean</th>\n",
              "      <th>std</th>\n",
              "      <th>min</th>\n",
              "      <th>25%</th>\n",
              "      <th>50%</th>\n",
              "      <th>75%</th>\n",
              "      <th>max</th>\n",
              "    </tr>\n",
              "    <tr>\n",
              "      <th>RecencyCluster</th>\n",
              "      <th></th>\n",
              "      <th></th>\n",
              "      <th></th>\n",
              "      <th></th>\n",
              "      <th></th>\n",
              "      <th></th>\n",
              "      <th></th>\n",
              "      <th></th>\n",
              "    </tr>\n",
              "  </thead>\n",
              "  <tbody>\n",
              "    <tr>\n",
              "      <th>0</th>\n",
              "      <td>12942.00</td>\n",
              "      <td>620.58</td>\n",
              "      <td>57.76</td>\n",
              "      <td>521.00</td>\n",
              "      <td>574.00</td>\n",
              "      <td>617.50</td>\n",
              "      <td>668.00</td>\n",
              "      <td>730.00</td>\n",
              "    </tr>\n",
              "    <tr>\n",
              "      <th>1</th>\n",
              "      <td>15584.00</td>\n",
              "      <td>421.33</td>\n",
              "      <td>52.88</td>\n",
              "      <td>327.00</td>\n",
              "      <td>375.00</td>\n",
              "      <td>427.00</td>\n",
              "      <td>462.00</td>\n",
              "      <td>520.00</td>\n",
              "    </tr>\n",
              "    <tr>\n",
              "      <th>2</th>\n",
              "      <td>17705.00</td>\n",
              "      <td>231.26</td>\n",
              "      <td>51.86</td>\n",
              "      <td>142.00</td>\n",
              "      <td>188.00</td>\n",
              "      <td>223.00</td>\n",
              "      <td>278.00</td>\n",
              "      <td>326.00</td>\n",
              "    </tr>\n",
              "    <tr>\n",
              "      <th>3</th>\n",
              "      <td>32213.00</td>\n",
              "      <td>51.32</td>\n",
              "      <td>40.30</td>\n",
              "      <td>0.00</td>\n",
              "      <td>17.00</td>\n",
              "      <td>42.00</td>\n",
              "      <td>81.00</td>\n",
              "      <td>141.00</td>\n",
              "    </tr>\n",
              "  </tbody>\n",
              "</table>\n",
              "</div>"
            ],
            "text/plain": [
              "                  count   mean   std    min    25%    50%    75%    max\n",
              "RecencyCluster                                                         \n",
              "0              12942.00 620.58 57.76 521.00 574.00 617.50 668.00 730.00\n",
              "1              15584.00 421.33 52.88 327.00 375.00 427.00 462.00 520.00\n",
              "2              17705.00 231.26 51.86 142.00 188.00 223.00 278.00 326.00\n",
              "3              32213.00  51.32 40.30   0.00  17.00  42.00  81.00 141.00"
            ]
          },
          "metadata": {},
          "execution_count": 323
        }
      ]
    },
    {
      "cell_type": "code",
      "source": [
        ""
      ],
      "metadata": {
        "id": "m-wSk9eCmW1u"
      },
      "execution_count": 323,
      "outputs": []
    },
    {
      "cell_type": "markdown",
      "source": [
        "### Frequency"
      ],
      "metadata": {
        "id": "RKj3890ypA5G"
      }
    },
    {
      "cell_type": "code",
      "source": [
        "#get order counts for each user and create a dataframe with it\n",
        "tx_frequency = sales_data1.groupby('CustomerID').InvoiceDate.count().reset_index()\n",
        "tx_frequency.columns = ['CustomerID','Frequency']\n",
        "\n",
        "#add this data to our main dataframe\n",
        "sales_data_user = pd.merge(sales_data_user, tx_frequency, on='CustomerID')\n",
        "sales_data_user"
      ],
      "metadata": {
        "id": "foTvZQLvpEuy",
        "outputId": "32b157a2-e733-4c19-8b3d-f4def672eee8",
        "colab": {
          "base_uri": "https://localhost:8080/",
          "height": 423
        }
      },
      "execution_count": 324,
      "outputs": [
        {
          "output_type": "execute_result",
          "data": {
            "text/html": [
              "<div>\n",
              "<style scoped>\n",
              "    .dataframe tbody tr th:only-of-type {\n",
              "        vertical-align: middle;\n",
              "    }\n",
              "\n",
              "    .dataframe tbody tr th {\n",
              "        vertical-align: top;\n",
              "    }\n",
              "\n",
              "    .dataframe thead th {\n",
              "        text-align: right;\n",
              "    }\n",
              "</style>\n",
              "<table border=\"1\" class=\"dataframe\">\n",
              "  <thead>\n",
              "    <tr style=\"text-align: right;\">\n",
              "      <th></th>\n",
              "      <th>CustomerID</th>\n",
              "      <th>Recency</th>\n",
              "      <th>RecencyCluster</th>\n",
              "      <th>Frequency</th>\n",
              "    </tr>\n",
              "  </thead>\n",
              "  <tbody>\n",
              "    <tr>\n",
              "      <th>0</th>\n",
              "      <td>9100002488768.00</td>\n",
              "      <td>123</td>\n",
              "      <td>3</td>\n",
              "      <td>23</td>\n",
              "    </tr>\n",
              "    <tr>\n",
              "      <th>1</th>\n",
              "      <td>9100000301403.00</td>\n",
              "      <td>82</td>\n",
              "      <td>3</td>\n",
              "      <td>37</td>\n",
              "    </tr>\n",
              "    <tr>\n",
              "      <th>2</th>\n",
              "      <td>9100000382303.00</td>\n",
              "      <td>13</td>\n",
              "      <td>3</td>\n",
              "      <td>76</td>\n",
              "    </tr>\n",
              "    <tr>\n",
              "      <th>3</th>\n",
              "      <td>9100000045758.00</td>\n",
              "      <td>54</td>\n",
              "      <td>3</td>\n",
              "      <td>91</td>\n",
              "    </tr>\n",
              "    <tr>\n",
              "      <th>4</th>\n",
              "      <td>9100000190649.00</td>\n",
              "      <td>34</td>\n",
              "      <td>3</td>\n",
              "      <td>104</td>\n",
              "    </tr>\n",
              "    <tr>\n",
              "      <th>...</th>\n",
              "      <td>...</td>\n",
              "      <td>...</td>\n",
              "      <td>...</td>\n",
              "      <td>...</td>\n",
              "    </tr>\n",
              "    <tr>\n",
              "      <th>78439</th>\n",
              "      <td>9100000120783.00</td>\n",
              "      <td>327</td>\n",
              "      <td>1</td>\n",
              "      <td>1</td>\n",
              "    </tr>\n",
              "    <tr>\n",
              "      <th>78440</th>\n",
              "      <td>9100002764206.00</td>\n",
              "      <td>327</td>\n",
              "      <td>1</td>\n",
              "      <td>2</td>\n",
              "    </tr>\n",
              "    <tr>\n",
              "      <th>78441</th>\n",
              "      <td>9100002764251.00</td>\n",
              "      <td>327</td>\n",
              "      <td>1</td>\n",
              "      <td>1</td>\n",
              "    </tr>\n",
              "    <tr>\n",
              "      <th>78442</th>\n",
              "      <td>9100002129510.00</td>\n",
              "      <td>327</td>\n",
              "      <td>1</td>\n",
              "      <td>1</td>\n",
              "    </tr>\n",
              "    <tr>\n",
              "      <th>78443</th>\n",
              "      <td>9100002764268.00</td>\n",
              "      <td>327</td>\n",
              "      <td>1</td>\n",
              "      <td>1</td>\n",
              "    </tr>\n",
              "  </tbody>\n",
              "</table>\n",
              "<p>78444 rows × 4 columns</p>\n",
              "</div>"
            ],
            "text/plain": [
              "            CustomerID  Recency  RecencyCluster  Frequency\n",
              "0     9100002488768.00      123               3         23\n",
              "1     9100000301403.00       82               3         37\n",
              "2     9100000382303.00       13               3         76\n",
              "3     9100000045758.00       54               3         91\n",
              "4     9100000190649.00       34               3        104\n",
              "...                ...      ...             ...        ...\n",
              "78439 9100000120783.00      327               1          1\n",
              "78440 9100002764206.00      327               1          2\n",
              "78441 9100002764251.00      327               1          1\n",
              "78442 9100002129510.00      327               1          1\n",
              "78443 9100002764268.00      327               1          1\n",
              "\n",
              "[78444 rows x 4 columns]"
            ]
          },
          "metadata": {},
          "execution_count": 324
        }
      ]
    },
    {
      "cell_type": "code",
      "source": [
        "fig,axes = plt.subplots(figsize=(16,6))\n",
        "sns.histplot(data=sales_data_user['Frequency'],ax=axes)\n",
        "plt.show()"
      ],
      "metadata": {
        "id": "2r7WelltpwqZ",
        "outputId": "e2e898e6-378f-4267-b3b9-bf87aa6ce82e",
        "colab": {
          "base_uri": "https://localhost:8080/",
          "height": 388
        }
      },
      "execution_count": 325,
      "outputs": [
        {
          "output_type": "display_data",
          "data": {
            "image/png": "[encoded data removed]",
            "text/plain": [
              "<Figure size 1152x432 with 1 Axes>"
            ]
          },
          "metadata": {
            "needs_background": "light"
          }
        }
      ]
    },
    {
      "cell_type": "code",
      "source": [
        "tx_frequency.Frequency.describe()"
      ],
      "metadata": {
        "id": "Orz5uye2qtaL",
        "outputId": "e66ac99d-e273-4e6d-c26a-4b95b58bd98b",
        "colab": {
          "base_uri": "https://localhost:8080/"
        }
      },
      "execution_count": 326,
      "outputs": [
        {
          "output_type": "execute_result",
          "data": {
            "text/plain": [
              "count   78444.00\n",
              "mean       15.06\n",
              "std        29.15\n",
              "min         1.00\n",
              "25%         2.00\n",
              "50%         5.00\n",
              "75%        18.00\n",
              "max      2723.00\n",
              "Name: Frequency, dtype: float64"
            ]
          },
          "metadata": {},
          "execution_count": 326
        }
      ]
    },
    {
      "cell_type": "code",
      "source": [
        "#k-means\n",
        "kmeans = KMeans(n_clusters=4)\n",
        "kmeans.fit(sales_data_user[['Frequency']])\n",
        "sales_data_user['FrequencyCluster'] = kmeans.predict(sales_data_user[['Frequency']])\n",
        "\n",
        "sales_data_user = order_cluster('FrequencyCluster','Frequency',sales_data_user,True)\n",
        "\n",
        "sales_data_user.groupby('FrequencyCluster')['Frequency'].describe()"
      ],
      "metadata": {
        "id": "X4BF4vk5rQrg",
        "outputId": "9364db4d-dc2c-48ff-a254-9ea9d990a2ed",
        "colab": {
          "base_uri": "https://localhost:8080/",
          "height": 206
        }
      },
      "execution_count": 327,
      "outputs": [
        {
          "output_type": "execute_result",
          "data": {
            "text/html": [
              "<div>\n",
              "<style scoped>\n",
              "    .dataframe tbody tr th:only-of-type {\n",
              "        vertical-align: middle;\n",
              "    }\n",
              "\n",
              "    .dataframe tbody tr th {\n",
              "        vertical-align: top;\n",
              "    }\n",
              "\n",
              "    .dataframe thead th {\n",
              "        text-align: right;\n",
              "    }\n",
              "</style>\n",
              "<table border=\"1\" class=\"dataframe\">\n",
              "  <thead>\n",
              "    <tr style=\"text-align: right;\">\n",
              "      <th></th>\n",
              "      <th>count</th>\n",
              "      <th>mean</th>\n",
              "      <th>std</th>\n",
              "      <th>min</th>\n",
              "      <th>25%</th>\n",
              "      <th>50%</th>\n",
              "      <th>75%</th>\n",
              "      <th>max</th>\n",
              "    </tr>\n",
              "    <tr>\n",
              "      <th>FrequencyCluster</th>\n",
              "      <th></th>\n",
              "      <th></th>\n",
              "      <th></th>\n",
              "      <th></th>\n",
              "      <th></th>\n",
              "      <th></th>\n",
              "      <th></th>\n",
              "      <th></th>\n",
              "    </tr>\n",
              "  </thead>\n",
              "  <tbody>\n",
              "    <tr>\n",
              "      <th>0</th>\n",
              "      <td>65244.00</td>\n",
              "      <td>6.36</td>\n",
              "      <td>6.63</td>\n",
              "      <td>1.00</td>\n",
              "      <td>1.00</td>\n",
              "      <td>3.00</td>\n",
              "      <td>10.00</td>\n",
              "      <td>26.00</td>\n",
              "    </tr>\n",
              "    <tr>\n",
              "      <th>1</th>\n",
              "      <td>11606.00</td>\n",
              "      <td>46.55</td>\n",
              "      <td>16.68</td>\n",
              "      <td>27.00</td>\n",
              "      <td>33.00</td>\n",
              "      <td>42.00</td>\n",
              "      <td>57.00</td>\n",
              "      <td>92.00</td>\n",
              "    </tr>\n",
              "    <tr>\n",
              "      <th>2</th>\n",
              "      <td>1591.00</td>\n",
              "      <td>137.94</td>\n",
              "      <td>62.26</td>\n",
              "      <td>93.00</td>\n",
              "      <td>104.00</td>\n",
              "      <td>120.00</td>\n",
              "      <td>149.00</td>\n",
              "      <td>1026.00</td>\n",
              "    </tr>\n",
              "    <tr>\n",
              "      <th>3</th>\n",
              "      <td>3.00</td>\n",
              "      <td>2121.00</td>\n",
              "      <td>549.93</td>\n",
              "      <td>1645.00</td>\n",
              "      <td>1820.00</td>\n",
              "      <td>1995.00</td>\n",
              "      <td>2359.00</td>\n",
              "      <td>2723.00</td>\n",
              "    </tr>\n",
              "  </tbody>\n",
              "</table>\n",
              "</div>"
            ],
            "text/plain": [
              "                    count    mean    std  ...     50%     75%     max\n",
              "FrequencyCluster                          ...                        \n",
              "0                65244.00    6.36   6.63  ...    3.00   10.00   26.00\n",
              "1                11606.00   46.55  16.68  ...   42.00   57.00   92.00\n",
              "2                 1591.00  137.94  62.26  ...  120.00  149.00 1026.00\n",
              "3                    3.00 2121.00 549.93  ... 1995.00 2359.00 2723.00\n",
              "\n",
              "[4 rows x 8 columns]"
            ]
          },
          "metadata": {},
          "execution_count": 327
        }
      ]
    },
    {
      "cell_type": "code",
      "source": [
        "sales_data_user.info()"
      ],
      "metadata": {
        "id": "61THIaXBtr3A",
        "outputId": "f21ea36a-db59-4f52-9365-d781269fb067",
        "colab": {
          "base_uri": "https://localhost:8080/"
        }
      },
      "execution_count": 328,
      "outputs": [
        {
          "output_type": "stream",
          "name": "stdout",
          "text": [
            "<class 'pandas.core.frame.DataFrame'>\n",
            "Int64Index: 78444 entries, 0 to 78443\n",
            "Data columns (total 5 columns):\n",
            " #   Column            Non-Null Count  Dtype  \n",
            "---  ------            --------------  -----  \n",
            " 0   CustomerID        78444 non-null  float64\n",
            " 1   Recency           78444 non-null  int64  \n",
            " 2   RecencyCluster    78444 non-null  int64  \n",
            " 3   Frequency         78444 non-null  int64  \n",
            " 4   FrequencyCluster  78444 non-null  int64  \n",
            "dtypes: float64(1), int64(4)\n",
            "memory usage: 3.6 MB\n"
          ]
        }
      ]
    },
    {
      "cell_type": "code",
      "source": [
        "sales_data_user"
      ],
      "metadata": {
        "id": "r4eROI5rt4z7",
        "outputId": "57242f6b-292e-48f2-cf38-580a31c7fb58",
        "colab": {
          "base_uri": "https://localhost:8080/",
          "height": 423
        }
      },
      "execution_count": 329,
      "outputs": [
        {
          "output_type": "execute_result",
          "data": {
            "text/html": [
              "<div>\n",
              "<style scoped>\n",
              "    .dataframe tbody tr th:only-of-type {\n",
              "        vertical-align: middle;\n",
              "    }\n",
              "\n",
              "    .dataframe tbody tr th {\n",
              "        vertical-align: top;\n",
              "    }\n",
              "\n",
              "    .dataframe thead th {\n",
              "        text-align: right;\n",
              "    }\n",
              "</style>\n",
              "<table border=\"1\" class=\"dataframe\">\n",
              "  <thead>\n",
              "    <tr style=\"text-align: right;\">\n",
              "      <th></th>\n",
              "      <th>CustomerID</th>\n",
              "      <th>Recency</th>\n",
              "      <th>RecencyCluster</th>\n",
              "      <th>Frequency</th>\n",
              "      <th>FrequencyCluster</th>\n",
              "    </tr>\n",
              "  </thead>\n",
              "  <tbody>\n",
              "    <tr>\n",
              "      <th>0</th>\n",
              "      <td>9100002488768.00</td>\n",
              "      <td>123</td>\n",
              "      <td>3</td>\n",
              "      <td>23</td>\n",
              "      <td>0</td>\n",
              "    </tr>\n",
              "    <tr>\n",
              "      <th>1</th>\n",
              "      <td>9100002508831.00</td>\n",
              "      <td>16</td>\n",
              "      <td>3</td>\n",
              "      <td>25</td>\n",
              "      <td>0</td>\n",
              "    </tr>\n",
              "    <tr>\n",
              "      <th>2</th>\n",
              "      <td>9100000183344.00</td>\n",
              "      <td>1</td>\n",
              "      <td>3</td>\n",
              "      <td>9</td>\n",
              "      <td>0</td>\n",
              "    </tr>\n",
              "    <tr>\n",
              "      <th>3</th>\n",
              "      <td>9100001761848.00</td>\n",
              "      <td>61</td>\n",
              "      <td>3</td>\n",
              "      <td>20</td>\n",
              "      <td>0</td>\n",
              "    </tr>\n",
              "    <tr>\n",
              "      <th>4</th>\n",
              "      <td>9100002514344.00</td>\n",
              "      <td>32</td>\n",
              "      <td>3</td>\n",
              "      <td>15</td>\n",
              "      <td>0</td>\n",
              "    </tr>\n",
              "    <tr>\n",
              "      <th>...</th>\n",
              "      <td>...</td>\n",
              "      <td>...</td>\n",
              "      <td>...</td>\n",
              "      <td>...</td>\n",
              "      <td>...</td>\n",
              "    </tr>\n",
              "    <tr>\n",
              "      <th>78439</th>\n",
              "      <td>9100000502619.00</td>\n",
              "      <td>366</td>\n",
              "      <td>1</td>\n",
              "      <td>104</td>\n",
              "      <td>2</td>\n",
              "    </tr>\n",
              "    <tr>\n",
              "      <th>78440</th>\n",
              "      <td>9100000240023.00</td>\n",
              "      <td>349</td>\n",
              "      <td>1</td>\n",
              "      <td>124</td>\n",
              "      <td>2</td>\n",
              "    </tr>\n",
              "    <tr>\n",
              "      <th>78441</th>\n",
              "      <td>9100000092219.00</td>\n",
              "      <td>31</td>\n",
              "      <td>3</td>\n",
              "      <td>1995</td>\n",
              "      <td>3</td>\n",
              "    </tr>\n",
              "    <tr>\n",
              "      <th>78442</th>\n",
              "      <td>9100000300536.00</td>\n",
              "      <td>2</td>\n",
              "      <td>3</td>\n",
              "      <td>1645</td>\n",
              "      <td>3</td>\n",
              "    </tr>\n",
              "    <tr>\n",
              "      <th>78443</th>\n",
              "      <td>9100000624390.00</td>\n",
              "      <td>6</td>\n",
              "      <td>3</td>\n",
              "      <td>2723</td>\n",
              "      <td>3</td>\n",
              "    </tr>\n",
              "  </tbody>\n",
              "</table>\n",
              "<p>78444 rows × 5 columns</p>\n",
              "</div>"
            ],
            "text/plain": [
              "            CustomerID  Recency  RecencyCluster  Frequency  FrequencyCluster\n",
              "0     9100002488768.00      123               3         23                 0\n",
              "1     9100002508831.00       16               3         25                 0\n",
              "2     9100000183344.00        1               3          9                 0\n",
              "3     9100001761848.00       61               3         20                 0\n",
              "4     9100002514344.00       32               3         15                 0\n",
              "...                ...      ...             ...        ...               ...\n",
              "78439 9100000502619.00      366               1        104                 2\n",
              "78440 9100000240023.00      349               1        124                 2\n",
              "78441 9100000092219.00       31               3       1995                 3\n",
              "78442 9100000300536.00        2               3       1645                 3\n",
              "78443 9100000624390.00        6               3       2723                 3\n",
              "\n",
              "[78444 rows x 5 columns]"
            ]
          },
          "metadata": {},
          "execution_count": 329
        }
      ]
    },
    {
      "cell_type": "code",
      "source": [
        "sales_data_user['Frequency'].plot.box()"
      ],
      "metadata": {
        "id": "Yu7v0-nzsbOd",
        "outputId": "ba7a206a-1a1e-463e-b6a5-1640702d4d33",
        "colab": {
          "base_uri": "https://localhost:8080/",
          "height": 282
        }
      },
      "execution_count": 330,
      "outputs": [
        {
          "output_type": "execute_result",
          "data": {
            "text/plain": [
              "<matplotlib.axes._subplots.AxesSubplot at 0x7f899676fb90>"
            ]
          },
          "metadata": {},
          "execution_count": 330
        },
        {
          "output_type": "display_data",
          "data": {
            "image/png": "[encoded data removed]",
            "text/plain": [
              "<Figure size 432x288 with 1 Axes>"
            ]
          },
          "metadata": {
            "needs_background": "light"
          }
        }
      ]
    },
    {
      "cell_type": "code",
      "source": [
        "#抓出異常值\n",
        "lowerbound,highbound = Outlier_treatment(sales_data_user['Frequency'])\n",
        "\n",
        "sales_data_user[(sales_data_user['Frequency']< lowerbound) | (sales_data_user['Frequency']>highbound)]"
      ],
      "metadata": {
        "id": "0hYCwRUktHCu",
        "outputId": "e029b966-969b-4a66-872a-665c89b7f4e4",
        "colab": {
          "base_uri": "https://localhost:8080/",
          "height": 423
        }
      },
      "execution_count": 331,
      "outputs": [
        {
          "output_type": "execute_result",
          "data": {
            "text/html": [
              "<div>\n",
              "<style scoped>\n",
              "    .dataframe tbody tr th:only-of-type {\n",
              "        vertical-align: middle;\n",
              "    }\n",
              "\n",
              "    .dataframe tbody tr th {\n",
              "        vertical-align: top;\n",
              "    }\n",
              "\n",
              "    .dataframe thead th {\n",
              "        text-align: right;\n",
              "    }\n",
              "</style>\n",
              "<table border=\"1\" class=\"dataframe\">\n",
              "  <thead>\n",
              "    <tr style=\"text-align: right;\">\n",
              "      <th></th>\n",
              "      <th>CustomerID</th>\n",
              "      <th>Recency</th>\n",
              "      <th>RecencyCluster</th>\n",
              "      <th>Frequency</th>\n",
              "      <th>FrequencyCluster</th>\n",
              "    </tr>\n",
              "  </thead>\n",
              "  <tbody>\n",
              "    <tr>\n",
              "      <th>65245</th>\n",
              "      <td>9100000382303.00</td>\n",
              "      <td>13</td>\n",
              "      <td>3</td>\n",
              "      <td>76</td>\n",
              "      <td>1</td>\n",
              "    </tr>\n",
              "    <tr>\n",
              "      <th>65246</th>\n",
              "      <td>9100000045758.00</td>\n",
              "      <td>54</td>\n",
              "      <td>3</td>\n",
              "      <td>91</td>\n",
              "      <td>1</td>\n",
              "    </tr>\n",
              "    <tr>\n",
              "      <th>65247</th>\n",
              "      <td>9100002165225.00</td>\n",
              "      <td>103</td>\n",
              "      <td>3</td>\n",
              "      <td>50</td>\n",
              "      <td>1</td>\n",
              "    </tr>\n",
              "    <tr>\n",
              "      <th>65248</th>\n",
              "      <td>9100002432426.00</td>\n",
              "      <td>50</td>\n",
              "      <td>3</td>\n",
              "      <td>63</td>\n",
              "      <td>1</td>\n",
              "    </tr>\n",
              "    <tr>\n",
              "      <th>65250</th>\n",
              "      <td>9100000161946.00</td>\n",
              "      <td>14</td>\n",
              "      <td>3</td>\n",
              "      <td>85</td>\n",
              "      <td>1</td>\n",
              "    </tr>\n",
              "    <tr>\n",
              "      <th>...</th>\n",
              "      <td>...</td>\n",
              "      <td>...</td>\n",
              "      <td>...</td>\n",
              "      <td>...</td>\n",
              "      <td>...</td>\n",
              "    </tr>\n",
              "    <tr>\n",
              "      <th>78439</th>\n",
              "      <td>9100000502619.00</td>\n",
              "      <td>366</td>\n",
              "      <td>1</td>\n",
              "      <td>104</td>\n",
              "      <td>2</td>\n",
              "    </tr>\n",
              "    <tr>\n",
              "      <th>78440</th>\n",
              "      <td>9100000240023.00</td>\n",
              "      <td>349</td>\n",
              "      <td>1</td>\n",
              "      <td>124</td>\n",
              "      <td>2</td>\n",
              "    </tr>\n",
              "    <tr>\n",
              "      <th>78441</th>\n",
              "      <td>9100000092219.00</td>\n",
              "      <td>31</td>\n",
              "      <td>3</td>\n",
              "      <td>1995</td>\n",
              "      <td>3</td>\n",
              "    </tr>\n",
              "    <tr>\n",
              "      <th>78442</th>\n",
              "      <td>9100000300536.00</td>\n",
              "      <td>2</td>\n",
              "      <td>3</td>\n",
              "      <td>1645</td>\n",
              "      <td>3</td>\n",
              "    </tr>\n",
              "    <tr>\n",
              "      <th>78443</th>\n",
              "      <td>9100000624390.00</td>\n",
              "      <td>6</td>\n",
              "      <td>3</td>\n",
              "      <td>2723</td>\n",
              "      <td>3</td>\n",
              "    </tr>\n",
              "  </tbody>\n",
              "</table>\n",
              "<p>7239 rows × 5 columns</p>\n",
              "</div>"
            ],
            "text/plain": [
              "            CustomerID  Recency  RecencyCluster  Frequency  FrequencyCluster\n",
              "65245 9100000382303.00       13               3         76                 1\n",
              "65246 9100000045758.00       54               3         91                 1\n",
              "65247 9100002165225.00      103               3         50                 1\n",
              "65248 9100002432426.00       50               3         63                 1\n",
              "65250 9100000161946.00       14               3         85                 1\n",
              "...                ...      ...             ...        ...               ...\n",
              "78439 9100000502619.00      366               1        104                 2\n",
              "78440 9100000240023.00      349               1        124                 2\n",
              "78441 9100000092219.00       31               3       1995                 3\n",
              "78442 9100000300536.00        2               3       1645                 3\n",
              "78443 9100000624390.00        6               3       2723                 3\n",
              "\n",
              "[7239 rows x 5 columns]"
            ]
          },
          "metadata": {},
          "execution_count": 331
        }
      ]
    },
    {
      "cell_type": "code",
      "source": [
        "sales_data_user.drop(sales_data_user[(sales_data_user['Frequency']< lowerbound) | (sales_data_user['Frequency']> highbound)].index,inplace=True) #去除異常值"
      ],
      "metadata": {
        "id": "NZtLyaAitbsW"
      },
      "execution_count": 332,
      "outputs": []
    },
    {
      "cell_type": "code",
      "source": [
        "sales_data_user['Frequency'].plot.box()"
      ],
      "metadata": {
        "id": "IyIQtLfAudJR",
        "outputId": "9ab1eaf6-9d66-46d1-cb80-4bfdb11c5d45",
        "colab": {
          "base_uri": "https://localhost:8080/",
          "height": 282
        }
      },
      "execution_count": 333,
      "outputs": [
        {
          "output_type": "execute_result",
          "data": {
            "text/plain": [
              "<matplotlib.axes._subplots.AxesSubplot at 0x7f8996508b10>"
            ]
          },
          "metadata": {},
          "execution_count": 333
        },
        {
          "output_type": "display_data",
          "data": {
            "image/png": "[encoded data removed]",
            "text/plain": [
              "<Figure size 432x288 with 1 Axes>"
            ]
          },
          "metadata": {
            "needs_background": "light"
          }
        }
      ]
    },
    {
      "cell_type": "code",
      "source": [
        "#k-means\n",
        "kmeans = KMeans(n_clusters=4)\n",
        "kmeans.fit(sales_data_user[['Frequency']])\n",
        "sales_data_user['FrequencyCluster'] = kmeans.predict(sales_data_user[['Frequency']])\n",
        "\n",
        "sales_data_user = order_cluster('FrequencyCluster','Frequency',sales_data_user,True)\n",
        "\n",
        "sales_data_user.groupby('FrequencyCluster')['Frequency'].describe()"
      ],
      "metadata": {
        "id": "9sHfGBwTufVe",
        "outputId": "fbf76b4e-80ab-4b94-f020-0394c51df5aa",
        "colab": {
          "base_uri": "https://localhost:8080/",
          "height": 206
        }
      },
      "execution_count": 334,
      "outputs": [
        {
          "output_type": "execute_result",
          "data": {
            "text/html": [
              "<div>\n",
              "<style scoped>\n",
              "    .dataframe tbody tr th:only-of-type {\n",
              "        vertical-align: middle;\n",
              "    }\n",
              "\n",
              "    .dataframe tbody tr th {\n",
              "        vertical-align: top;\n",
              "    }\n",
              "\n",
              "    .dataframe thead th {\n",
              "        text-align: right;\n",
              "    }\n",
              "</style>\n",
              "<table border=\"1\" class=\"dataframe\">\n",
              "  <thead>\n",
              "    <tr style=\"text-align: right;\">\n",
              "      <th></th>\n",
              "      <th>count</th>\n",
              "      <th>mean</th>\n",
              "      <th>std</th>\n",
              "      <th>min</th>\n",
              "      <th>25%</th>\n",
              "      <th>50%</th>\n",
              "      <th>75%</th>\n",
              "      <th>max</th>\n",
              "    </tr>\n",
              "    <tr>\n",
              "      <th>FrequencyCluster</th>\n",
              "      <th></th>\n",
              "      <th></th>\n",
              "      <th></th>\n",
              "      <th></th>\n",
              "      <th></th>\n",
              "      <th></th>\n",
              "      <th></th>\n",
              "      <th></th>\n",
              "    </tr>\n",
              "  </thead>\n",
              "  <tbody>\n",
              "    <tr>\n",
              "      <th>0</th>\n",
              "      <td>42753.00</td>\n",
              "      <td>2.27</td>\n",
              "      <td>1.50</td>\n",
              "      <td>1.00</td>\n",
              "      <td>1.00</td>\n",
              "      <td>2.00</td>\n",
              "      <td>3.00</td>\n",
              "      <td>6.00</td>\n",
              "    </tr>\n",
              "    <tr>\n",
              "      <th>1</th>\n",
              "      <td>14067.00</td>\n",
              "      <td>10.39</td>\n",
              "      <td>2.57</td>\n",
              "      <td>7.00</td>\n",
              "      <td>8.00</td>\n",
              "      <td>10.00</td>\n",
              "      <td>13.00</td>\n",
              "      <td>15.00</td>\n",
              "    </tr>\n",
              "    <tr>\n",
              "      <th>2</th>\n",
              "      <td>8950.00</td>\n",
              "      <td>20.77</td>\n",
              "      <td>3.41</td>\n",
              "      <td>16.00</td>\n",
              "      <td>18.00</td>\n",
              "      <td>20.00</td>\n",
              "      <td>24.00</td>\n",
              "      <td>27.00</td>\n",
              "    </tr>\n",
              "    <tr>\n",
              "      <th>3</th>\n",
              "      <td>5435.00</td>\n",
              "      <td>34.13</td>\n",
              "      <td>4.23</td>\n",
              "      <td>28.00</td>\n",
              "      <td>30.00</td>\n",
              "      <td>34.00</td>\n",
              "      <td>38.00</td>\n",
              "      <td>42.00</td>\n",
              "    </tr>\n",
              "  </tbody>\n",
              "</table>\n",
              "</div>"
            ],
            "text/plain": [
              "                    count  mean  std   min   25%   50%   75%   max\n",
              "FrequencyCluster                                                  \n",
              "0                42753.00  2.27 1.50  1.00  1.00  2.00  3.00  6.00\n",
              "1                14067.00 10.39 2.57  7.00  8.00 10.00 13.00 15.00\n",
              "2                 8950.00 20.77 3.41 16.00 18.00 20.00 24.00 27.00\n",
              "3                 5435.00 34.13 4.23 28.00 30.00 34.00 38.00 42.00"
            ]
          },
          "metadata": {},
          "execution_count": 334
        }
      ]
    },
    {
      "cell_type": "code",
      "source": [
        ""
      ],
      "metadata": {
        "id": "UwsQDCmdumQN"
      },
      "execution_count": 334,
      "outputs": []
    }
  ]
}