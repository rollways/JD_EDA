{
  "nbformat": 4,
  "nbformat_minor": 0,
  "metadata": {
    "colab": {
      "name": "EDA.ipynb",
      "provenance": [],
      "mount_file_id": "1UgusiHW-ldyfE65M7UA_EB_j9Ffk8XFD",
      "authorship_tag": "ABX9TyOlqf02certb3cS8EqiburW",
      "include_colab_link": true
    },
    "kernelspec": {
      "name": "python3",
      "display_name": "Python 3"
    },
    "language_info": {
      "name": "python"
    }
  },
  "cells": [
    {
      "cell_type": "markdown",
      "metadata": {
        "id": "view-in-github",
        "colab_type": "text"
      },
      "source": [
        "<a href=\"https://colab.research.google.com/github/rollways/JD_EDA/blob/main/EDA.ipynb\" target=\"_parent\"><img src=\"https://colab.research.google.com/assets/colab-badge.svg\" alt=\"Open In Colab\"/></a>"
      ]
    },
    {
      "cell_type": "code",
      "metadata": {
        "id": "7Mtnsgl61dV4"
      },
      "source": [
        "import pandas as pd"
      ],
      "execution_count": 2,
      "outputs": []
    },
    {
      "cell_type": "code",
      "metadata": {
        "id": "fhI3Q3Uj2Mmo"
      },
      "source": [
        "data = pd.read_csv('/content/drive/MyDrive/T大使/data3_project.csv')"
      ],
      "execution_count": 6,
      "outputs": []
    },
    {
      "cell_type": "code",
      "metadata": {
        "colab": {
          "base_uri": "https://localhost:8080/",
          "height": 206
        },
        "id": "rNHAhVGu2W1A",
        "outputId": "ff28368f-828c-470e-c7ab-6c2f00c23345"
      },
      "source": [
        "data.head(5)"
      ],
      "execution_count": 7,
      "outputs": [
        {
          "output_type": "execute_result",
          "data": {
            "text/html": [
              "<div>\n",
              "<style scoped>\n",
              "    .dataframe tbody tr th:only-of-type {\n",
              "        vertical-align: middle;\n",
              "    }\n",
              "\n",
              "    .dataframe tbody tr th {\n",
              "        vertical-align: top;\n",
              "    }\n",
              "\n",
              "    .dataframe thead th {\n",
              "        text-align: right;\n",
              "    }\n",
              "</style>\n",
              "<table border=\"1\" class=\"dataframe\">\n",
              "  <thead>\n",
              "    <tr style=\"text-align: right;\">\n",
              "      <th></th>\n",
              "      <th>InvoiceNo</th>\n",
              "      <th>StockCode</th>\n",
              "      <th>Description</th>\n",
              "      <th>Quantity</th>\n",
              "      <th>InvoiceDate</th>\n",
              "      <th>UnitPrice</th>\n",
              "      <th>CustomerID</th>\n",
              "      <th>Country</th>\n",
              "      <th>member_start_date</th>\n",
              "      <th>first_trans_date</th>\n",
              "    </tr>\n",
              "  </thead>\n",
              "  <tbody>\n",
              "    <tr>\n",
              "      <th>0</th>\n",
              "      <td>PS5327001158</td>\n",
              "      <td>JA01</td>\n",
              "      <td>晶淬雪潔顏乳100ml</td>\n",
              "      <td>8.0</td>\n",
              "      <td>2019-01-01</td>\n",
              "      <td>1259.0</td>\n",
              "      <td>9.100002e+12</td>\n",
              "      <td>中區</td>\n",
              "      <td>2019-12-09</td>\n",
              "      <td>2018-06-24</td>\n",
              "    </tr>\n",
              "    <tr>\n",
              "      <th>1</th>\n",
              "      <td>PS5335020955</td>\n",
              "      <td>KG06</td>\n",
              "      <td>多肽亮眼乳霜20g-保濕型</td>\n",
              "      <td>8.0</td>\n",
              "      <td>2019-01-01</td>\n",
              "      <td>839.0</td>\n",
              "      <td>9.100003e+12</td>\n",
              "      <td>中區</td>\n",
              "      <td>2018-10-21</td>\n",
              "      <td>2018-10-21</td>\n",
              "    </tr>\n",
              "    <tr>\n",
              "      <th>2</th>\n",
              "      <td>PS5335020955</td>\n",
              "      <td>BJ102</td>\n",
              "      <td>檸檬精油10ml MUI</td>\n",
              "      <td>8.0</td>\n",
              "      <td>2019-01-01</td>\n",
              "      <td>839.0</td>\n",
              "      <td>9.100003e+12</td>\n",
              "      <td>中區</td>\n",
              "      <td>2018-10-21</td>\n",
              "      <td>2018-10-21</td>\n",
              "    </tr>\n",
              "    <tr>\n",
              "      <th>3</th>\n",
              "      <td>PS5335020955</td>\n",
              "      <td>JZA3G1</td>\n",
              "      <td>柚見快樂精油15ml MUI</td>\n",
              "      <td>-8.0</td>\n",
              "      <td>2019-01-01</td>\n",
              "      <td>-1501.0</td>\n",
              "      <td>9.100003e+12</td>\n",
              "      <td>中區</td>\n",
              "      <td>2018-10-21</td>\n",
              "      <td>2018-10-21</td>\n",
              "    </tr>\n",
              "    <tr>\n",
              "      <th>4</th>\n",
              "      <td>PS5444006919</td>\n",
              "      <td>BJ103</td>\n",
              "      <td>細花冬青香氛油10ml MUI</td>\n",
              "      <td>8.0</td>\n",
              "      <td>2019-01-01</td>\n",
              "      <td>672.0</td>\n",
              "      <td>9.100003e+12</td>\n",
              "      <td>南區</td>\n",
              "      <td>2018-12-04</td>\n",
              "      <td>2018-12-04</td>\n",
              "    </tr>\n",
              "  </tbody>\n",
              "</table>\n",
              "</div>"
            ],
            "text/plain": [
              "      InvoiceNo StockCode  ... member_start_date  first_trans_date\n",
              "0  PS5327001158      JA01  ...        2019-12-09        2018-06-24\n",
              "1  PS5335020955      KG06  ...        2018-10-21        2018-10-21\n",
              "2  PS5335020955     BJ102  ...        2018-10-21        2018-10-21\n",
              "3  PS5335020955    JZA3G1  ...        2018-10-21        2018-10-21\n",
              "4  PS5444006919     BJ103  ...        2018-12-04        2018-12-04\n",
              "\n",
              "[5 rows x 10 columns]"
            ]
          },
          "metadata": {},
          "execution_count": 7
        }
      ]
    },
    {
      "cell_type": "code",
      "metadata": {
        "colab": {
          "base_uri": "https://localhost:8080/",
          "height": 327
        },
        "id": "kOMw54WY23jx",
        "outputId": "d032b909-e8a7-4ad7-b6a0-38dc6b4183bc"
      },
      "source": [
        "data.tail(5)"
      ],
      "execution_count": 8,
      "outputs": [
        {
          "output_type": "execute_result",
          "data": {
            "text/html": [
              "<div>\n",
              "<style scoped>\n",
              "    .dataframe tbody tr th:only-of-type {\n",
              "        vertical-align: middle;\n",
              "    }\n",
              "\n",
              "    .dataframe tbody tr th {\n",
              "        vertical-align: top;\n",
              "    }\n",
              "\n",
              "    .dataframe thead th {\n",
              "        text-align: right;\n",
              "    }\n",
              "</style>\n",
              "<table border=\"1\" class=\"dataframe\">\n",
              "  <thead>\n",
              "    <tr style=\"text-align: right;\">\n",
              "      <th></th>\n",
              "      <th>InvoiceNo</th>\n",
              "      <th>StockCode</th>\n",
              "      <th>Description</th>\n",
              "      <th>Quantity</th>\n",
              "      <th>InvoiceDate</th>\n",
              "      <th>UnitPrice</th>\n",
              "      <th>CustomerID</th>\n",
              "      <th>Country</th>\n",
              "      <th>member_start_date</th>\n",
              "      <th>first_trans_date</th>\n",
              "    </tr>\n",
              "  </thead>\n",
              "  <tbody>\n",
              "    <tr>\n",
              "      <th>1404430</th>\n",
              "      <td>PS5324024941</td>\n",
              "      <td>KQ02</td>\n",
              "      <td>玫瑰晶萃活膚液130ml</td>\n",
              "      <td>16.0</td>\n",
              "      <td>2020-12-31</td>\n",
              "      <td>2946.0</td>\n",
              "      <td>9.100001e+12</td>\n",
              "      <td>中區</td>\n",
              "      <td>2010-03-15</td>\n",
              "      <td>2012-07-11</td>\n",
              "    </tr>\n",
              "    <tr>\n",
              "      <th>1404431</th>\n",
              "      <td>PS5219002027</td>\n",
              "      <td>GAXFG1</td>\n",
              "      <td>真正除臭抗菌噴霧(銀離子迷迭香)250ml</td>\n",
              "      <td>8.0</td>\n",
              "      <td>2020-12-31</td>\n",
              "      <td>309.0</td>\n",
              "      <td>9.100003e+12</td>\n",
              "      <td>竹區</td>\n",
              "      <td>2020-12-08</td>\n",
              "      <td>2020-11-26</td>\n",
              "    </tr>\n",
              "    <tr>\n",
              "      <th>1404432</th>\n",
              "      <td>PS5219002027</td>\n",
              "      <td>MAB2G1</td>\n",
              "      <td>BA-5肌密全效噴霧奇蹟水70ml</td>\n",
              "      <td>8.0</td>\n",
              "      <td>2020-12-31</td>\n",
              "      <td>1094.0</td>\n",
              "      <td>9.100003e+12</td>\n",
              "      <td>竹區</td>\n",
              "      <td>2020-12-08</td>\n",
              "      <td>2020-11-26</td>\n",
              "    </tr>\n",
              "    <tr>\n",
              "      <th>1404433</th>\n",
              "      <td>PS5219002027</td>\n",
              "      <td>WD096</td>\n",
              "      <td>緊緻保濕裸膚羽翼面膜25ml-零售單包</td>\n",
              "      <td>16.0</td>\n",
              "      <td>2020-12-31</td>\n",
              "      <td>165.0</td>\n",
              "      <td>9.100003e+12</td>\n",
              "      <td>竹區</td>\n",
              "      <td>2020-12-08</td>\n",
              "      <td>2020-11-26</td>\n",
              "    </tr>\n",
              "    <tr>\n",
              "      <th>1404434</th>\n",
              "      <td>PS5219002028</td>\n",
              "      <td>GAXFG2</td>\n",
              "      <td>真正除臭抗菌噴霧(銀離子迷迭香)350ml</td>\n",
              "      <td>8.0</td>\n",
              "      <td>2020-12-31</td>\n",
              "      <td>441.0</td>\n",
              "      <td>9.100003e+12</td>\n",
              "      <td>竹區</td>\n",
              "      <td>2020-12-23</td>\n",
              "      <td>2020-12-10</td>\n",
              "    </tr>\n",
              "  </tbody>\n",
              "</table>\n",
              "</div>"
            ],
            "text/plain": [
              "            InvoiceNo StockCode  ... member_start_date  first_trans_date\n",
              "1404430  PS5324024941      KQ02  ...        2010-03-15        2012-07-11\n",
              "1404431  PS5219002027    GAXFG1  ...        2020-12-08        2020-11-26\n",
              "1404432  PS5219002027    MAB2G1  ...        2020-12-08        2020-11-26\n",
              "1404433  PS5219002027     WD096  ...        2020-12-08        2020-11-26\n",
              "1404434  PS5219002028    GAXFG2  ...        2020-12-23        2020-12-10\n",
              "\n",
              "[5 rows x 10 columns]"
            ]
          },
          "metadata": {},
          "execution_count": 8
        }
      ]
    },
    {
      "cell_type": "code",
      "metadata": {
        "colab": {
          "base_uri": "https://localhost:8080/"
        },
        "id": "hRP5Ai5G2-ud",
        "outputId": "c04b95d3-090f-4761-f71e-4da51f56f629"
      },
      "source": [
        "data.info()"
      ],
      "execution_count": 9,
      "outputs": [
        {
          "output_type": "stream",
          "name": "stdout",
          "text": [
            "<class 'pandas.core.frame.DataFrame'>\n",
            "RangeIndex: 1404435 entries, 0 to 1404434\n",
            "Data columns (total 10 columns):\n",
            " #   Column             Non-Null Count    Dtype  \n",
            "---  ------             --------------    -----  \n",
            " 0   InvoiceNo          1404435 non-null  object \n",
            " 1   StockCode          1404435 non-null  object \n",
            " 2   Description        1404435 non-null  object \n",
            " 3   Quantity           1404435 non-null  float64\n",
            " 4   InvoiceDate        1404435 non-null  object \n",
            " 5   UnitPrice          1404435 non-null  float64\n",
            " 6   CustomerID         1403724 non-null  float64\n",
            " 7   Country            1404435 non-null  object \n",
            " 8   member_start_date  1366651 non-null  object \n",
            " 9   first_trans_date   1400412 non-null  object \n",
            "dtypes: float64(3), object(7)\n",
            "memory usage: 107.2+ MB\n"
          ]
        }
      ]
    },
    {
      "cell_type": "code",
      "metadata": {
        "colab": {
          "base_uri": "https://localhost:8080/"
        },
        "id": "P_4V6M9r32Cs",
        "outputId": "97fd7aff-985c-41ea-f7f1-3a5fa00658cf"
      },
      "source": [
        "data.shape"
      ],
      "execution_count": 10,
      "outputs": [
        {
          "output_type": "execute_result",
          "data": {
            "text/plain": [
              "(1404435, 10)"
            ]
          },
          "metadata": {},
          "execution_count": 10
        }
      ]
    },
    {
      "cell_type": "code",
      "metadata": {
        "colab": {
          "base_uri": "https://localhost:8080/"
        },
        "id": "kFlw2_We4GRq",
        "outputId": "43149e39-7590-4c4a-c8bb-a39fc095388f"
      },
      "source": [
        "data.Description.value_counts()"
      ],
      "execution_count": 12,
      "outputs": [
        {
          "output_type": "execute_result",
          "data": {
            "text/plain": [
              "全背順氣活力SPA課程單堂         58636\n",
              "清除環境中腸病毒濕紙巾10抽        52599\n",
              "plus5智頻美塑儀課程單堂        46660\n",
              "(新)溫熱刮痧課程單堂           34129\n",
              "全身健康優化SPA課程單堂         33770\n",
              "                      ...  \n",
              "溫感緊緻輕盈(內)褲-黑色M            1\n",
              "背部淨化涵氧SPA課程單堂             1\n",
              "漫波熱塑胸膜單堂                  1\n",
              "精準無痕BOTOX(單堂會員)30U        1\n",
              "臉部刮痧單堂                    1\n",
              "Name: Description, Length: 870, dtype: int64"
            ]
          },
          "metadata": {},
          "execution_count": 12
        }
      ]
    },
    {
      "cell_type": "code",
      "metadata": {
        "colab": {
          "base_uri": "https://localhost:8080/"
        },
        "id": "zzyu1rYI5SgC",
        "outputId": "8599e2e7-bcef-4b36-e4aa-2d8ebe11786d"
      },
      "source": [
        "data.Country.value_counts()"
      ],
      "execution_count": 13,
      "outputs": [
        {
          "output_type": "execute_result",
          "data": {
            "text/plain": [
              "中區      286162\n",
              "高屏全區    240244\n",
              "台北A區    215051\n",
              "台北B區    206350\n",
              "南區      154843\n",
              "竹區      147998\n",
              "彰雲區     138562\n",
              "佐登微爾      8108\n",
              "總管理處      7117\n",
              "Name: Country, dtype: int64"
            ]
          },
          "metadata": {},
          "execution_count": 13
        }
      ]
    },
    {
      "cell_type": "code",
      "metadata": {
        "colab": {
          "base_uri": "https://localhost:8080/",
          "height": 423
        },
        "id": "KZUz169j4trE",
        "outputId": "6250369c-354c-4bc3-8d1d-39f89b2c0d9d"
      },
      "source": [
        "data[['StockCode','Description','Quantity','InvoiceDate','UnitPrice']]"
      ],
      "execution_count": 14,
      "outputs": [
        {
          "output_type": "execute_result",
          "data": {
            "text/html": [
              "<div>\n",
              "<style scoped>\n",
              "    .dataframe tbody tr th:only-of-type {\n",
              "        vertical-align: middle;\n",
              "    }\n",
              "\n",
              "    .dataframe tbody tr th {\n",
              "        vertical-align: top;\n",
              "    }\n",
              "\n",
              "    .dataframe thead th {\n",
              "        text-align: right;\n",
              "    }\n",
              "</style>\n",
              "<table border=\"1\" class=\"dataframe\">\n",
              "  <thead>\n",
              "    <tr style=\"text-align: right;\">\n",
              "      <th></th>\n",
              "      <th>StockCode</th>\n",
              "      <th>Description</th>\n",
              "      <th>Quantity</th>\n",
              "      <th>InvoiceDate</th>\n",
              "      <th>UnitPrice</th>\n",
              "    </tr>\n",
              "  </thead>\n",
              "  <tbody>\n",
              "    <tr>\n",
              "      <th>0</th>\n",
              "      <td>JA01</td>\n",
              "      <td>晶淬雪潔顏乳100ml</td>\n",
              "      <td>8.0</td>\n",
              "      <td>2019-01-01</td>\n",
              "      <td>1259.0</td>\n",
              "    </tr>\n",
              "    <tr>\n",
              "      <th>1</th>\n",
              "      <td>KG06</td>\n",
              "      <td>多肽亮眼乳霜20g-保濕型</td>\n",
              "      <td>8.0</td>\n",
              "      <td>2019-01-01</td>\n",
              "      <td>839.0</td>\n",
              "    </tr>\n",
              "    <tr>\n",
              "      <th>2</th>\n",
              "      <td>BJ102</td>\n",
              "      <td>檸檬精油10ml MUI</td>\n",
              "      <td>8.0</td>\n",
              "      <td>2019-01-01</td>\n",
              "      <td>839.0</td>\n",
              "    </tr>\n",
              "    <tr>\n",
              "      <th>3</th>\n",
              "      <td>JZA3G1</td>\n",
              "      <td>柚見快樂精油15ml MUI</td>\n",
              "      <td>-8.0</td>\n",
              "      <td>2019-01-01</td>\n",
              "      <td>-1501.0</td>\n",
              "    </tr>\n",
              "    <tr>\n",
              "      <th>4</th>\n",
              "      <td>BJ103</td>\n",
              "      <td>細花冬青香氛油10ml MUI</td>\n",
              "      <td>8.0</td>\n",
              "      <td>2019-01-01</td>\n",
              "      <td>672.0</td>\n",
              "    </tr>\n",
              "    <tr>\n",
              "      <th>...</th>\n",
              "      <td>...</td>\n",
              "      <td>...</td>\n",
              "      <td>...</td>\n",
              "      <td>...</td>\n",
              "      <td>...</td>\n",
              "    </tr>\n",
              "    <tr>\n",
              "      <th>1404430</th>\n",
              "      <td>KQ02</td>\n",
              "      <td>玫瑰晶萃活膚液130ml</td>\n",
              "      <td>16.0</td>\n",
              "      <td>2020-12-31</td>\n",
              "      <td>2946.0</td>\n",
              "    </tr>\n",
              "    <tr>\n",
              "      <th>1404431</th>\n",
              "      <td>GAXFG1</td>\n",
              "      <td>真正除臭抗菌噴霧(銀離子迷迭香)250ml</td>\n",
              "      <td>8.0</td>\n",
              "      <td>2020-12-31</td>\n",
              "      <td>309.0</td>\n",
              "    </tr>\n",
              "    <tr>\n",
              "      <th>1404432</th>\n",
              "      <td>MAB2G1</td>\n",
              "      <td>BA-5肌密全效噴霧奇蹟水70ml</td>\n",
              "      <td>8.0</td>\n",
              "      <td>2020-12-31</td>\n",
              "      <td>1094.0</td>\n",
              "    </tr>\n",
              "    <tr>\n",
              "      <th>1404433</th>\n",
              "      <td>WD096</td>\n",
              "      <td>緊緻保濕裸膚羽翼面膜25ml-零售單包</td>\n",
              "      <td>16.0</td>\n",
              "      <td>2020-12-31</td>\n",
              "      <td>165.0</td>\n",
              "    </tr>\n",
              "    <tr>\n",
              "      <th>1404434</th>\n",
              "      <td>GAXFG2</td>\n",
              "      <td>真正除臭抗菌噴霧(銀離子迷迭香)350ml</td>\n",
              "      <td>8.0</td>\n",
              "      <td>2020-12-31</td>\n",
              "      <td>441.0</td>\n",
              "    </tr>\n",
              "  </tbody>\n",
              "</table>\n",
              "<p>1404435 rows × 5 columns</p>\n",
              "</div>"
            ],
            "text/plain": [
              "        StockCode            Description  Quantity InvoiceDate  UnitPrice\n",
              "0            JA01            晶淬雪潔顏乳100ml       8.0  2019-01-01     1259.0\n",
              "1            KG06          多肽亮眼乳霜20g-保濕型       8.0  2019-01-01      839.0\n",
              "2           BJ102           檸檬精油10ml MUI       8.0  2019-01-01      839.0\n",
              "3          JZA3G1         柚見快樂精油15ml MUI      -8.0  2019-01-01    -1501.0\n",
              "4           BJ103        細花冬青香氛油10ml MUI       8.0  2019-01-01      672.0\n",
              "...           ...                    ...       ...         ...        ...\n",
              "1404430      KQ02           玫瑰晶萃活膚液130ml      16.0  2020-12-31     2946.0\n",
              "1404431    GAXFG1  真正除臭抗菌噴霧(銀離子迷迭香)250ml       8.0  2020-12-31      309.0\n",
              "1404432    MAB2G1      BA-5肌密全效噴霧奇蹟水70ml       8.0  2020-12-31     1094.0\n",
              "1404433     WD096    緊緻保濕裸膚羽翼面膜25ml-零售單包      16.0  2020-12-31      165.0\n",
              "1404434    GAXFG2  真正除臭抗菌噴霧(銀離子迷迭香)350ml       8.0  2020-12-31      441.0\n",
              "\n",
              "[1404435 rows x 5 columns]"
            ]
          },
          "metadata": {},
          "execution_count": 14
        }
      ]
    },
    {
      "cell_type": "code",
      "metadata": {
        "colab": {
          "base_uri": "https://localhost:8080/",
          "height": 597
        },
        "id": "7sBMO2E46QOJ",
        "outputId": "9e2666cf-24dd-4fba-c2e9-a07446ccfe6b"
      },
      "source": [
        "data[data['Quantity']>2]"
      ],
      "execution_count": 15,
      "outputs": [
        {
          "output_type": "execute_result",
          "data": {
            "text/html": [
              "<div>\n",
              "<style scoped>\n",
              "    .dataframe tbody tr th:only-of-type {\n",
              "        vertical-align: middle;\n",
              "    }\n",
              "\n",
              "    .dataframe tbody tr th {\n",
              "        vertical-align: top;\n",
              "    }\n",
              "\n",
              "    .dataframe thead th {\n",
              "        text-align: right;\n",
              "    }\n",
              "</style>\n",
              "<table border=\"1\" class=\"dataframe\">\n",
              "  <thead>\n",
              "    <tr style=\"text-align: right;\">\n",
              "      <th></th>\n",
              "      <th>InvoiceNo</th>\n",
              "      <th>StockCode</th>\n",
              "      <th>Description</th>\n",
              "      <th>Quantity</th>\n",
              "      <th>InvoiceDate</th>\n",
              "      <th>UnitPrice</th>\n",
              "      <th>CustomerID</th>\n",
              "      <th>Country</th>\n",
              "      <th>member_start_date</th>\n",
              "      <th>first_trans_date</th>\n",
              "    </tr>\n",
              "  </thead>\n",
              "  <tbody>\n",
              "    <tr>\n",
              "      <th>0</th>\n",
              "      <td>PS5327001158</td>\n",
              "      <td>JA01</td>\n",
              "      <td>晶淬雪潔顏乳100ml</td>\n",
              "      <td>8.0</td>\n",
              "      <td>2019-01-01</td>\n",
              "      <td>1259.0</td>\n",
              "      <td>9.100002e+12</td>\n",
              "      <td>中區</td>\n",
              "      <td>2019-12-09</td>\n",
              "      <td>2018-06-24</td>\n",
              "    </tr>\n",
              "    <tr>\n",
              "      <th>1</th>\n",
              "      <td>PS5335020955</td>\n",
              "      <td>KG06</td>\n",
              "      <td>多肽亮眼乳霜20g-保濕型</td>\n",
              "      <td>8.0</td>\n",
              "      <td>2019-01-01</td>\n",
              "      <td>839.0</td>\n",
              "      <td>9.100003e+12</td>\n",
              "      <td>中區</td>\n",
              "      <td>2018-10-21</td>\n",
              "      <td>2018-10-21</td>\n",
              "    </tr>\n",
              "    <tr>\n",
              "      <th>2</th>\n",
              "      <td>PS5335020955</td>\n",
              "      <td>BJ102</td>\n",
              "      <td>檸檬精油10ml MUI</td>\n",
              "      <td>8.0</td>\n",
              "      <td>2019-01-01</td>\n",
              "      <td>839.0</td>\n",
              "      <td>9.100003e+12</td>\n",
              "      <td>中區</td>\n",
              "      <td>2018-10-21</td>\n",
              "      <td>2018-10-21</td>\n",
              "    </tr>\n",
              "    <tr>\n",
              "      <th>4</th>\n",
              "      <td>PS5444006919</td>\n",
              "      <td>BJ103</td>\n",
              "      <td>細花冬青香氛油10ml MUI</td>\n",
              "      <td>8.0</td>\n",
              "      <td>2019-01-01</td>\n",
              "      <td>672.0</td>\n",
              "      <td>9.100003e+12</td>\n",
              "      <td>南區</td>\n",
              "      <td>2018-12-04</td>\n",
              "      <td>2018-12-04</td>\n",
              "    </tr>\n",
              "    <tr>\n",
              "      <th>5</th>\n",
              "      <td>PS5444006920</td>\n",
              "      <td>K8018</td>\n",
              "      <td>植粹養護潤髮乳475ml</td>\n",
              "      <td>8.0</td>\n",
              "      <td>2019-01-01</td>\n",
              "      <td>549.0</td>\n",
              "      <td>9.100002e+12</td>\n",
              "      <td>南區</td>\n",
              "      <td>2017-12-19</td>\n",
              "      <td>2017-12-19</td>\n",
              "    </tr>\n",
              "    <tr>\n",
              "      <th>...</th>\n",
              "      <td>...</td>\n",
              "      <td>...</td>\n",
              "      <td>...</td>\n",
              "      <td>...</td>\n",
              "      <td>...</td>\n",
              "      <td>...</td>\n",
              "      <td>...</td>\n",
              "      <td>...</td>\n",
              "      <td>...</td>\n",
              "      <td>...</td>\n",
              "    </tr>\n",
              "    <tr>\n",
              "      <th>1404430</th>\n",
              "      <td>PS5324024941</td>\n",
              "      <td>KQ02</td>\n",
              "      <td>玫瑰晶萃活膚液130ml</td>\n",
              "      <td>16.0</td>\n",
              "      <td>2020-12-31</td>\n",
              "      <td>2946.0</td>\n",
              "      <td>9.100001e+12</td>\n",
              "      <td>中區</td>\n",
              "      <td>2010-03-15</td>\n",
              "      <td>2012-07-11</td>\n",
              "    </tr>\n",
              "    <tr>\n",
              "      <th>1404431</th>\n",
              "      <td>PS5219002027</td>\n",
              "      <td>GAXFG1</td>\n",
              "      <td>真正除臭抗菌噴霧(銀離子迷迭香)250ml</td>\n",
              "      <td>8.0</td>\n",
              "      <td>2020-12-31</td>\n",
              "      <td>309.0</td>\n",
              "      <td>9.100003e+12</td>\n",
              "      <td>竹區</td>\n",
              "      <td>2020-12-08</td>\n",
              "      <td>2020-11-26</td>\n",
              "    </tr>\n",
              "    <tr>\n",
              "      <th>1404432</th>\n",
              "      <td>PS5219002027</td>\n",
              "      <td>MAB2G1</td>\n",
              "      <td>BA-5肌密全效噴霧奇蹟水70ml</td>\n",
              "      <td>8.0</td>\n",
              "      <td>2020-12-31</td>\n",
              "      <td>1094.0</td>\n",
              "      <td>9.100003e+12</td>\n",
              "      <td>竹區</td>\n",
              "      <td>2020-12-08</td>\n",
              "      <td>2020-11-26</td>\n",
              "    </tr>\n",
              "    <tr>\n",
              "      <th>1404433</th>\n",
              "      <td>PS5219002027</td>\n",
              "      <td>WD096</td>\n",
              "      <td>緊緻保濕裸膚羽翼面膜25ml-零售單包</td>\n",
              "      <td>16.0</td>\n",
              "      <td>2020-12-31</td>\n",
              "      <td>165.0</td>\n",
              "      <td>9.100003e+12</td>\n",
              "      <td>竹區</td>\n",
              "      <td>2020-12-08</td>\n",
              "      <td>2020-11-26</td>\n",
              "    </tr>\n",
              "    <tr>\n",
              "      <th>1404434</th>\n",
              "      <td>PS5219002028</td>\n",
              "      <td>GAXFG2</td>\n",
              "      <td>真正除臭抗菌噴霧(銀離子迷迭香)350ml</td>\n",
              "      <td>8.0</td>\n",
              "      <td>2020-12-31</td>\n",
              "      <td>441.0</td>\n",
              "      <td>9.100003e+12</td>\n",
              "      <td>竹區</td>\n",
              "      <td>2020-12-23</td>\n",
              "      <td>2020-12-10</td>\n",
              "    </tr>\n",
              "  </tbody>\n",
              "</table>\n",
              "<p>1397796 rows × 10 columns</p>\n",
              "</div>"
            ],
            "text/plain": [
              "            InvoiceNo StockCode  ... member_start_date  first_trans_date\n",
              "0        PS5327001158      JA01  ...        2019-12-09        2018-06-24\n",
              "1        PS5335020955      KG06  ...        2018-10-21        2018-10-21\n",
              "2        PS5335020955     BJ102  ...        2018-10-21        2018-10-21\n",
              "4        PS5444006919     BJ103  ...        2018-12-04        2018-12-04\n",
              "5        PS5444006920     K8018  ...        2017-12-19        2017-12-19\n",
              "...               ...       ...  ...               ...               ...\n",
              "1404430  PS5324024941      KQ02  ...        2010-03-15        2012-07-11\n",
              "1404431  PS5219002027    GAXFG1  ...        2020-12-08        2020-11-26\n",
              "1404432  PS5219002027    MAB2G1  ...        2020-12-08        2020-11-26\n",
              "1404433  PS5219002027     WD096  ...        2020-12-08        2020-11-26\n",
              "1404434  PS5219002028    GAXFG2  ...        2020-12-23        2020-12-10\n",
              "\n",
              "[1397796 rows x 10 columns]"
            ]
          },
          "metadata": {},
          "execution_count": 15
        }
      ]
    },
    {
      "cell_type": "code",
      "metadata": {
        "colab": {
          "base_uri": "https://localhost:8080/",
          "height": 423
        },
        "id": "Z_Xae0VO6kGj",
        "outputId": "e6880a00-793c-4184-c9f0-82fabbe0eec5"
      },
      "source": [
        "data1 = data[['StockCode','Description','Quantity','InvoiceDate','UnitPrice']]\n",
        "data1[data1['Quantity']>2]"
      ],
      "execution_count": 17,
      "outputs": [
        {
          "output_type": "execute_result",
          "data": {
            "text/html": [
              "<div>\n",
              "<style scoped>\n",
              "    .dataframe tbody tr th:only-of-type {\n",
              "        vertical-align: middle;\n",
              "    }\n",
              "\n",
              "    .dataframe tbody tr th {\n",
              "        vertical-align: top;\n",
              "    }\n",
              "\n",
              "    .dataframe thead th {\n",
              "        text-align: right;\n",
              "    }\n",
              "</style>\n",
              "<table border=\"1\" class=\"dataframe\">\n",
              "  <thead>\n",
              "    <tr style=\"text-align: right;\">\n",
              "      <th></th>\n",
              "      <th>StockCode</th>\n",
              "      <th>Description</th>\n",
              "      <th>Quantity</th>\n",
              "      <th>InvoiceDate</th>\n",
              "      <th>UnitPrice</th>\n",
              "    </tr>\n",
              "  </thead>\n",
              "  <tbody>\n",
              "    <tr>\n",
              "      <th>0</th>\n",
              "      <td>JA01</td>\n",
              "      <td>晶淬雪潔顏乳100ml</td>\n",
              "      <td>8.0</td>\n",
              "      <td>2019-01-01</td>\n",
              "      <td>1259.0</td>\n",
              "    </tr>\n",
              "    <tr>\n",
              "      <th>1</th>\n",
              "      <td>KG06</td>\n",
              "      <td>多肽亮眼乳霜20g-保濕型</td>\n",
              "      <td>8.0</td>\n",
              "      <td>2019-01-01</td>\n",
              "      <td>839.0</td>\n",
              "    </tr>\n",
              "    <tr>\n",
              "      <th>2</th>\n",
              "      <td>BJ102</td>\n",
              "      <td>檸檬精油10ml MUI</td>\n",
              "      <td>8.0</td>\n",
              "      <td>2019-01-01</td>\n",
              "      <td>839.0</td>\n",
              "    </tr>\n",
              "    <tr>\n",
              "      <th>4</th>\n",
              "      <td>BJ103</td>\n",
              "      <td>細花冬青香氛油10ml MUI</td>\n",
              "      <td>8.0</td>\n",
              "      <td>2019-01-01</td>\n",
              "      <td>672.0</td>\n",
              "    </tr>\n",
              "    <tr>\n",
              "      <th>5</th>\n",
              "      <td>K8018</td>\n",
              "      <td>植粹養護潤髮乳475ml</td>\n",
              "      <td>8.0</td>\n",
              "      <td>2019-01-01</td>\n",
              "      <td>549.0</td>\n",
              "    </tr>\n",
              "    <tr>\n",
              "      <th>...</th>\n",
              "      <td>...</td>\n",
              "      <td>...</td>\n",
              "      <td>...</td>\n",
              "      <td>...</td>\n",
              "      <td>...</td>\n",
              "    </tr>\n",
              "    <tr>\n",
              "      <th>1404430</th>\n",
              "      <td>KQ02</td>\n",
              "      <td>玫瑰晶萃活膚液130ml</td>\n",
              "      <td>16.0</td>\n",
              "      <td>2020-12-31</td>\n",
              "      <td>2946.0</td>\n",
              "    </tr>\n",
              "    <tr>\n",
              "      <th>1404431</th>\n",
              "      <td>GAXFG1</td>\n",
              "      <td>真正除臭抗菌噴霧(銀離子迷迭香)250ml</td>\n",
              "      <td>8.0</td>\n",
              "      <td>2020-12-31</td>\n",
              "      <td>309.0</td>\n",
              "    </tr>\n",
              "    <tr>\n",
              "      <th>1404432</th>\n",
              "      <td>MAB2G1</td>\n",
              "      <td>BA-5肌密全效噴霧奇蹟水70ml</td>\n",
              "      <td>8.0</td>\n",
              "      <td>2020-12-31</td>\n",
              "      <td>1094.0</td>\n",
              "    </tr>\n",
              "    <tr>\n",
              "      <th>1404433</th>\n",
              "      <td>WD096</td>\n",
              "      <td>緊緻保濕裸膚羽翼面膜25ml-零售單包</td>\n",
              "      <td>16.0</td>\n",
              "      <td>2020-12-31</td>\n",
              "      <td>165.0</td>\n",
              "    </tr>\n",
              "    <tr>\n",
              "      <th>1404434</th>\n",
              "      <td>GAXFG2</td>\n",
              "      <td>真正除臭抗菌噴霧(銀離子迷迭香)350ml</td>\n",
              "      <td>8.0</td>\n",
              "      <td>2020-12-31</td>\n",
              "      <td>441.0</td>\n",
              "    </tr>\n",
              "  </tbody>\n",
              "</table>\n",
              "<p>1397796 rows × 5 columns</p>\n",
              "</div>"
            ],
            "text/plain": [
              "        StockCode            Description  Quantity InvoiceDate  UnitPrice\n",
              "0            JA01            晶淬雪潔顏乳100ml       8.0  2019-01-01     1259.0\n",
              "1            KG06          多肽亮眼乳霜20g-保濕型       8.0  2019-01-01      839.0\n",
              "2           BJ102           檸檬精油10ml MUI       8.0  2019-01-01      839.0\n",
              "4           BJ103        細花冬青香氛油10ml MUI       8.0  2019-01-01      672.0\n",
              "5           K8018           植粹養護潤髮乳475ml       8.0  2019-01-01      549.0\n",
              "...           ...                    ...       ...         ...        ...\n",
              "1404430      KQ02           玫瑰晶萃活膚液130ml      16.0  2020-12-31     2946.0\n",
              "1404431    GAXFG1  真正除臭抗菌噴霧(銀離子迷迭香)250ml       8.0  2020-12-31      309.0\n",
              "1404432    MAB2G1      BA-5肌密全效噴霧奇蹟水70ml       8.0  2020-12-31     1094.0\n",
              "1404433     WD096    緊緻保濕裸膚羽翼面膜25ml-零售單包      16.0  2020-12-31      165.0\n",
              "1404434    GAXFG2  真正除臭抗菌噴霧(銀離子迷迭香)350ml       8.0  2020-12-31      441.0\n",
              "\n",
              "[1397796 rows x 5 columns]"
            ]
          },
          "metadata": {},
          "execution_count": 17
        }
      ]
    },
    {
      "cell_type": "code",
      "metadata": {
        "colab": {
          "base_uri": "https://localhost:8080/"
        },
        "id": "IJx-ZNNs7yH9",
        "outputId": "361f2380-6669-4ea0-b07a-3e41dc4a6ea0"
      },
      "source": [
        "data.iloc[1000]"
      ],
      "execution_count": 19,
      "outputs": [
        {
          "output_type": "execute_result",
          "data": {
            "text/plain": [
              "InvoiceNo            PS5444006925\n",
              "StockCode                 HB89A01\n",
              "Description           頭部活氧熱舒壓課程單堂\n",
              "Quantity                        8\n",
              "InvoiceDate            2019-01-02\n",
              "UnitPrice                     848\n",
              "CustomerID                9.1e+12\n",
              "Country                        南區\n",
              "member_start_date      2013-04-26\n",
              "first_trans_date       2013-04-20\n",
              "Name: 1000, dtype: object"
            ]
          },
          "metadata": {},
          "execution_count": 19
        }
      ]
    },
    {
      "cell_type": "code",
      "metadata": {
        "colab": {
          "base_uri": "https://localhost:8080/"
        },
        "id": "pnC_2GcB8g_E",
        "outputId": "33e8d93d-5063-4ed0-e133-a63a7194236e"
      },
      "source": [
        "data[['CustomerID','Description']].iloc[1000]"
      ],
      "execution_count": 22,
      "outputs": [
        {
          "output_type": "execute_result",
          "data": {
            "text/plain": [
              "CustomerID         9.1e+12\n",
              "Description    頭部活氧熱舒壓課程單堂\n",
              "Name: 1000, dtype: object"
            ]
          },
          "metadata": {},
          "execution_count": 22
        }
      ]
    },
    {
      "cell_type": "code",
      "metadata": {
        "colab": {
          "base_uri": "https://localhost:8080/",
          "height": 174
        },
        "id": "QNB7Uu6R896W",
        "outputId": "b1249355-90eb-4ce2-b643-a1386a877708"
      },
      "source": [
        "data.iloc[1:5]"
      ],
      "execution_count": 23,
      "outputs": [
        {
          "output_type": "execute_result",
          "data": {
            "text/html": [
              "<div>\n",
              "<style scoped>\n",
              "    .dataframe tbody tr th:only-of-type {\n",
              "        vertical-align: middle;\n",
              "    }\n",
              "\n",
              "    .dataframe tbody tr th {\n",
              "        vertical-align: top;\n",
              "    }\n",
              "\n",
              "    .dataframe thead th {\n",
              "        text-align: right;\n",
              "    }\n",
              "</style>\n",
              "<table border=\"1\" class=\"dataframe\">\n",
              "  <thead>\n",
              "    <tr style=\"text-align: right;\">\n",
              "      <th></th>\n",
              "      <th>InvoiceNo</th>\n",
              "      <th>StockCode</th>\n",
              "      <th>Description</th>\n",
              "      <th>Quantity</th>\n",
              "      <th>InvoiceDate</th>\n",
              "      <th>UnitPrice</th>\n",
              "      <th>CustomerID</th>\n",
              "      <th>Country</th>\n",
              "      <th>member_start_date</th>\n",
              "      <th>first_trans_date</th>\n",
              "    </tr>\n",
              "  </thead>\n",
              "  <tbody>\n",
              "    <tr>\n",
              "      <th>1</th>\n",
              "      <td>PS5335020955</td>\n",
              "      <td>KG06</td>\n",
              "      <td>多肽亮眼乳霜20g-保濕型</td>\n",
              "      <td>8.0</td>\n",
              "      <td>2019-01-01</td>\n",
              "      <td>839.0</td>\n",
              "      <td>9.100003e+12</td>\n",
              "      <td>中區</td>\n",
              "      <td>2018-10-21</td>\n",
              "      <td>2018-10-21</td>\n",
              "    </tr>\n",
              "    <tr>\n",
              "      <th>2</th>\n",
              "      <td>PS5335020955</td>\n",
              "      <td>BJ102</td>\n",
              "      <td>檸檬精油10ml MUI</td>\n",
              "      <td>8.0</td>\n",
              "      <td>2019-01-01</td>\n",
              "      <td>839.0</td>\n",
              "      <td>9.100003e+12</td>\n",
              "      <td>中區</td>\n",
              "      <td>2018-10-21</td>\n",
              "      <td>2018-10-21</td>\n",
              "    </tr>\n",
              "    <tr>\n",
              "      <th>3</th>\n",
              "      <td>PS5335020955</td>\n",
              "      <td>JZA3G1</td>\n",
              "      <td>柚見快樂精油15ml MUI</td>\n",
              "      <td>-8.0</td>\n",
              "      <td>2019-01-01</td>\n",
              "      <td>-1501.0</td>\n",
              "      <td>9.100003e+12</td>\n",
              "      <td>中區</td>\n",
              "      <td>2018-10-21</td>\n",
              "      <td>2018-10-21</td>\n",
              "    </tr>\n",
              "    <tr>\n",
              "      <th>4</th>\n",
              "      <td>PS5444006919</td>\n",
              "      <td>BJ103</td>\n",
              "      <td>細花冬青香氛油10ml MUI</td>\n",
              "      <td>8.0</td>\n",
              "      <td>2019-01-01</td>\n",
              "      <td>672.0</td>\n",
              "      <td>9.100003e+12</td>\n",
              "      <td>南區</td>\n",
              "      <td>2018-12-04</td>\n",
              "      <td>2018-12-04</td>\n",
              "    </tr>\n",
              "  </tbody>\n",
              "</table>\n",
              "</div>"
            ],
            "text/plain": [
              "      InvoiceNo StockCode  ... member_start_date  first_trans_date\n",
              "1  PS5335020955      KG06  ...        2018-10-21        2018-10-21\n",
              "2  PS5335020955     BJ102  ...        2018-10-21        2018-10-21\n",
              "3  PS5335020955    JZA3G1  ...        2018-10-21        2018-10-21\n",
              "4  PS5444006919     BJ103  ...        2018-12-04        2018-12-04\n",
              "\n",
              "[4 rows x 10 columns]"
            ]
          },
          "metadata": {},
          "execution_count": 23
        }
      ]
    },
    {
      "cell_type": "code",
      "metadata": {
        "id": "gS-gZVKw9Tbi"
      },
      "source": [
        ""
      ],
      "execution_count": null,
      "outputs": []
    }
  ]
}